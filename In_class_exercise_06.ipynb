{
  "nbformat": 4,
  "nbformat_minor": 0,
  "metadata": {
    "colab": {
      "name": "In_class_exercise_06.ipynb",
      "provenance": [],
      "collapsed_sections": [],
      "toc_visible": true,
      "include_colab_link": true
    },
    "kernelspec": {
      "display_name": "Python 3",
      "language": "python",
      "name": "python3"
    },
    "language_info": {
      "codemirror_mode": {
        "name": "ipython",
        "version": 3
      },
      "file_extension": ".py",
      "mimetype": "text/x-python",
      "name": "python",
      "nbconvert_exporter": "python",
      "pygments_lexer": "ipython3",
      "version": "3.8.5"
    }
  },
  "cells": [
    {
      "cell_type": "markdown",
      "metadata": {
        "id": "view-in-github",
        "colab_type": "text"
      },
      "source": [
        "<a href=\"https://colab.research.google.com/github/pujangrg1/pujan_INFO5731_Spring2020/blob/main/In_class_exercise_06.ipynb\" target=\"_parent\"><img src=\"https://colab.research.google.com/assets/colab-badge.svg\" alt=\"Open In Colab\"/></a>"
      ]
    },
    {
      "cell_type": "markdown",
      "metadata": {
        "id": "z7G1BBVutBrS"
      },
      "source": [
        ""
      ]
    },
    {
      "cell_type": "markdown",
      "metadata": {
        "id": "z7TahL04sVvR"
      },
      "source": [
        "# **The sixth in-class-exercise (20 points in total, 3/2/2021)**"
      ]
    },
    {
      "cell_type": "markdown",
      "metadata": {
        "id": "ejyZITr8sjnh"
      },
      "source": [
        "## **1. Rule-based information extraction (10 points)**\n",
        "\n",
        "Use any keywords related to data science, natural language processing, machine learning to search from google scholar, get the **titles** of 100 articles (either by web scraping or manually) about this topic, define a set of patterns to extract the research questions/problems, methods/algorithms/models, datasets, applications, or any other important information about this topic. "
      ]
    },
    {
      "cell_type": "code",
      "metadata": {
        "id": "F6LCy0RuXVCu"
      },
      "source": [
        "from bs4 import BeautifulSoup\n",
        "import requests \n",
        "import pandas as pd\n",
        "import base64  \n",
        "import csv\n",
        "query = \"Data Science\"\n",
        "url = 'https://scholar.google.com/scholar?q=' + query + '&ie=UTF-8&oe=UTF-8&hl=en&btnG=Search'\n",
        "response = requests.get(url).text\n",
        "soup = BeautifulSoup(response, 'lxml')\n",
        "articleTitle = []\n",
        "articleUrl = []\n",
        "articleSummary = []\n",
        "for x in range(10):\n",
        "    for item in soup.select('[data-lid]'): \n",
        "      try: \n",
        "        articleTitle.append(item.select('h3')[0].get_text()) \n",
        "        #articleUrl.append(item.select('a')[0]['href'])\n",
        "        #articleSummary.append(item.select('.gs_rs')[0].get_text())\n",
        "      except Exception as e: \n",
        "          print('')\n",
        "articleLists = pd.DataFrame(articleTitle, columns=['Title'])\n",
        "#articleLists = pd.DataFrame({'Title': articleTitle,'Link': articleUrl,'Summary': articleSummary})\n",
        "articleLists.to_csv('articleList.csv', index = False)\n",
        "\n"
      ],
      "execution_count": 54,
      "outputs": []
    },
    {
      "cell_type": "code",
      "metadata": {
        "id": "Oq9KcPoroLQc"
      },
      "source": [
        "import pandas as pd\n",
        "articleTitles = pd.read_csv('articleList.csv', encoding = \"ISO-8859-1\")\n",
        "  "
      ],
      "execution_count": 55,
      "outputs": []
    },
    {
      "cell_type": "code",
      "metadata": {
        "colab": {
          "base_uri": "https://localhost:8080/"
        },
        "id": "P0hLFK8VUlFY",
        "outputId": "8c22d4b9-df80-4e8d-c8ff-c6a985868267"
      },
      "source": [
        "print(articleTitles)"
      ],
      "execution_count": 56,
      "outputs": [
        {
          "output_type": "stream",
          "text": [
            "                                                Title\n",
            "0                              Data science in action\n",
            "1                         Data science and prediction\n",
            "2   Data science and its relationship to big data ...\n",
            "3   [BOOK][B] Data Science for Business: What you ...\n",
            "4   [BOOK][B] High-dimensional probability: An int...\n",
            "5   Computational optimal transport: With applicat...\n",
            "6   Data science, predictive analytics, and big da...\n",
            "7   Reproducible, interactive, scalable and extens...\n",
            "8   The quantified self: Fundamental disruption in...\n",
            "9   [HTML][HTML] Big data: astronomical or genomical?\n",
            "10                             Data science in action\n",
            "11                        Data science and prediction\n",
            "12  Data science and its relationship to big data ...\n",
            "13  [BOOK][B] Data Science for Business: What you ...\n",
            "14  [BOOK][B] High-dimensional probability: An int...\n",
            "15  Computational optimal transport: With applicat...\n",
            "16  Data science, predictive analytics, and big da...\n",
            "17  Reproducible, interactive, scalable and extens...\n",
            "18  The quantified self: Fundamental disruption in...\n",
            "19  [HTML][HTML] Big data: astronomical or genomical?\n",
            "20                             Data science in action\n",
            "21                        Data science and prediction\n",
            "22  Data science and its relationship to big data ...\n",
            "23  [BOOK][B] Data Science for Business: What you ...\n",
            "24  [BOOK][B] High-dimensional probability: An int...\n",
            "25  Computational optimal transport: With applicat...\n",
            "26  Data science, predictive analytics, and big da...\n",
            "27  Reproducible, interactive, scalable and extens...\n",
            "28  The quantified self: Fundamental disruption in...\n",
            "29  [HTML][HTML] Big data: astronomical or genomical?\n",
            "..                                                ...\n",
            "70                             Data science in action\n",
            "71                        Data science and prediction\n",
            "72  Data science and its relationship to big data ...\n",
            "73  [BOOK][B] Data Science for Business: What you ...\n",
            "74  [BOOK][B] High-dimensional probability: An int...\n",
            "75  Computational optimal transport: With applicat...\n",
            "76  Data science, predictive analytics, and big da...\n",
            "77  Reproducible, interactive, scalable and extens...\n",
            "78  The quantified self: Fundamental disruption in...\n",
            "79  [HTML][HTML] Big data: astronomical or genomical?\n",
            "80                             Data science in action\n",
            "81                        Data science and prediction\n",
            "82  Data science and its relationship to big data ...\n",
            "83  [BOOK][B] Data Science for Business: What you ...\n",
            "84  [BOOK][B] High-dimensional probability: An int...\n",
            "85  Computational optimal transport: With applicat...\n",
            "86  Data science, predictive analytics, and big da...\n",
            "87  Reproducible, interactive, scalable and extens...\n",
            "88  The quantified self: Fundamental disruption in...\n",
            "89  [HTML][HTML] Big data: astronomical or genomical?\n",
            "90                             Data science in action\n",
            "91                        Data science and prediction\n",
            "92  Data science and its relationship to big data ...\n",
            "93  [BOOK][B] Data Science for Business: What you ...\n",
            "94  [BOOK][B] High-dimensional probability: An int...\n",
            "95  Computational optimal transport: With applicat...\n",
            "96  Data science, predictive analytics, and big da...\n",
            "97  Reproducible, interactive, scalable and extens...\n",
            "98  The quantified self: Fundamental disruption in...\n",
            "99  [HTML][HTML] Big data: astronomical or genomical?\n",
            "\n",
            "[100 rows x 1 columns]\n"
          ],
          "name": "stdout"
        }
      ]
    },
    {
      "cell_type": "code",
      "metadata": {
        "colab": {
          "base_uri": "https://localhost:8080/"
        },
        "id": "S_PZMsSWbnOd",
        "outputId": "b756c8ff-e453-4c06-af59-92f3fe8e6138"
      },
      "source": [
        "import spacy\n",
        "from spacy.matcher import Matcher\n",
        "\n",
        "nlp = spacy.load(\"en_core_web_sm\")\n",
        "match = Matcher(nlp.vocab)\n",
        "setA= [{\"LOWER\": \"techniques\"}]\n",
        "setB= [{\"TEXT\": {\"REGEX\": \"^(N|n)\\w+$\"}},{\"TEXT\": {\"REGEX\": \"^(L|l)\\w+$\"}}, {\"TEXT\": {\"REGEX\": \"^(P|p)\\w+$\"}},\n",
        "           {\"TEXT\": {\"REGEX\": \"^(I|i)(N|n)$\"}},{\"TEXT\": {\"REGEX\": \"^\\w+$\"}}]\n",
        "setC = [{\"TEXT\": {\"REGEX\": \"^\\w+$\"}}, {\"TEXT\": {\"REGEX\": \"^[Uu](\\.?|sing)$\"}}, {\"TEXT\": {\"REGEX\": \"^\\w+$\"}}]\n",
        "setD= [{\"TEXT\": {\"REGEX\": \"^\\w+$\"}}, {\"TEXT\": {\"REGEX\": \"^[Bb](\\.?|ased)$\"}}, {\"TEXT\": {\"REGEX\": \"^\\w+$\"}}]\n",
        "match.add(\"Techniques\", None, setA)\n",
        "match.add(\"Uses\", None, setB)\n",
        "match.add(\"methods\", None, setC)\n",
        "match.add(\"based\", None, setD)\n",
        "\n",
        "for i in articleTitles['Title']:\n",
        "  text_doc = nlp(i)\n",
        "  matches = match(text_doc)\n",
        "  for match_id, start, end in matches:\n",
        "      span = text_doc[start:end]\n",
        "      print(i)"
      ],
      "execution_count": 57,
      "outputs": [
        {
          "output_type": "stream",
          "text": [
            "Reproducible, interactive, scalable and extensible microbiome data science using QIIME 2\n",
            "Reproducible, interactive, scalable and extensible microbiome data science using QIIME 2\n",
            "Reproducible, interactive, scalable and extensible microbiome data science using QIIME 2\n",
            "Reproducible, interactive, scalable and extensible microbiome data science using QIIME 2\n",
            "Reproducible, interactive, scalable and extensible microbiome data science using QIIME 2\n",
            "Reproducible, interactive, scalable and extensible microbiome data science using QIIME 2\n",
            "Reproducible, interactive, scalable and extensible microbiome data science using QIIME 2\n",
            "Reproducible, interactive, scalable and extensible microbiome data science using QIIME 2\n",
            "Reproducible, interactive, scalable and extensible microbiome data science using QIIME 2\n",
            "Reproducible, interactive, scalable and extensible microbiome data science using QIIME 2\n"
          ],
          "name": "stdout"
        }
      ]
    },
    {
      "cell_type": "code",
      "metadata": {
        "id": "xdTqLAL0bw5v"
      },
      "source": [
        ""
      ],
      "execution_count": null,
      "outputs": []
    },
    {
      "cell_type": "markdown",
      "metadata": {
        "id": "Dq_7VGmrsum4"
      },
      "source": [
        "## **2. Domain-specific information extraction (10 points)**\n",
        "\n",
        "For the legal case used in the data cleaning exercise: [01-05-1 Adams v Tanner.txt](https://raw.githubusercontent.com/unt-iialab/info5731_spring2021/main/class_exercises/01-05-1%20%20Adams%20v%20Tanner.txt), use [legalNLP](https://lexpredict-lexnlp.readthedocs.io/en/latest/modules/extract/extract.html#nlp-based-extraction-methods) to extract the following inforation from the text (if the information is not exist, just print None):\n",
        "\n",
        "(1) acts, e.g., “section 1 of the Advancing Hope Act, 1986”\n",
        "\n",
        "(2) amounts, e.g., “ten pounds” or “5.8 megawatts”\n",
        "\n",
        "(3) citations, e.g., “10 U.S. 100” or “1998 S. Ct. 1”\n",
        "\n",
        "(4) companies, e.g., “Lexpredict LLC”\n",
        "\n",
        "(5) conditions, e.g., “subject to …” or “unless and until …”\n",
        "\n",
        "(6) constraints, e.g., “no more than”\n",
        "\n",
        "(7) copyright, e.g., “(C) Copyright 2000 Acme”\n",
        "\n",
        "(8) courts, e.g., “Supreme Court of New York”\n",
        "\n",
        "(9) CUSIP, e.g., “392690QT3”\n",
        "\n",
        "(10) dates, e.g., “June 1, 2017” or “2018-01-01”\n",
        "\n",
        "(11) definitions, e.g., “Term shall mean …”\n",
        "\n",
        "(12) distances, e.g., “fifteen miles”\n",
        "\n",
        "(13) durations, e.g., “ten years” or “thirty days”\n",
        "\n",
        "(14) geographic and geopolitical entities, e.g., “New York” or “Norway”\n",
        "\n",
        "(15) money and currency usages, e.g., “$5” or “10 Euro”\n",
        "\n",
        "(16) percents and rates, e.g., “10%” or “50 bps”\n",
        "\n",
        "(17) PII, e.g., “212-212-2121” or “999-999-9999”\n",
        "\n",
        "(18) ratios, e.g.,” 3:1” or “four to three”\n",
        "\n",
        "(19) regulations, e.g., “32 CFR 170”\n",
        "\n",
        "(20) trademarks, e.g., “MyApp (TM)”\n",
        "\n",
        "(21) URLs, e.g., “http://acme.com/”\n",
        "\n",
        "(22) addresses, e.g., “1999 Mount Read Blvd, Rochester, NY, USA, 14615”\n",
        "\n",
        "(23) persons, e.g., “John Doe"
      ]
    },
    {
      "cell_type": "code",
      "metadata": {
        "id": "F1u9BZNWeSaW"
      },
      "source": [
        "from six.moves import urllib\n",
        "import pandas as pd\n",
        "import lexnlp\n",
        "rawdata = ''\n",
        "info_url= \"https://raw.githubusercontent.com/unt-iialab/info5731_spring2021/main/class_exercises/01-05-1%20%20Adams%20v%20Tanner.txt\"\n",
        "text_doc = urllib.request.urlopen(info_url)\n",
        "\n",
        "for row in text_doc:\n",
        "  decoded = row.decode(\"utf-8\").replace('\\n', ' ')\n",
        "  if decoded :rawdata = rawdata + decoded"
      ],
      "execution_count": 20,
      "outputs": []
    },
    {
      "cell_type": "code",
      "metadata": {
        "colab": {
          "base_uri": "https://localhost:8080/",
          "height": 1000
        },
        "id": "cP3gN0y4cf_T",
        "outputId": "1f60a719-9b9d-4ae6-8dad-f37c178deee3"
      },
      "source": [
        "!pip install lexnlp"
      ],
      "execution_count": 10,
      "outputs": [
        {
          "output_type": "stream",
          "text": [
            "Collecting lexnlp\n",
            "\u001b[?25l  Downloading https://files.pythonhosted.org/packages/59/8f/775b5718bdee8b11bb06a4a49172abec78f9e94b865a7382b3b7d5f69cc5/lexnlp-1.8.0-py3-none-any.whl (9.8MB)\n",
            "\u001b[K     |████████████████████████████████| 9.8MB 3.6MB/s \n",
            "\u001b[?25hCollecting joblib==0.14.0\n",
            "\u001b[?25l  Downloading https://files.pythonhosted.org/packages/8f/42/155696f85f344c066e17af287359c9786b436b1bf86029bb3411283274f3/joblib-0.14.0-py2.py3-none-any.whl (294kB)\n",
            "\u001b[K     |████████████████████████████████| 296kB 47.7MB/s \n",
            "\u001b[?25hCollecting pandas==0.24.2\n",
            "\u001b[?25l  Downloading https://files.pythonhosted.org/packages/22/e6/2d47835f91eb010036be207581fa113fb4e3822ec1b4bafb0d3d105fede6/pandas-0.24.2-cp37-cp37m-manylinux1_x86_64.whl (10.1MB)\n",
            "\u001b[K     |████████████████████████████████| 10.1MB 39.1MB/s \n",
            "\u001b[?25hCollecting us==2.0.2\n",
            "  Downloading https://files.pythonhosted.org/packages/88/04/04323aefa1871de30286d3decae7706481c73bd428cf0c08e158bfa259a6/us-2.0.2.tar.gz\n",
            "Collecting Unidecode==1.1.1\n",
            "\u001b[?25l  Downloading https://files.pythonhosted.org/packages/d0/42/d9edfed04228bacea2d824904cae367ee9efd05e6cce7ceaaedd0b0ad964/Unidecode-1.1.1-py2.py3-none-any.whl (238kB)\n",
            "\u001b[K     |████████████████████████████████| 245kB 42.0MB/s \n",
            "\u001b[?25hCollecting gensim==3.8.3\n",
            "\u001b[?25l  Downloading https://files.pythonhosted.org/packages/5c/4e/afe2315e08a38967f8a3036bbe7e38b428e9b7a90e823a83d0d49df1adf5/gensim-3.8.3-cp37-cp37m-manylinux1_x86_64.whl (24.2MB)\n",
            "\u001b[K     |████████████████████████████████| 24.2MB 118kB/s \n",
            "\u001b[?25hCollecting pycountry==20.7.3\n",
            "\u001b[?25l  Downloading https://files.pythonhosted.org/packages/76/73/6f1a412f14f68c273feea29a6ea9b9f1e268177d32e0e69ad6790d306312/pycountry-20.7.3.tar.gz (10.1MB)\n",
            "\u001b[K     |████████████████████████████████| 10.1MB 27.2MB/s \n",
            "\u001b[?25hCollecting reporters-db==2.0.3\n",
            "\u001b[?25l  Downloading https://files.pythonhosted.org/packages/6b/e9/498bada93e69e3162a027d9285e852c464d66aae23ec3c845700ee117414/reporters_db-2.0.3-py2.py3-none-any.whl (72kB)\n",
            "\u001b[K     |████████████████████████████████| 81kB 7.6MB/s \n",
            "\u001b[?25hCollecting scikit-learn==0.23.1\n",
            "\u001b[?25l  Downloading https://files.pythonhosted.org/packages/b8/7e/74e707b66490d4eb05f702966ad0990881127acecf9d5cdcef3c95ec6c16/scikit_learn-0.23.1-cp37-cp37m-manylinux1_x86_64.whl (6.8MB)\n",
            "\u001b[K     |████████████████████████████████| 6.8MB 26.4MB/s \n",
            "\u001b[?25hCollecting requests==2.24.0\n",
            "\u001b[?25l  Downloading https://files.pythonhosted.org/packages/45/1e/0c169c6a5381e241ba7404532c16a21d86ab872c9bed8bdcd4c423954103/requests-2.24.0-py2.py3-none-any.whl (61kB)\n",
            "\u001b[K     |████████████████████████████████| 71kB 7.3MB/s \n",
            "\u001b[?25hCollecting datefinder-lexpredict==0.6.2.1\n",
            "  Downloading https://files.pythonhosted.org/packages/45/d1/e80c60a7c23a4b16338f33345be45c64bd6ff4ef5ab67350b8c94325b8b6/datefinder_lexpredict-0.6.2.1-py2.py3-none-any.whl\n",
            "Collecting num2words==0.5.10\n",
            "\u001b[?25l  Downloading https://files.pythonhosted.org/packages/eb/a2/ea800689730732e27711c41beed4b2a129b34974435bdc450377ec407738/num2words-0.5.10-py3-none-any.whl (101kB)\n",
            "\u001b[K     |████████████████████████████████| 102kB 9.8MB/s \n",
            "\u001b[?25hCollecting nltk==3.5\n",
            "\u001b[?25l  Downloading https://files.pythonhosted.org/packages/92/75/ce35194d8e3022203cca0d2f896dbb88689f9b3fce8e9f9cff942913519d/nltk-3.5.zip (1.4MB)\n",
            "\u001b[K     |████████████████████████████████| 1.4MB 48.6MB/s \n",
            "\u001b[?25hCollecting scipy==1.5.1\n",
            "\u001b[?25l  Downloading https://files.pythonhosted.org/packages/30/45/ff9df4beceab76f979ee0ea7f5d248596aa5b0c179aa3d30589a3f4549eb/scipy-1.5.1-cp37-cp37m-manylinux1_x86_64.whl (25.9MB)\n",
            "\u001b[K     |████████████████████████████████| 25.9MB 1.5MB/s \n",
            "\u001b[?25hCollecting dateparser==0.7.2\n",
            "\u001b[?25l  Downloading https://files.pythonhosted.org/packages/82/9d/51126ac615bbc4418478d725a5fa1a0f112059f6f111e4b48cfbe17ef9d0/dateparser-0.7.2-py2.py3-none-any.whl (352kB)\n",
            "\u001b[K     |████████████████████████████████| 358kB 44.2MB/s \n",
            "\u001b[?25hCollecting numpy==1.19.1\n",
            "\u001b[?25l  Downloading https://files.pythonhosted.org/packages/50/8f/29d5688614f9bba59931683d5d353d738d4a3007833219ee19c455732753/numpy-1.19.1-cp37-cp37m-manylinux2010_x86_64.whl (14.5MB)\n",
            "\u001b[K     |████████████████████████████████| 14.5MB 335kB/s \n",
            "\u001b[?25hCollecting regex==2020.7.14\n",
            "\u001b[?25l  Downloading https://files.pythonhosted.org/packages/c7/10/a5f40a296a199dda90432ba0af4dc4221aa5cde31c62b6088c88df971e9e/regex-2020.7.14-cp37-cp37m-manylinux2010_x86_64.whl (660kB)\n",
            "\u001b[K     |████████████████████████████████| 665kB 32.8MB/s \n",
            "\u001b[?25hRequirement already satisfied: python-dateutil>=2.5.0 in /usr/local/lib/python3.7/dist-packages (from pandas==0.24.2->lexnlp) (2.8.1)\n",
            "Requirement already satisfied: pytz>=2011k in /usr/local/lib/python3.7/dist-packages (from pandas==0.24.2->lexnlp) (2018.9)\n",
            "Collecting jellyfish==0.6.1\n",
            "\u001b[?25l  Downloading https://files.pythonhosted.org/packages/61/3f/60ac86fb43dfbf976768e80674b5538e535f6eca5aa7806cf2fdfd63550f/jellyfish-0.6.1.tar.gz (132kB)\n",
            "\u001b[K     |████████████████████████████████| 133kB 47.0MB/s \n",
            "\u001b[?25hRequirement already satisfied: six>=1.5.0 in /usr/local/lib/python3.7/dist-packages (from gensim==3.8.3->lexnlp) (1.15.0)\n",
            "Requirement already satisfied: smart-open>=1.8.1 in /usr/local/lib/python3.7/dist-packages (from gensim==3.8.3->lexnlp) (4.2.0)\n",
            "Collecting threadpoolctl>=2.0.0\n",
            "  Downloading https://files.pythonhosted.org/packages/f7/12/ec3f2e203afa394a149911729357aa48affc59c20e2c1c8297a60f33f133/threadpoolctl-2.1.0-py3-none-any.whl\n",
            "Requirement already satisfied: certifi>=2017.4.17 in /usr/local/lib/python3.7/dist-packages (from requests==2.24.0->lexnlp) (2020.12.5)\n",
            "Requirement already satisfied: idna<3,>=2.5 in /usr/local/lib/python3.7/dist-packages (from requests==2.24.0->lexnlp) (2.10)\n",
            "Requirement already satisfied: urllib3!=1.25.0,!=1.25.1,<1.26,>=1.21.1 in /usr/local/lib/python3.7/dist-packages (from requests==2.24.0->lexnlp) (1.24.3)\n",
            "Requirement already satisfied: chardet<4,>=3.0.2 in /usr/local/lib/python3.7/dist-packages (from requests==2.24.0->lexnlp) (3.0.4)\n",
            "Requirement already satisfied: docopt>=0.6.2 in /usr/local/lib/python3.7/dist-packages (from num2words==0.5.10->lexnlp) (0.6.2)\n",
            "Requirement already satisfied: click in /usr/local/lib/python3.7/dist-packages (from nltk==3.5->lexnlp) (7.1.2)\n",
            "Requirement already satisfied: tqdm in /usr/local/lib/python3.7/dist-packages (from nltk==3.5->lexnlp) (4.41.1)\n",
            "Requirement already satisfied: tzlocal in /usr/local/lib/python3.7/dist-packages (from dateparser==0.7.2->lexnlp) (1.5.1)\n",
            "Building wheels for collected packages: us, pycountry, nltk, jellyfish\n",
            "  Building wheel for us (setup.py) ... \u001b[?25l\u001b[?25hdone\n",
            "  Created wheel for us: filename=us-2.0.2-cp37-none-any.whl size=11929 sha256=7fb80cc51c082a3b90458600dde3ce3ebe12fba09d3fe55a6fdf9b1cd09d34f7\n",
            "  Stored in directory: /root/.cache/pip/wheels/e2/16/45/6453383ffa495670f0f6b80a3e697a9771d98cfbaf8b451e73\n",
            "  Building wheel for pycountry (setup.py) ... \u001b[?25l\u001b[?25hdone\n",
            "  Created wheel for pycountry: filename=pycountry-20.7.3-py2.py3-none-any.whl size=10746863 sha256=7aecae07a142a467a083018d1800a636d9d115993e41a3ef01484eafe743229b\n",
            "  Stored in directory: /root/.cache/pip/wheels/33/4e/a6/be297e6b83567e537bed9df4a93f8590ec01c1acfbcd405348\n",
            "  Building wheel for nltk (setup.py) ... \u001b[?25l\u001b[?25hdone\n",
            "  Created wheel for nltk: filename=nltk-3.5-cp37-none-any.whl size=1434676 sha256=7d51a3ef71d0bc0542a07ab21f1a834c9663af16e033652e503b2cd19da5434d\n",
            "  Stored in directory: /root/.cache/pip/wheels/ae/8c/3f/b1fe0ba04555b08b57ab52ab7f86023639a526d8bc8d384306\n",
            "  Building wheel for jellyfish (setup.py) ... \u001b[?25l\u001b[?25hdone\n",
            "  Created wheel for jellyfish: filename=jellyfish-0.6.1-cp37-cp37m-linux_x86_64.whl size=72121 sha256=c2c5712a7a645467d43b0d7c2ee72d75b6138fc70d32fa6dc537ec3565fe9202\n",
            "  Stored in directory: /root/.cache/pip/wheels/9c/6f/33/92bb9a4b4562a60ba6a80cedbab8907e48bc7a8b1f369ea0ae\n",
            "Successfully built us pycountry nltk jellyfish\n",
            "\u001b[31mERROR: xarray 0.15.1 has requirement pandas>=0.25, but you'll have pandas 0.24.2 which is incompatible.\u001b[0m\n",
            "\u001b[31mERROR: tensorflow 2.4.1 has requirement numpy~=1.19.2, but you'll have numpy 1.19.1 which is incompatible.\u001b[0m\n",
            "\u001b[31mERROR: plotnine 0.6.0 has requirement pandas>=0.25.0, but you'll have pandas 0.24.2 which is incompatible.\u001b[0m\n",
            "\u001b[31mERROR: mizani 0.6.0 has requirement pandas>=0.25.0, but you'll have pandas 0.24.2 which is incompatible.\u001b[0m\n",
            "\u001b[31mERROR: google-colab 1.0.0 has requirement pandas~=1.1.0; python_version >= \"3.0\", but you'll have pandas 0.24.2 which is incompatible.\u001b[0m\n",
            "\u001b[31mERROR: google-colab 1.0.0 has requirement requests~=2.23.0, but you'll have requests 2.24.0 which is incompatible.\u001b[0m\n",
            "\u001b[31mERROR: fbprophet 0.7.1 has requirement pandas>=1.0.4, but you'll have pandas 0.24.2 which is incompatible.\u001b[0m\n",
            "\u001b[31mERROR: datascience 0.10.6 has requirement folium==0.2.1, but you'll have folium 0.8.3 which is incompatible.\u001b[0m\n",
            "\u001b[31mERROR: albumentations 0.1.12 has requirement imgaug<0.2.7,>=0.2.5, but you'll have imgaug 0.2.9 which is incompatible.\u001b[0m\n",
            "Installing collected packages: joblib, numpy, pandas, jellyfish, us, Unidecode, scipy, gensim, pycountry, reporters-db, threadpoolctl, scikit-learn, requests, regex, datefinder-lexpredict, num2words, nltk, dateparser, lexnlp\n",
            "  Found existing installation: joblib 1.0.1\n",
            "    Uninstalling joblib-1.0.1:\n",
            "      Successfully uninstalled joblib-1.0.1\n",
            "  Found existing installation: numpy 1.19.5\n",
            "    Uninstalling numpy-1.19.5:\n",
            "      Successfully uninstalled numpy-1.19.5\n",
            "  Found existing installation: pandas 1.1.5\n",
            "    Uninstalling pandas-1.1.5:\n",
            "      Successfully uninstalled pandas-1.1.5\n",
            "  Found existing installation: scipy 1.4.1\n",
            "    Uninstalling scipy-1.4.1:\n",
            "      Successfully uninstalled scipy-1.4.1\n",
            "  Found existing installation: gensim 3.6.0\n",
            "    Uninstalling gensim-3.6.0:\n",
            "      Successfully uninstalled gensim-3.6.0\n",
            "  Found existing installation: scikit-learn 0.22.2.post1\n",
            "    Uninstalling scikit-learn-0.22.2.post1:\n",
            "      Successfully uninstalled scikit-learn-0.22.2.post1\n",
            "  Found existing installation: requests 2.23.0\n",
            "    Uninstalling requests-2.23.0:\n",
            "      Successfully uninstalled requests-2.23.0\n",
            "  Found existing installation: regex 2019.12.20\n",
            "    Uninstalling regex-2019.12.20:\n",
            "      Successfully uninstalled regex-2019.12.20\n",
            "  Found existing installation: nltk 3.2.5\n",
            "    Uninstalling nltk-3.2.5:\n",
            "      Successfully uninstalled nltk-3.2.5\n",
            "Successfully installed Unidecode-1.1.1 datefinder-lexpredict-0.6.2.1 dateparser-0.7.2 gensim-3.8.3 jellyfish-0.6.1 joblib-0.14.0 lexnlp-1.8.0 nltk-3.5 num2words-0.5.10 numpy-1.19.1 pandas-0.24.2 pycountry-20.7.3 regex-2020.7.14 reporters-db-2.0.3 requests-2.24.0 scikit-learn-0.23.1 scipy-1.5.1 threadpoolctl-2.1.0 us-2.0.2\n"
          ],
          "name": "stdout"
        },
        {
          "output_type": "display_data",
          "data": {
            "application/vnd.colab-display-data+json": {
              "pip_warning": {
                "packages": [
                  "numpy",
                  "pandas",
                  "requests"
                ]
              }
            }
          },
          "metadata": {
            "tags": []
          }
        }
      ]
    },
    {
      "cell_type": "code",
      "metadata": {
        "id": "cHgQHWJ3fqBg"
      },
      "source": [
        "import string\n",
        "rawdata = data.translate(str.maketrans('', '', string.punctuation))"
      ],
      "execution_count": 26,
      "outputs": []
    },
    {
      "cell_type": "code",
      "metadata": {
        "colab": {
          "base_uri": "https://localhost:8080/"
        },
        "id": "65vyYQe2f9uh",
        "outputId": "177de05c-c692-40f7-ecb9-d78abb1c1e1b"
      },
      "source": [
        "import lexnlp.extract.en.acts\n",
        "output= lexnlp.extract.en.acts.get_act_list(data)\n",
        "if output: \n",
        "  print(output)\n",
        "else:\n",
        "  print('None')"
      ],
      "execution_count": 31,
      "outputs": [
        {
          "output_type": "stream",
          "text": [
            "None\n"
          ],
          "name": "stdout"
        }
      ]
    },
    {
      "cell_type": "code",
      "metadata": {
        "colab": {
          "base_uri": "https://localhost:8080/"
        },
        "id": "5eycouMueXnf",
        "outputId": "60611617-545a-408d-d45f-e75a256d9aa5"
      },
      "source": [
        "import lexnlp.extract.en.amounts\n",
        "output = list(lexnlp.extract.en.amounts.get_amounts(rawdata))\n",
        "if output:\n",
        "  print(output)\n",
        "else:\n",
        "  print('None')"
      ],
      "execution_count": 30,
      "outputs": [
        {
          "output_type": "stream",
          "text": [
            "[Decimal('5.0'), Decimal('740.0'), Decimal('1843.0'), Decimal('2.0'), Decimal('1.0'), Decimal('4.0'), Decimal('2.0'), Decimal('5.0'), Decimal('1.0'), Decimal('1840.0'), Decimal('80100.0'), Decimal('30.0'), Decimal('1839.0'), Decimal('741.0'), Decimal('1840.0'), Decimal('14000.0'), Decimal('120.0'), Decimal('1.0'), Decimal('1840.0'), Decimal('3.0'), Decimal('4.0'), Decimal('1.0'), Decimal('1840.0'), Decimal('2.0'), Decimal('1.0'), Decimal('361.0'), Decimal('1.0'), Decimal('307.0'), Decimal('6.0'), Decimal('604.0'), Decimal('1.0'), Decimal('2.0'), Decimal('418.0'), Decimal('422.0'), Decimal('7.0'), Decimal('34.0'), Decimal('41.0'), Decimal('167.0'), Decimal('742.0'), Decimal('3.0'), Decimal('112.0'), Decimal('207.0'), Decimal('3.0'), Decimal('338.0'), Decimal('424.0'), Decimal('5.0'), Decimal('26.0'), Decimal('13.0'), Decimal('235.0'), Decimal('8.0'), Decimal('693.0'), Decimal('4.0'), Decimal('1821.0'), Decimal('167.0'), Decimal('2.0'), Decimal('2.0'), Decimal('216.0'), Decimal('3.0'), Decimal('66.0'), Decimal('4.0'), Decimal('130.0'), Decimal('29.0'), Decimal('2.0'), Decimal('2412.0'), Decimal('332.0'), Decimal('2.0'), Decimal('422.0'), Decimal('9.0'), Decimal('112.0'), Decimal('743.0'), Decimal('9.0'), Decimal('39.0'), Decimal('14000.0'), Decimal('1840.0'), Decimal('744.0'), Decimal('5.0'), Decimal('182.0'), Decimal('3.0'), Decimal('368.0'), Decimal('1.0'), Decimal('397.0'), Decimal('6.0'), Decimal('604.0'), Decimal('1.0'), Decimal('1821.0'), Decimal('167.0'), Decimal('745.0'), Decimal('4.0'), Decimal('746.0'), Decimal('4.0'), Decimal('210.0'), Decimal('46.0'), Decimal('747.0'), Decimal('5.0'), Decimal('5.0'), Decimal('740.0'), Decimal('1843.0'), Decimal('284.0'), Decimal('2019.0'), Decimal('9.0'), Decimal('1.0'), Decimal('55.0'), Decimal('266.0'), Decimal('271.0'), Decimal('1876.0'), Decimal('2.0'), Decimal('47.0'), Decimal('362.0'), Decimal('376.0'), Decimal('1872.0'), Decimal('3.0'), Decimal('45.0'), Decimal('329.0'), Decimal('334.0'), Decimal('1871.0'), Decimal('4.0'), Decimal('31.0'), Decimal('526.0'), Decimal('527.0'), Decimal('1858.0'), Decimal('5.0'), Decimal('21.0'), Decimal('333.0'), Decimal('335.0'), Decimal('1852.0'), Decimal('6.0'), Decimal('8.0'), Decimal('145.0'), Decimal('147.0'), Decimal('1857.0'), Decimal('7.0'), Decimal('65.0'), Decimal('256.0'), Decimal('258.0'), Decimal('3.0'), Decimal('1880.0'), Decimal('8.0'), Decimal('4.0'), Decimal('913.0'), Decimal('914.0'), Decimal('1887.0'), Decimal('9.0'), Decimal('103.0'), Decimal('464.0'), Decimal('1936.0'), Decimal('3.0'), Decimal('1.0'), Decimal('9.0'), Decimal('39.0'), Decimal('1828.0'), Decimal('2.0'), Decimal('2.0'), Decimal('5.0'), Decimal('182.0'), Decimal('1837.0'), Decimal('2.0'), Decimal('3.0'), Decimal('9.0'), Decimal('108.0'), Decimal('1812.0'), Decimal('6.0'), Decimal('1.0'), Decimal('2.0')]\n"
          ],
          "name": "stdout"
        }
      ]
    },
    {
      "cell_type": "code",
      "metadata": {
        "colab": {
          "base_uri": "https://localhost:8080/"
        },
        "id": "fJnZ7d1cYrTX",
        "outputId": "ecb9c020-b9e1-47a8-d1b3-7289abb239cb"
      },
      "source": [
        "import lexnlp.extract.en.citations\n",
        "output = list(lexnlp.extract.en.citations.get_citations(rawdata))\n",
        "if output:\n",
        "  print(output)\n",
        "else:\n",
        "  print('None')"
      ],
      "execution_count": 29,
      "outputs": [
        {
          "output_type": "stream",
          "text": [
            "[(1843, 'WL', 'West Law Citation', 284, None, None, None)]\n"
          ],
          "name": "stdout"
        }
      ]
    },
    {
      "cell_type": "code",
      "metadata": {
        "colab": {
          "base_uri": "https://localhost:8080/"
        },
        "id": "qc7NtJrLx5tS",
        "outputId": "fc6dc9d6-d28a-4791-83e7-ec631c50c33d"
      },
      "source": [
        "import lexnlp.extract.en.entities.nltk_re\n",
        "output = list(lexnlp.extract.en.entities.nltk_re.get_companies(rawdata))\n",
        "if output:\n",
        "  print(output)\n",
        "else:\n",
        "  print('None')"
      ],
      "execution_count": 32,
      "outputs": [
        {
          "output_type": "stream",
          "text": [
            "[Lehman Durr Co, (17439, 17455)]\n"
          ],
          "name": "stdout"
        }
      ]
    },
    {
      "cell_type": "code",
      "metadata": {
        "colab": {
          "base_uri": "https://localhost:8080/"
        },
        "id": "72rdZOumZeu5",
        "outputId": "e7239322-15cc-4aa6-cf2a-a531dc6bde0c"
      },
      "source": [
        "import lexnlp.extract.en.conditions\n",
        "output = list(lexnlp.extract.en.conditions.get_conditions(rawdata))\n",
        "if output:\n",
        "  print(output)\n",
        "else:\n",
        "  print('None')"
      ],
      "execution_count": 33,
      "outputs": [
        {
          "output_type": "stream",
          "text": [
            "[('until', '5 Ala 740\\r Supreme Court of Alabama\\r ADAMS\\r v\\r TANNER AND HORTON\\r June Term 1843\\r Synopsis\\r WRIT of Error to the Circuit Court of Sumter\\r \\xa0\\r \\r \\r West Headnotes 2\\r \\r \\r 1\\r Chattel Mortgages\\r Crops\\r A growing crop has such an existence as to be the subjectmatter of a mortgage or other contract which passes an interest to vest in possession either immediately or at a future time\\r 4 Cases that cite this headnote\\r \\r 2\\r Creditors’ Remedies\\r Lien and Priority\\r Under St1821 prohibiting a levy on a crop', ''), ('until', 'it has been gathered no lien attaches in favor of a fi fa on a growing crop nor does such lien attach', ''), ('if', 'after the crop has been gathered\\r 5 Cases that cite this headnote\\r \\r 1 This was a trial of the right of property under the statute In November 1840 an execution issued from the circuit court of Sumter at the suit of the plaintiff in error requiring the sheriff of that county to make of the goods c of Allen Harrison and others the sum of thirtyseven hundred and seventyseven 80100 dollars besides costs This execution was levied on thirty bales of cotton as the property of Allen Harrison which was claimed and a bond given to try the right An issue was made up to try the question of the liability of the cotton to the plaintiff’s execution and submitted to a jury On the trial a bill of exceptions was sealed at the instance of the plaintiff The plaintiff proved that he recovered his judgment in October 1839 that an execution 741 was issued thereon on the 7th Nov thereafter and that alias and pluries fieri facias’ issued regularly up to the time levy was made that the cotton levied on was growed on the plantation of Harrison and cultivated by the hands in his service It was proved by the claimants by the production of a written contract that Harrison on the twentysecond of May 1840 in consideration that the claimants were involved as indorsers for Burton  Harrison of Sumter county and were then exposed to an execution amounting to upwards of fourteen thousand dollars bargained and sold to the claimants all his growing crop of cotton c consisting of one hundred and twenty acres c Allen Harrison promised and obliged himself to give up his crop to the use of the claimants at any time to save them from suffering as his indorsers', ''), ('where', 'the crop matured and was gathered he undertook to deliver the cotton in Gainesville The claimants came from Tennessee', ''), ('when', 'they resided about the first of September 1840 bringing with them three or four white laborers and took possession of the crop and slaves and with the latter and white laborers gathered the cotton prepared it for market and', ''), ('if', 'levied on it was in a warehouse in Gainesville The plaintiff then proved by Harrison that the claimants took possession of the crop while he was absent and disposed of it without his consent It was admitted that the contract was made in good faith\\r The court charged the jury that the plaintiff had no lien by virtue of his judgment and execution on the growing crop that Harrison had a right to convey it without being in any manner restrained by them that the writing adduced was a sale of the crop but', ''), ('when', 'it was not and the lien of the fieri facias would have attached upon it', ''), ('if', 'gathered yet', ''), ('not subject to', 'the claimants obtained possession on the first of September and controlled the gathering of the crop then no lien attached and it was', ''), ('until', 'the levy\\r Attorneys and Law Firms\\r R H SMITH for the plaintiff in error made the following points1 The crop of Harrison must in May 1840 have been in an immature state and it is insisted was not the subject of a sale 2 By the common law a growing crop could be levied on and sold 1 Salk Rep 361 1 Bos  P Rep 307 6 East’s Rep 604 note 1 2 Johns Rep 418 422 7 Mass Rep 34 and our statue Aik Dig § 41 p 167 which forbids the levy of an 742 execution on a growing crop is to receive a strict construction It merely inhibits the levy but the lien attaches and a levy and sale may be made after the crop matures and is gathered 3 The contract does not purport to convey the growing crop but is a mere executory agreement requiring some act to be done by Harrison in order to invest the claimants with the right of property Chit on Con 112 207 3 Johns Rep 338 424 5 Wend Rep 26 13 Johns Rep 235 8 Dowl Rep 693 and', ''), ('until', 'this act was done the crop no matter by who gathered because liable to be seized for Harrison’s debts A court of chancery would not compel a specific performance of the contract at the claimant’s instance 4 The charge of the court is also objectionable in deciding disputed facts\\r W M MURPHY with whom was W G JONES for the defendantcited the act of 1821 Aik Dig 167 which declares it to be lawful to levy an execution on a planted crop', ''), ('if', 'it is gathered and contended that no lien attached in favor of the plaintiff This being the case the defendant in execution was not restrained from making the contract which he did with the claimants\\r 2 The lien of an execution is destroyed by an injunction because it takes away the right to levy it In short whenever the right to levy an execution is but temporarily suspended or withdrawn the lien is during that time lost Whipple v Foot 2 Johns Rep 216 3 Wash C C Rep 66 4 How Rep 130\\r It is admitted that the contract between the defendant in execution and the claimants was in good faith', ''), ('when', 'so the severance and removal of the cotton gave the latter a good title against all creditors of the former\\r Opinion\\r \\r COLLIER C J\\r \\r There can be no doubt that a growing crop has such an existence as to be the subject matter of a sale mortgage or other contract which possess an interest to vest in possession either immediately or at some future time This proposition has frequently been assumed as unquestionable the point of inquiry generally being whether under a statute of frauds such as the 29 Chas 2 it is a mere chattel and transferrable by parol without writing Chitty on Con 2412 332 Whipple v Foot 2 Johns Rep 422 Stewart v Doughty 9 Johns Rep 112 743 Austin v Sawyer 9 Cow Rep 39 See also Ravesies v Lee  Alston at last term The contract set out in the bill of exceptions we are inclined to think evidences rather a mortgage than an absolute sale It recites that the claimants are involved as indorsers of a mercantile firm of which the defendant was a partner that an execution for upwards of fourteen thousand dollars against their estate is in the sheriff’s hands and that a conveyance is made of the crop of cotton corn and oats which the grantor agrees to give up at any time to the use of the claimants so as to prevent injury to them as indorsers The defendant in execution might at any time have divested the interest which the contract vested in the claimants by discharging their liability as his indorsers or a judgment creditor might have satisfied the lien and', ''), ('unless', 'the crop was gathered have levied on and sold it under a fieri facias\\r We will then consider the writing under which the claimants assert a right as a mortgage with a power to take possession any time during the year', ''), ('if', 'they should be relieved from their engagements as indorsers It is not pretended that their liability has been satisfied and it is admitted that the parties have acted with good faith so that it is a dry question of law whether the right of the plaintiff or the claimants shall prevail Assuming for the present that the execution of the plaintiffs did not operate a lien upon the planted crop previous to the contract of May 1840 we will inquire whether the defendant in execution had such an interest as could be levied on and sold\\r The claimants had previous to the levy of the execution taken possession of the crop prepared the cotton for market and removed it to a warehouse This possession it is insisted was a trespass because it was acquired in the absence of the defendant in execution and without his consent then given Conceding the truth of the facts stated in the bill of exceptions and we think it will not follow that the possession of the claimants is a nullity and that the case must be considered as', ''), ('if', 'they had never interfered with the crop The contract contains an express undertaking to give up the crop at any time the claimants might require it for their indemnity and', ''), ('if', 'they took possession of it in the absence of the grantor though without his consent', ''), ('if', 'he subsequently acquiesced in it the inference would be', ''), ('subject to', 'necessary that their acts were approved by him Taking this to be clear 744 law and it will be seen that the defendant in execution at the time of the levy had nothing more than a mere equitable right to redeem the cotton by paying the debts indorsed by the claimants He had no possession coupled with this equity but only a naked equity which it has been held cannot be reached by an ordinary execution Perkins and Elliott v Mayfield 5 Porter’s Rep 182\\r 3 This brings us back to the question whether the execution of the plaintiff was a lien on the growing crop so as to defeat the mortgage to the claimants It has been frequently mooted whether at common law corn c before it is gathered can be seized under a fieri facias Mr Dane in remarking upon this point says “The American editor of Bacon’s Abridgment says ‘Wheat growing in the ground is a chattel and', ''), ('until', 'be taken in execution and the sheriff may suffer it to grow till harvest and then cut and sell it or may perhaps sell it growing and the purchaser will then be entitled to enter for the purpose of cutting and carrying it away” He cites Whipple v Foot ut supra also Poole’s case Salk 368 1 Bos  P 397 6 East 604 n But Whipple v Foot seems to be the only case that supports his position that unripe wheat or corn may be taken in execution and the same editor states that nothing can be taken in execution which cannot be sold This position says the learned commentator is no doubt law But it is unnecessary to consider how this matter stands at common law The first section of the act of 1821 “To prevent sheriffs and other officers from levying executions in certain cases enacts that “It shall not be lawful for any sheriff or other officer to levy a writ of fieri facias or other execution on the planted crop of a debtor or person against whom an execution may issue', ''), ('until', 'the crop is gathered” Aik Dig 167 Now here is an express inhibition to levy an execution on a crop while it remains on or in the ground and', ''), ('if', 'it is severed from the soil to which it owes its growth In respect to property thus situated will the lien of an execution attach eo instanti upon its being placed in the hands of an officer', ''), ('until', 'so the act cited will only have the effect of keeping the right to levy it in abeyance', ''), ('if', 'the crop is gathered The lien of an execution does not only operate so as to prevent the debtor from disposing of the property on which it attaches but gives to the creditor the right to have it sold to satisfy his 745 judgment The lien and the right to levy are intimately connected and', ''), ('until', 'the latter be taken away or suspended the effect at common law is the destruction of the former This principle is fully established by Mansony and Hurtell v The President c of the Bank of the United States and its assignees and the citations contained in the opinion of the court in that case as also in my opinion in Wood v Gary et al both decided at the last term That it was competent for the legislature to have made it unlawful to levy an execution on particular property', ''), ('if', 'its condition was changed and still to give it a continuing lien cannot be doubted but there is nothing in the act in question to indicate that such is its intention', ''), ('until', 'the object was merely to suspend the sale', ''), ('as soon as', 'the crop was gathered it would have been very easy to have said so in explicit terms but declaring as the statute does in totidem verbis that the execution shall not be levied the legislature must be supposed to have meant what they have expressed The act was induced by the doubts which existed as to what was the common law and was intended to remove those doubts by declaring what should be the law in future It does not create a lien or authorize a levy in a case in which the law as it then existed was silent The idea that the lien attached upon the planted crop', ''), ('until', 'the execution was delivered to the sheriff though the right to levy it was postponed', ''), ('if', 'a severance took place is attempted to be deduced from the last words of the section cited viz “until the crop is gathered” These words cannot upon any just principles of construction be regarded so potent as to give to an execution a retrospective effect They do not refer to the lien', ''), ('until', 'they did they would postpone it', ''), ('until', 'the crop was gathered but it is the levy they relate to and postpone', ''), ('until', 'that event takes place\\r 4 The right to levy an execution on a planted crop then being expressly taken away by the statute the lien which is connected with and consequent upon that right never attaches', ''), ('if', 'severance This being the case the right of the defendant in execution to make the contract which he did is unquestionable and the title of the claimants coupled as it was with the possession was paramount to any lien which the execution could exert\\r The circuit judge may have mistaken the law in supposing that the contract was a sale but', ''), ('when', 'he did an error in that respect was very immaterial for whether a sale or mortgage as we have 746 seen under the facts of the case the defendant in execution has no interest that could be seised and sold under execution There is no assumption of any material fact in the charge but the possession of the claimant the time', ''), ('if', 'acquired the gathering of the crop c are all referred to the determination of the jury who are instructed', ''), ('until', 'they find them according to the evidence adduced that no lien ever attached in favor of the plaintiff The bona fides of the contract was conceded so that no charge was necessary on that point and it could not with propriety enter into the inquiry of the jury\\r It results from what has been said that the judgment of the circuit court is affirmed\\r \\r DISSENTING OPINION\\r \\r ORMOND J\\r 4 The statute which presents the question before the court is that “it shall not be lawful for any sheriff or other officer to levy a writ of fieei facias or other execution on the planted crop of a debtor or person against whom an execution may issue', ''), ('subject to', 'the crop is gathered” Clay’s Dig 210 § 46\\r I shall not enter upon the enquiry whether at common law an execution could be levied upon a growing crop though I apprehend it would not be difficult to maintain the affirmative of the proposition It is sufficient for my purpose that the statute supposes such to have been the law as it doubtless was the practice\\r This act must be considered in connection with the other acts upon the same subject The policy of the State as indicated by these statutes is undeniably that all the property of a debtor real and personal to which he has a legal title shall be', ''), ('until', 'sale by execution and it appears to me that it would be difficult to assign a reason for the exemption of this species of property from the claims of judgment creditors and for giving to the defendant in execution the right to dispose of it It appears to me with all deference that the argument that because the sheriff was prohibited from levying on a ““planted crop” that therefore the execution had lost its lien and the debtor had the right to sell it is a non sequitur The mischief which the statute designed to remedy was the sacrifice which would be necessarily made by the sale of an immature crop the statute enables the debtor to retain it', ''), ('if', 'it matures and by severing it from the soil to put it 747 in a condition to bring its valuethe lien in the mean time continuing in the plaintiff in execution\\r 5', ''), ('until', 'further confirmation of the correctness of this view were necessary it will be found I think in the language employed by the legislature The sheriff is forbidden to levy on a “planted crop”', ''), ('if', 'the crop is gathered Now', ''), ('until', 'the view taken by the majority of the court is correct the right secured to the plaintiff in execution of levying on the crop after it is gathered may be frustrated as it was in this case by a sale by the defendant in execution whilst the crop is in an immature state The construction which has been put upon the statute involves the singular anomaly that the legislature for the protection of the debtor has forbidden the plaintiff in execution to sell the property of his debtor because it is not in a condition to bring its value and yet permits the debtor voluntarily by a sale to submit to the same sacrifice for his own benefit It is in effect a gift to the defendant in execution of the growing crop provided he does not gather it himself but disposes of it in its then condition This I feel a thorough conviction was not the intention of the legislature but that it was to secure him from loss by prohibiting a levy and sale of the crop', ''), ('when', 'it was gathered', ''), ('subject to', 'the temporary suspension of the right to sell ceased\\r All Citations\\r 5 Ala 740 1843 WL 284\\r End of Document\\r © 2019 Thomson Reuters No claim to original US Government Works\\r Citing References 9\\r Treatment\\r Title\\r Date\\r Type\\r Depth\\r Headnotes\\r Cited by\\r 1  Booker v Jones’s Adm’x\\r 55 Ala 266 271  Ala\\r Trover for Conversion of Cotton with Counts in Case APPEAL from the Circuit Court of Hale Tried before the Hon M J SAFFOLD\\r Dec Term 1876\\r Case\\r —\\r Cited by\\r 2  Lehman Durr  Co v Marshall\\r 47 Ala 362 376  Ala\\r TROVER FOR CONVERSION OF COTTON APPEAL from the City Court of Montgomery Tried before Hon JOHN D CUNNINGHAM\\r Jan Term 1872\\r Case\\r —\\r Cited by\\r 3  Bibb v Janney\\r 45 Ala 329 334  Ala\\r GARNISHMENT WAGES WAIVER OF EXEMPTION APPEAL from City Court of Montgomery Tried before Hon JOHN D CUNNINGHAM\\r Jan Term 1871\\r Case\\r —\\r Cited by\\r 4  McKenzie v Lampley\\r 31 Ala 526 527  Ala\\r TRIAL OF RIGHT OF PROPERTY IN COTTON APPEAL from the Circuit Court of Barbour Tried before the Hon S D HALE\\r Jan Term 1858\\r Case\\r —\\r Cited by\\r 5  Evans v Lamar\\r 21 Ala 333 335  Ala\\r ERROR to the Circuit Court of Autauga Tried before the Hon A B MOORE\\r Jun Term 1852\\r Case\\r —\\r Cited by\\r  6  Dewey v Bowman\\r 8 Cal 145 147  Cal\\r The judgment of the Court below against Jacob S Cohen should be reversed for the following reasons Because the finding of the Court was so far as Cohen was concerned\\r Jul Term 1857\\r Case\\r —\\r Mentioned by\\r 7  Rees v Coats\\r 65 Ala 256 258  Ala\\r Trover for Conversion of Three Bales of Cotton APPEAL from the Circuit Court of Etowah Tried before the Hon WM L WHITLOCK\\r Nov Term 1880\\r Case\\r —\\r Mentioned by\\r 8  Edwards v Thompson\\r 4 SW 913 914  Tenn\\r Appeal from circuit court Weakley county\\r May 1887\\r Case\\r —\\r —\\r 9  Growing crops as', ''), ('subject to', 'levy and seizure under attachment or execution\\r 103 ALR 464\\r Generally at common law growing crops raised by annual planting while still attached to the soil are regarded as personal chattels', ''), ('where', 'levy and seizure under attachment\\r 1936\\r ALR\\r —\\r —\\r Table of Authorities 3\\r Treatment\\r Referenced Title\\r Type\\r Depth\\r Quoted\\r Page Number\\r Mentioned\\r 1  Austin v Sawyer\\r 9 Cow 39 NYSup 1828\\r Parol evidence is not admissible to contradict or substantially vary a written contract And', '')]\n"
          ],
          "name": "stdout"
        }
      ]
    },
    {
      "cell_type": "code",
      "metadata": {
        "colab": {
          "base_uri": "https://localhost:8080/"
        },
        "id": "65ysI7GPbBy9",
        "outputId": "238ecdc4-46cf-4406-d086-01843f2e2e83"
      },
      "source": [
        "import lexnlp.extract.en.constraints\n",
        "output = list(lexnlp.extract.en.constraints.get_constraints(rawdata))\n",
        "if output:\n",
        "  print(output)\n",
        "else:\n",
        "  print('None')"
      ],
      "execution_count": 34,
      "outputs": [
        {
          "output_type": "stream",
          "text": [
            "[('after', '5 ala 740\\r supreme court of alabama\\r adams\\r v\\r tanner and horton\\r june term 1843\\r synopsis\\r writ of error to the circuit court of sumter\\r \\xa0\\r \\r \\r west headnotes 2\\r \\r \\r 1\\r chattel mortgages\\r crops\\r a growing crop has such an existence as to be the subjectmatter of a mortgage or other contract which passes an interest to vest in possession either immediately or at a future time\\r 4 cases that cite this headnote\\r \\r 2\\r creditors’ remedies\\r lien and priority\\r under st1821 prohibiting a levy on a crop until it has been gathered no lien attaches in favor of a fi fa on a growing crop nor does such lien attach until', ''), ('first of', 'the crop has been gathered\\r 5 cases that cite this headnote\\r \\r 1 this was a trial of the right of property under the statute in november 1840 an execution issued from the circuit court of sumter at the suit of the plaintiff in error requiring the sheriff of that county to make of the goods c of allen harrison and others the sum of thirtyseven hundred and seventyseven 80100 dollars besides costs this execution was levied on thirty bales of cotton as the property of allen harrison which was claimed and a bond given to try the right an issue was made up to try the question of the liability of the cotton to the plaintiff’s execution and submitted to a jury on the trial a bill of exceptions was sealed at the instance of the plaintiff the plaintiff proved that he recovered his judgment in october 1839 that an execution 741 was issued thereon on the 7th nov thereafter and that alias and pluries fieri facias’ issued regularly up to the time levy was made that the cotton levied on was growed on the plantation of harrison and cultivated by the hands in his service it was proved by the claimants by the production of a written contract that harrison on the twentysecond of may 1840 in consideration that the claimants were involved as indorsers for burton  harrison of sumter county and were then exposed to an execution amounting to upwards of fourteen thousand dollars bargained and sold to the claimants all his growing crop of cotton c consisting of one hundred and twenty acres c allen harrison promised and obliged himself to give up his crop to the use of the claimants at any time to save them from suffering as his indorsers if the crop matured and was gathered he undertook to deliver the cotton in gainesville the claimants came from tennessee where they resided about the', ''), ('first of', 'september 1840 bringing with them three or four white laborers and took possession of the crop and slaves and with the latter and white laborers gathered the cotton prepared it for market and when levied on it was in a warehouse in gainesville the plaintiff then proved by harrison that the claimants took possession of the crop while he was absent and disposed of it without his consent it was admitted that the contract was made in good faith\\r the court charged the jury that the plaintiff had no lien by virtue of his judgment and execution on the growing crop that harrison had a right to convey it without being in any manner restrained by them that the writing adduced was a sale of the crop but if it was not and the lien of the fieri facias would have attached upon it when gathered yet if the claimants obtained possession on the', ''), ('after', 'september and controlled the gathering of the crop then no lien attached and it was not subject to the levy\\r attorneys and law firms\\r r h smith for the plaintiff in error made the following points1 the crop of harrison must in may 1840 have been in an immature state and it is insisted was not the subject of a sale 2 by the common law a growing crop could be levied on and sold 1 salk rep 361 1 bos  p rep 307 6 east’s rep 604 note 1 2 johns rep 418 422 7 mass rep 34 and our statue aik dig § 41 p 167 which forbids the levy of an 742 execution on a growing crop is to receive a strict construction it merely inhibits the levy but the lien attaches and a levy and sale may be made', ''), ('more than', 'the crop matures and is gathered 3 the contract does not purport to convey the growing crop but is a mere executory agreement requiring some act to be done by harrison in order to invest the claimants with the right of property chit on con 112 207 3 johns rep 338 424 5 wend rep 26 13 johns rep 235 8 dowl rep 693 and until this act was done the crop no matter by who gathered because liable to be seized for harrison’s debts a court of chancery would not compel a specific performance of the contract at the claimant’s instance 4 the charge of the court is also objectionable in deciding disputed facts\\r w m murphy with whom was w g jones for the defendantcited the act of 1821 aik dig 167 which declares it to be lawful to levy an execution on a planted crop until it is gathered and contended that no lien attached in favor of the plaintiff this being the case the defendant in execution was not restrained from making the contract which he did with the claimants\\r 2 the lien of an execution is destroyed by an injunction because it takes away the right to levy it in short whenever the right to levy an execution is but temporarily suspended or withdrawn the lien is during that time lost whipple v foot 2 johns rep 216 3 wash c c rep 66 4 how rep 130\\r it is admitted that the contract between the defendant in execution and the claimants was in good faith if so the severance and removal of the cotton gave the latter a good title against all creditors of the former\\r opinion\\r \\r collier c j\\r \\r there can be no doubt that a growing crop has such an existence as to be the subject matter of a sale mortgage or other contract which possess an interest to vest in possession either immediately or at some future time this proposition has frequently been assumed as unquestionable the point of inquiry generally being whether under a statute of frauds such as the 29 chas 2 it is a mere chattel and transferrable by parol without writing chitty on con 2412 332 whipple v foot 2 johns rep 422 stewart v doughty 9 johns rep 112 743 austin v sawyer 9 cow rep 39 see also ravesies v lee  alston at last term the contract set out in the bill of exceptions we are inclined to think evidences rather a mortgage than an absolute sale it recites that the claimants are involved as indorsers of a mercantile firm of which the defendant was a partner that an execution for upwards of fourteen thousand dollars against their estate is in the sheriff’s hands and that a conveyance is made of the crop of cotton corn and oats which the grantor agrees to give up at any time to the use of the claimants so as to prevent injury to them as indorsers the defendant in execution might at any time have divested the interest which the contract vested in the claimants by discharging their liability as his indorsers or a judgment creditor might have satisfied the lien and when the crop was gathered have levied on and sold it under a fieri facias\\r we will then consider the writing under which the claimants assert a right as a mortgage with a power to take possession any time during the year unless they should be relieved from their engagements as indorsers it is not pretended that their liability has been satisfied and it is admitted that the parties have acted with good faith so that it is a dry question of law whether the right of the plaintiff or the claimants shall prevail assuming for the present that the execution of the plaintiffs did not operate a lien upon the planted crop previous to the contract of may 1840 we will inquire whether the defendant in execution had such an interest as could be levied on and sold\\r the claimants had previous to the levy of the execution taken possession of the crop prepared the cotton for market and removed it to a warehouse this possession it is insisted was a trespass because it was acquired in the absence of the defendant in execution and without his consent then given conceding the truth of the facts stated in the bill of exceptions and we think it will not follow that the possession of the claimants is a nullity and that the case must be considered as if they had never interfered with the crop the contract contains an express undertaking to give up the crop at any time the claimants might require it for their indemnity and if they took possession of it in the absence of the grantor though without his consent if he subsequently acquiesced in it the inference would be if necessary that their acts were approved by him taking this to be clear 744 law and it will be seen that the defendant in execution at the time of the levy had nothing', ''), ('before', 'a mere equitable right to redeem the cotton by paying the debts indorsed by the claimants he had no possession coupled with this equity but only a naked equity which it has been held cannot be reached by an ordinary execution perkins and elliott v mayfield 5 porter’s rep 182\\r 3 this brings us back to the question whether the execution of the plaintiff was a lien on the growing crop so as to defeat the mortgage to the claimants it has been frequently mooted whether at common law corn c', ''), ('before', 'it is gathered can be seized under a fieri facias mr dane in remarking upon this point says “the american editor of bacon’s abridgment says ‘wheat growing in the ground is a chattel and subject to be taken in execution and the sheriff may suffer it to grow till harvest and then cut and sell it or may perhaps sell it growing and the purchaser will then be entitled to enter for the purpose of cutting and carrying it away” he cites whipple v foot ut supra also poole’s case salk 368 1 bos  p 397 6 east 604 n but whipple v foot seems to be the only case that supports his position that unripe wheat or corn may be taken in execution and the same editor states that nothing can be taken in execution which cannot be sold this position says the learned commentator is no doubt law but it is unnecessary to consider how this matter stands at common law the first section of the act of 1821 “to prevent sheriffs and other officers from levying executions in certain cases enacts that “it shall not be lawful for any sheriff or other officer to levy a writ of fieri facias or other execution on the planted crop of a debtor or person against whom an execution may issue until the crop is gathered” aik dig 167 now here is an express inhibition to levy an execution on a crop while it remains on or in the ground and until it is severed from the soil to which it owes its growth in respect to property thus situated will the lien of an execution attach eo instanti upon its being placed in the hands of an officer if so the act cited will only have the effect of keeping the right to levy it in abeyance until the crop is gathered the lien of an execution does not only operate so as to prevent the debtor from disposing of the property on which it attaches but gives to the creditor the right to have it sold to satisfy his 745 judgment the lien and the right to levy are intimately connected and if the latter be taken away or suspended the effect at common law is the destruction of the former this principle is fully established by mansony and hurtell v the president c of the bank of the united states and its assignees and the citations contained in the opinion of the court in that case as also in my opinion in wood v gary et al both decided at the last term that it was competent for the legislature to have made it unlawful to levy an execution on particular property until its condition was changed and still to give it a continuing lien cannot be doubted but there is nothing in the act in question to indicate that such is its intention if the object was merely to suspend the sale until the crop was gathered it would have been very easy to have said so in explicit terms but declaring as the statute does in totidem verbis that the execution shall not be levied the legislature must be supposed to have meant what they have expressed the act was induced by the doubts which existed as to what was the common law and was intended to remove those doubts by declaring what should be the law in future it does not create a lien or authorize a levy in a case in which the law as it then existed was silent the idea that the lien attached upon the planted crop as soon as the execution was delivered to the sheriff though the right to levy it was postponed until a severance took place is attempted to be deduced from the last words of the section cited viz “until the crop is gathered” these words cannot upon any just principles of construction be regarded so potent as to give to an execution a retrospective effect they do not refer to the lien if they did they would postpone it until the crop was gathered but it is the levy they relate to and postpone until that event takes place\\r 4 the right to levy an execution on a planted crop then being expressly taken away by the statute the lien which is connected with and consequent upon that right never attaches until severance this being the case the right of the defendant in execution to make the contract which he did is unquestionable and the title of the claimants coupled as it was with the possession was paramount to any lien which the execution could exert\\r the circuit judge may have mistaken the law in supposing that the contract was a sale but if he did an error in that respect was very immaterial for whether a sale or mortgage as we have 746 seen under the facts of the case the defendant in execution has no interest that could be seised and sold under execution there is no assumption of any material fact in the charge but the possession of the claimant the time when acquired the gathering of the crop c are all referred to the determination of the jury who are instructed if they find them according to the evidence adduced that no lien ever attached in favor of the plaintiff the bona fides of the contract was conceded so that no charge was necessary on that point and it could not with propriety enter into the inquiry of the jury\\r it results from what has been said that the judgment of the circuit court is affirmed\\r \\r dissenting opinion\\r \\r ormond j\\r 4 the statute which presents the question', ''), ('after', 'the court is that “it shall not be lawful for any sheriff or other officer to levy a writ of fieei facias or other execution on the planted crop of a debtor or person against whom an execution may issue until the crop is gathered” clay’s dig 210 § 46\\r i shall not enter upon the enquiry whether at common law an execution could be levied upon a growing crop though i apprehend it would not be difficult to maintain the affirmative of the proposition it is sufficient for my purpose that the statute supposes such to have been the law as it doubtless was the practice\\r this act must be considered in connection with the other acts upon the same subject the policy of the state as indicated by these statutes is undeniably that all the property of a debtor real and personal to which he has a legal title shall be subject to sale by execution and it appears to me that it would be difficult to assign a reason for the exemption of this species of property from the claims of judgment creditors and for giving to the defendant in execution the right to dispose of it it appears to me with all deference that the argument that because the sheriff was prohibited from levying on a ““planted crop” that therefore the execution had lost its lien and the debtor had the right to sell it is a non sequitur the mischief which the statute designed to remedy was the sacrifice which would be necessarily made by the sale of an immature crop the statute enables the debtor to retain it until it matures and by severing it from the soil to put it 747 in a condition to bring its valuethe lien in the mean time continuing in the plaintiff in execution\\r 5 if further confirmation of the correctness of this view were necessary it will be found i think in the language employed by the legislature the sheriff is forbidden to levy on a “planted crop” until the crop is gathered now if the view taken by the majority of the court is correct the right secured to the plaintiff in execution of levying on the crop', ''), ('before', 'it is gathered may be frustrated as it was in this case by a sale by the defendant in execution whilst the crop is in an immature state the construction which has been put upon the statute involves the singular anomaly that the legislature for the protection of the debtor has forbidden the plaintiff in execution to sell the property of his debtor because it is not in a condition to bring its value and yet permits the debtor voluntarily by a sale to submit to the same sacrifice for his own benefit it is in effect a gift to the defendant in execution of the growing crop provided he does not gather it himself but disposes of it in its then condition this i feel a thorough conviction was not the intention of the legislature but that it was to secure him from loss by prohibiting a levy and sale of the crop until it was gathered when the temporary suspension of the right to sell ceased\\r all citations\\r 5 ala 740 1843 wl 284\\r end of document\\r © 2019 thomson reuters no claim to original us government works\\r citing references 9\\r treatment\\r title\\r date\\r type\\r depth\\r headnotes\\r cited by\\r 1  booker v jones’s adm’x\\r 55 ala 266 271  ala\\r trover for conversion of cotton with counts in case appeal from the circuit court of hale tried', ''), ('before', 'the hon m j saffold\\r dec term 1876\\r case\\r —\\r cited by\\r 2  lehman durr  co v marshall\\r 47 ala 362 376  ala\\r trover for conversion of cotton appeal from the city court of montgomery tried', ''), ('before', 'hon john d cunningham\\r jan term 1872\\r case\\r —\\r cited by\\r 3  bibb v janney\\r 45 ala 329 334  ala\\r garnishment wages waiver of exemption appeal from city court of montgomery tried', ''), ('before', 'hon john d cunningham\\r jan term 1871\\r case\\r —\\r cited by\\r 4  mckenzie v lampley\\r 31 ala 526 527  ala\\r trial of right of property in cotton appeal from the circuit court of barbour tried', ''), ('before', 'the hon s d hale\\r jan term 1858\\r case\\r —\\r cited by\\r 5  evans v lamar\\r 21 ala 333 335  ala\\r error to the circuit court of autauga tried', ''), ('before', 'the hon a b moore\\r jun term 1852\\r case\\r —\\r cited by\\r  6  dewey v bowman\\r 8 cal 145 147  cal\\r the judgment of the court below against jacob s cohen should be reversed for the following reasons because the finding of the court was so far as cohen was concerned\\r jul term 1857\\r case\\r —\\r mentioned by\\r 7  rees v coats\\r 65 ala 256 258  ala\\r trover for conversion of three bales of cotton appeal from the circuit court of etowah tried', '')]\n"
          ],
          "name": "stdout"
        }
      ]
    },
    {
      "cell_type": "code",
      "metadata": {
        "colab": {
          "base_uri": "https://localhost:8080/"
        },
        "id": "wknkX3b_bQ99",
        "outputId": "192ba1fd-e33b-4c80-dc6c-01da84c5b575"
      },
      "source": [
        "import lexnlp.extract.en.copyright\n",
        "output = list(lexnlp.extract.en.copyright.get_copyright(rawdata))\n",
        "if output:\n",
        "  print(output)\n",
        "else:\n",
        "  print('None')"
      ],
      "execution_count": 35,
      "outputs": [
        {
          "output_type": "stream",
          "text": [
            "[('©', '2019', 'Thomson Reuters No')]\n"
          ],
          "name": "stdout"
        }
      ]
    },
    {
      "cell_type": "code",
      "metadata": {
        "colab": {
          "base_uri": "https://localhost:8080/"
        },
        "id": "TCkcI1PybeSz",
        "outputId": "a3415442-9595-4b63-b607-397e402b0e9e"
      },
      "source": [
        "import lexnlp.extract.en.cusip\n",
        "output = list(lexnlp.extract.en.cusip.get_cusip(rawdata))\n",
        "if output:\n",
        "  print(output)\n",
        "else:\n",
        "  print('None')\n"
      ],
      "execution_count": 36,
      "outputs": [
        {
          "output_type": "stream",
          "text": [
            "None\n"
          ],
          "name": "stdout"
        }
      ]
    },
    {
      "cell_type": "code",
      "metadata": {
        "colab": {
          "base_uri": "https://localhost:8080/"
        },
        "id": "W8s5Mv7cb63h",
        "outputId": "fd86199b-2f6f-4431-facf-a5edafc988d3"
      },
      "source": [
        "import lexnlp.extract.en.dates\n",
        "output = list(lexnlp.extract.en.dates.get_dates(rawdata))\n",
        "if output:\n",
        "  print(output)\n",
        "else:\n",
        "  print('None')"
      ],
      "execution_count": 37,
      "outputs": [
        {
          "output_type": "stream",
          "text": [
            "[datetime.date(2021, 6, 1), datetime.date(1840, 11, 1), datetime.date(1839, 10, 1), datetime.date(1840, 5, 1), datetime.date(1840, 9, 1), datetime.date(1840, 5, 1), datetime.date(1840, 5, 1), datetime.date(2021, 12, 1), datetime.date(2021, 12, 1), datetime.date(2021, 1, 1), datetime.date(2021, 1, 1), datetime.date(2021, 1, 1), datetime.date(2021, 3, 21), datetime.date(2021, 6, 1), datetime.date(2021, 7, 1), datetime.date(2021, 11, 1), datetime.date(1887, 5, 1)]\n"
          ],
          "name": "stdout"
        }
      ]
    },
    {
      "cell_type": "code",
      "metadata": {
        "colab": {
          "base_uri": "https://localhost:8080/"
        },
        "id": "4C_dwUm6eqKl",
        "outputId": "40c7c923-7aa3-4e18-e92b-141b2ebf5c3d"
      },
      "source": [
        "import lexnlp.extract.en.definitions\n",
        "output = list(lexnlp.extract.en.definitions.get_definitions(rawdata))\n",
        "if output:\n",
        "  print(output)\n",
        "else:\n",
        "  print('None')"
      ],
      "execution_count": 38,
      "outputs": [
        {
          "output_type": "stream",
          "text": [
            "None\n"
          ],
          "name": "stdout"
        }
      ]
    },
    {
      "cell_type": "code",
      "metadata": {
        "colab": {
          "base_uri": "https://localhost:8080/"
        },
        "id": "ZyAUNj46e7ei",
        "outputId": "e750077f-83ab-4a5b-8219-2f86f3f8ce7e"
      },
      "source": [
        "import lexnlp.extract.en.distances\n",
        "output = list(lexnlp.extract.en.distances.get_distances(rawdata))\n",
        "if output:\n",
        "  print(output)\n",
        "else:\n",
        "  print('None')"
      ],
      "execution_count": 39,
      "outputs": [
        {
          "output_type": "stream",
          "text": [
            "None\n"
          ],
          "name": "stdout"
        }
      ]
    },
    {
      "cell_type": "code",
      "metadata": {
        "colab": {
          "base_uri": "https://localhost:8080/"
        },
        "id": "sOq7TsT6fW00",
        "outputId": "d3e1e5b9-829d-4f99-b03e-6a7768843961"
      },
      "source": [
        "import lexnlp.extract.en.durations\n",
        "output = list(lexnlp.extract.en.durations.get_durations(rawdata))\n",
        "if output:\n",
        "  print(output)\n",
        "else:\n",
        "  print('None')"
      ],
      "execution_count": 40,
      "outputs": [
        {
          "output_type": "stream",
          "text": [
            "[('year', Decimal('6.0'), Decimal('2190.0'))]\n"
          ],
          "name": "stdout"
        }
      ]
    },
    {
      "cell_type": "code",
      "metadata": {
        "colab": {
          "base_uri": "https://localhost:8080/"
        },
        "id": "q-XjMdkXfo5r",
        "outputId": "9232e5e9-d748-452c-ecc3-7e77616e25cc"
      },
      "source": [
        "import lexnlp.extract.en.money\n",
        "output = list(lexnlp.extract.en.money.get_money(rawdata))\n",
        "if output:\n",
        "  print(output)\n",
        "else:\n",
        "  print('None')"
      ],
      "execution_count": 41,
      "outputs": [
        {
          "output_type": "stream",
          "text": [
            "[(Decimal('80100.0'), 'USD'), (Decimal('14000.0'), 'USD'), (Decimal('14000.0'), 'USD')]\n"
          ],
          "name": "stdout"
        }
      ]
    },
    {
      "cell_type": "code",
      "metadata": {
        "colab": {
          "base_uri": "https://localhost:8080/"
        },
        "id": "MMfi2YtRggdy",
        "outputId": "87e2daf2-654d-494e-9f64-ea7d328c6ecb"
      },
      "source": [
        "import lexnlp.extract.en.percents\n",
        "output = list(lexnlp.extract.en.percents.get_percents(rawdata))\n",
        "if output:\n",
        "  print(output)\n",
        "else:\n",
        "  print('None')"
      ],
      "execution_count": 42,
      "outputs": [
        {
          "output_type": "stream",
          "text": [
            "None\n"
          ],
          "name": "stdout"
        }
      ]
    },
    {
      "cell_type": "code",
      "metadata": {
        "colab": {
          "base_uri": "https://localhost:8080/"
        },
        "id": "_0udvjcThQAO",
        "outputId": "e8cd9679-e062-4460-b1f0-572f05ba9d7f"
      },
      "source": [
        "import lexnlp.extract.en.pii\n",
        "output = list(lexnlp.extract.en.pii.get_pii(rawdata))\n",
        "if output:\n",
        "  print(output)\n",
        "else:\n",
        "  print('None')"
      ],
      "execution_count": 43,
      "outputs": [
        {
          "output_type": "stream",
          "text": [
            "None\n"
          ],
          "name": "stdout"
        }
      ]
    },
    {
      "cell_type": "code",
      "metadata": {
        "colab": {
          "base_uri": "https://localhost:8080/"
        },
        "id": "KevLq6Q7hkXQ",
        "outputId": "5ba12ca8-6a02-4a01-af29-023becaf01a8"
      },
      "source": [
        "import lexnlp.extract.en.ratios\n",
        "output = list(lexnlp.extract.en.ratios.get_ratios(rawdata))\n",
        "if output:\n",
        "  print(output)\n",
        "else:\n",
        "  print('None')"
      ],
      "execution_count": 44,
      "outputs": [
        {
          "output_type": "stream",
          "text": [
            "None\n"
          ],
          "name": "stdout"
        }
      ]
    },
    {
      "cell_type": "code",
      "metadata": {
        "colab": {
          "base_uri": "https://localhost:8080/"
        },
        "id": "CZlP6Z1hhvGM",
        "outputId": "0f536d1a-be07-450e-a78a-2f672f8600b9"
      },
      "source": [
        "import lexnlp.extract.en.regulations\n",
        "output = list(lexnlp.extract.en.regulations.get_regulations(rawdata))\n",
        "if output:\n",
        "  print(output)\n",
        "else:\n",
        "  print('None')"
      ],
      "execution_count": 45,
      "outputs": [
        {
          "output_type": "stream",
          "text": [
            "None\n"
          ],
          "name": "stdout"
        }
      ]
    },
    {
      "cell_type": "code",
      "metadata": {
        "colab": {
          "base_uri": "https://localhost:8080/"
        },
        "id": "lONzvSvpiCcI",
        "outputId": "51f3a1c2-05ba-440c-b533-63498b21d406"
      },
      "source": [
        "import lexnlp.extract.en.trademarks\n",
        "output = list(lexnlp.extract.en.trademarks.get_trademarks(rawdata))\n",
        "if output:\n",
        "  print(output)\n",
        "else:\n",
        "  print('None')"
      ],
      "execution_count": 46,
      "outputs": [
        {
          "output_type": "stream",
          "text": [
            "None\n"
          ],
          "name": "stdout"
        }
      ]
    },
    {
      "cell_type": "code",
      "metadata": {
        "colab": {
          "base_uri": "https://localhost:8080/"
        },
        "id": "etEOWgH3ib5e",
        "outputId": "92c592f8-5d7b-4e2a-9c14-3225bb0acb8a"
      },
      "source": [
        "import lexnlp.extract.en.urls\n",
        "output = list(lexnlp.extract.en.urls.get_urls(rawdata))\n",
        "if output:\n",
        "  print(output)\n",
        "else:\n",
        "  print('None')"
      ],
      "execution_count": 47,
      "outputs": [
        {
          "output_type": "stream",
          "text": [
            "None\n"
          ],
          "name": "stdout"
        }
      ]
    },
    {
      "cell_type": "code",
      "metadata": {
        "colab": {
          "base_uri": "https://localhost:8080/"
        },
        "id": "RnhUzGrAim36",
        "outputId": "c816a997-e14c-4e56-b757-a0c4488669df"
      },
      "source": [
        "import lexnlp.extract.en.addresses.addresses\n",
        "output = list(lexnlp.extract.en.addresses.addresses.get_addresses(rawdata))\n",
        "if output:\n",
        "  print(output)\n",
        "else:\n",
        "  print('None')"
      ],
      "execution_count": 49,
      "outputs": [
        {
          "output_type": "stream",
          "text": [
            "['2 Johns Rep 216 3 Wash C']\n"
          ],
          "name": "stdout"
        }
      ]
    },
    {
      "cell_type": "code",
      "metadata": {
        "colab": {
          "base_uri": "https://localhost:8080/"
        },
        "id": "bAj1hBaMSPCf",
        "outputId": "91af0d09-971e-4ab5-b019-9b882ebd18d9"
      },
      "source": [
        "!pip install pyap"
      ],
      "execution_count": 84,
      "outputs": [
        {
          "output_type": "stream",
          "text": [
            "Collecting pyap\n",
            "  Downloading https://files.pythonhosted.org/packages/53/b2/f0f962a5385d54cd91c153df93932b4996b793f1a2145807823d7f71328d/pyap-0.3.1-py2.py3-none-any.whl\n",
            "Installing collected packages: pyap\n",
            "Successfully installed pyap-0.3.1\n"
          ],
          "name": "stdout"
        }
      ]
    },
    {
      "cell_type": "code",
      "metadata": {
        "colab": {
          "base_uri": "https://localhost:8080/"
        },
        "id": "gg099ujESG0r",
        "outputId": "cc24aa88-84f7-4ea9-887f-ab688bd3abca"
      },
      "source": [
        "import spacy\n",
        "nlp = spacy.load('en_core_web_sm')\n",
        "doc = nlp(rawdata.strip())\n",
        "person= set()\n",
        "for x in doc.ents:\n",
        "  entry = str(x.lemma_).lower()\n",
        "  text = rawdata.replace(str(x).lower(), \"\")\n",
        "  if x.label_ == \"PERSON\":\n",
        "    person.add(entry.title())\n",
        "person"
      ],
      "execution_count": 52,
      "outputs": [
        {
          "output_type": "execute_result",
          "data": {
            "text/plain": [
              "{'Ala',\n",
              " 'Ala \\r  Error',\n",
              " 'Allen Harrison',\n",
              " 'Alston',\n",
              " 'Austin',\n",
              " 'Booker',\n",
              " 'Burton   Harrison',\n",
              " 'Case',\n",
              " 'Cohen',\n",
              " 'Dewey',\n",
              " 'Dowl Rep',\n",
              " 'Edwards',\n",
              " 'Elliott',\n",
              " 'Evans',\n",
              " 'Harrison',\n",
              " 'Jacob S Cohen',\n",
              " 'Janney',\n",
              " 'Lamar',\n",
              " 'Lampley \\r  31',\n",
              " 'Lien',\n",
              " 'Lien Attach',\n",
              " 'Mansony',\n",
              " 'Marshall',\n",
              " 'Perkins',\n",
              " 'Sawyer',\n",
              " 'Stewart',\n",
              " 'Sumter',\n",
              " 'W G Jones',\n",
              " 'Whipple',\n",
              " 'Wood'}"
            ]
          },
          "metadata": {
            "tags": []
          },
          "execution_count": 52
        }
      ]
    },
    {
      "cell_type": "code",
      "metadata": {
        "id": "QM-K-LzLjJQQ"
      },
      "source": [
        ""
      ],
      "execution_count": null,
      "outputs": []
    }
  ]
}