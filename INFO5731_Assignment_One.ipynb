{
  "nbformat": 4,
  "nbformat_minor": 0,
  "metadata": {
    "colab": {
      "name": "INFO5731_Assignment_One.ipynb",
      "provenance": [],
      "collapsed_sections": [],
      "include_colab_link": true
    },
    "kernelspec": {
      "name": "python3",
      "display_name": "Python 3"
    }
  },
  "cells": [
    {
      "cell_type": "markdown",
      "metadata": {
        "id": "view-in-github",
        "colab_type": "text"
      },
      "source": [
        "<a href=\"https://colab.research.google.com/github/pujangrg1/pujan_INFO5731_Spring2020/blob/main/INFO5731_Assignment_One.ipynb\" target=\"_parent\"><img src=\"https://colab.research.google.com/assets/colab-badge.svg\" alt=\"Open In Colab\"/></a>"
      ]
    },
    {
      "cell_type": "markdown",
      "metadata": {
        "id": "Ryk8D1Q4Wsrp"
      },
      "source": [
        "# **INFO5731 Assignment One**"
      ]
    },
    {
      "cell_type": "markdown",
      "metadata": {
        "id": "90_NR8c5XGWc"
      },
      "source": [
        "# Question 1\n",
        "\n",
        "(20 points). Write a Python program to generate 12 random numbers between 1 and 100. Sort the list of numbers in ascending order and print it out. Sort the list of numbers in descending order and print it out. Calculate the average for the group and print it out."
      ]
    },
    {
      "cell_type": "code",
      "metadata": {
        "id": "5QX6bJjGWXY9",
        "colab": {
          "base_uri": "https://localhost:8080/"
        },
        "outputId": "6f0af866-84c2-4510-a71f-e192d15737ef"
      },
      "source": [
        "# Your code here\n",
        "from numpy import random\n",
        "randomlist = list(random.randint(100, size=(12)))\n",
        "randomlist.sort()\n",
        "print(\"Ascending Order : \", randomlist)\n",
        "randomlist.sort(reverse= True)\n",
        "print(\"Descending Order : \", randomlist)\n",
        "print(\"Average of list : \", round(sum(randomlist)/len(randomlist),2))"
      ],
      "execution_count": null,
      "outputs": [
        {
          "output_type": "stream",
          "text": [
            "Ascending Order :  [4, 5, 11, 15, 28, 36, 60, 64, 73, 75, 75, 98]\n",
            "Descending Order :  [98, 75, 75, 73, 64, 60, 36, 28, 15, 11, 5, 4]\n",
            "Average of list :  45.33\n"
          ],
          "name": "stdout"
        }
      ]
    },
    {
      "cell_type": "markdown",
      "metadata": {
        "id": "1F_PZdH9Sh49"
      },
      "source": [
        "# Question 2\n",
        "(25 points). Write a program that will do the following string formatting tasks:\n",
        "\n",
        "(1) Ask the user to enter two sentences.\n",
        "\n",
        "(2) Make each sentence into a list. Each element in the list should correspond to a word in the sentence. For example, if the sentence is \"Alas! Am I alive? This is my first python program\", the program should print out ['Alas, '!', 'Am', 'I', 'alive, '?', 'This', 'is', 'my', 'first', 'python', 'program'].\n",
        "\n",
        "(3) Compare the two sentences. Print out a list of words that occur in both sentences.\n",
        "\n",
        "(4) Remove any punctuation from the sentence and print it back out. It should remove at least the following characters, but it can remove more: period(“.”), comma (“,”), semicolon (“;”), and colon (“:”)\n",
        "\n",
        "(5) Count the number of vowels in the sentences. Print out each vowel and the number of times it appears in the sentences, such as: a:2, e:1, i:0, etc"
      ]
    },
    {
      "cell_type": "code",
      "metadata": {
        "id": "Y0oOSlsOS0cq",
        "colab": {
          "base_uri": "https://localhost:8080/"
        },
        "outputId": "380cb428-02fb-4b45-8e1d-eba68567d307"
      },
      "source": [
        "# Your code here\n",
        "import re, nltk\n",
        "#Q-1\n",
        "firstSentence = input(\"Enter first sentence: \")\n",
        "secondSentence = input(\"Enter second sentence: \")\n",
        "\n",
        "#Q-2\n",
        "firstList = nltk.wordpunct_tokenize(firstSentence)\n",
        "secondList = nltk.wordpunct_tokenize(secondSentence)\n",
        "print(firstList)\n",
        "print(secondList)\n",
        "\n",
        "#Q-3\n",
        "def compareSentences(list1, list2):\n",
        "    similarWords = [i for i in list1 + list2 if i in list1 and i in list2]\n",
        "    if(len(similarWords) > 0):\n",
        "      return set(similarWords)\n",
        "\n",
        "print(compareSentences(firstList,secondList))\n",
        "\n",
        "#Q-4\n",
        "noPunctuationFirstSen = re.sub(r\"[^a-zA-Z\\s\\']\",\"\",firstSentence)\n",
        "noPunctuationSecondSen = re.sub(r\"[^a-zA-Z\\s\\']\",\"\",secondSentence)\n",
        "print(noPunctuationFirstSen)\n",
        "print(noPunctuationSecondSen)\n",
        "\n",
        "#Q-5\n",
        "firstsendlowercase = firstSentence.lower()\n",
        "secondsenowercase = firstSentence.lower()\n",
        "vowelCount = {}\n",
        "for vowel in \"aeiou\":\n",
        "    count = firstsendlowercase.count(vowel)\n",
        "    count2 = secondsenowercase.count(vowel)\n",
        "    vowelCount[vowel] = count+count2\n",
        "print(vowelCount)\n",
        "\n"
      ],
      "execution_count": null,
      "outputs": [
        {
          "output_type": "stream",
          "text": [
            "Enter first sentence: This is a test.\n",
            "Enter second sentence: My name is O.\n",
            "['This', 'is', 'a', 'test', '.']\n",
            "['My', 'name', 'is', 'O', '.']\n",
            "{'is', '.'}\n",
            "This is a test\n",
            "My name is O\n",
            "{'a': 2, 'e': 2, 'i': 4, 'o': 0, 'u': 0}\n"
          ],
          "name": "stdout"
        }
      ]
    },
    {
      "cell_type": "markdown",
      "metadata": {
        "id": "CmFoI4jDS9nx"
      },
      "source": [
        "# Question 3 \n",
        "\n",
        "(15 points). The formula that describes the volume V of a sphere with radius r is the following:\n",
        "\n",
        "$ V=\\frac{4}{3}\\ast\\ \\pi\\ast\\ r^3 $\n",
        "\n",
        "Write a program to calculate the value of V when r is in the range of 1–10. Output the result in the following format:\n",
        "\n",
        "\tr\tV\n",
        "\t1\t…\n",
        "\t2\t…\n",
        "\t3\t…\n"
      ]
    },
    {
      "cell_type": "code",
      "metadata": {
        "id": "pEyqeioAT95b",
        "colab": {
          "base_uri": "https://localhost:8080/"
        },
        "outputId": "fd56fb9e-b5af-456d-ff03-d69de3c09aea"
      },
      "source": [
        "# Your code here\n",
        "import pandas as pd\n",
        "import math\n",
        "\n",
        "radius = [5,8,9,11,12,10]\n",
        "data = []\n",
        "for r in radius:\n",
        "    if r <= 10:\n",
        "        volume = (4/3) * math.pi * r ** 3\n",
        "        data.append([r,round(volume,2)])\n",
        "\n",
        "df = pd.DataFrame(data,columns=['r','v'])\n",
        "print(df.to_string(index=False))\n"
      ],
      "execution_count": null,
      "outputs": [
        {
          "output_type": "stream",
          "text": [
            "  r        v\n",
            "  5   523.60\n",
            "  8  2144.66\n",
            "  9  3053.63\n",
            " 10  4188.79\n"
          ],
          "name": "stdout"
        }
      ]
    },
    {
      "cell_type": "code",
      "metadata": {
        "id": "pMCr3l8tnu0j"
      },
      "source": [
        ""
      ],
      "execution_count": null,
      "outputs": []
    },
    {
      "cell_type": "markdown",
      "metadata": {
        "id": "z3tBE7E-Xn5X"
      },
      "source": [
        "# Question 4\n",
        "\n",
        "(40 points). In the field of Data Science, data is often formatted as a comma-delimited (CSV) file, where each line in a file corresponds to a field's value. Refer to Chapter 9 (p. 106) for more information on comma-delimited files. To answer this question, you will need to download the file [Assignment1_denton_housing.csv](https://github.com/unt-iialab/INFO5731_Spring2020/blob/master/Assignments/Assignment1_denton_housing.csv) included with this assignment. The [file Assignment1_denton_housing.csv](https://github.com/unt-iialab/INFO5731_Spring2020/blob/master/Assignments/Assignment1_denton_housing.csv) contains statistics about housing in the city of Denton from 2008 to 2014. Write a program to implement the following questions.\n",
        "\n",
        "(1) (10 pts) Calculate the difference in the number of Occupied Housing Units from year to year and print it. The difference must be calculated for the consecutive years such as 2008-2009, 2009-2010 etc. Finally, print the values in the ascending order.\n",
        "\n",
        "(2) (10 pts) For all the years, calculate the percentage of housing units which are vacant an occupied. Print the results in the following format:\n",
        "\n",
        "Year Vacant Housing Units Occupied Housing Units\n",
        "\n",
        "    2008  30%   70%                          \n",
        "\t2009 ----- -----\n",
        "\t2010 ----- -----\n",
        "    2011 ----- -----\n",
        "\t2012 ----- -----\n",
        "    2013 ----- -----\n",
        "\t2014 ----- -----\n",
        "  \n",
        "  \n",
        "\n",
        "(3) (10 pts) Calculate and print the valued and years in which the highest number of housing units were vacant and occupied. Print the results in the following format:  \n",
        "\n",
        "                              Year\tValue\n",
        "\tVacant Housing Units\t  -----   -----\n",
        "\tOccupied Housing Units\t-----   -----\n",
        "\n",
        "(4) (10 pts) Calculate the harmonic mean of the total housing units and print it out. You can find the information about harmonic mean here: https://ncalculators.com/statistics/harmonic-mean-calculator.htm"
      ]
    },
    {
      "cell_type": "code",
      "metadata": {
        "id": "lqGYuHBhcsRH",
        "colab": {
          "base_uri": "https://localhost:8080/"
        },
        "outputId": "b3b0dd17-2dbc-46e1-f813-9365f23f79be"
      },
      "source": [
        "# Your code here\n",
        "# Q4-1\n",
        "import csv,re,os,glob\n",
        "import pandas as pd\n",
        "\n",
        "occupiedvalue = {}\n",
        "with open(\"Assignment1_denton_housing.csv\",'r') as file:\n",
        "    file_reader = csv.reader(file)\n",
        "    value = 0\n",
        "    for row in file_reader:\n",
        "        if row[1] == \"Occupied Housing Units\":\n",
        "          occupiedvalue[int(row[0])] = int(row[2])  \n",
        "\n",
        "year = 2008\n",
        "difference = {}\n",
        "while year < 2014:\n",
        "  difference[occupiedvalue[year+1]-occupiedvalue[year]] = str(year)+\"-\"+str(year+1)\n",
        "  year += 1\n",
        "print(difference)\n",
        "\n",
        "for i in sorted(difference.keys()):\n",
        "  print(difference[i],\":\",i)"
      ],
      "execution_count": 67,
      "outputs": [
        {
          "output_type": "stream",
          "text": [
            "{-795: '2008-2009', 5091: '2009-2010', -303: '2010-2011', 1404: '2011-2012', 1565: '2012-2013', 2622: '2013-2014'}\n",
            "2008-2009 : -795\n",
            "2010-2011 : -303\n",
            "2011-2012 : 1404\n",
            "2012-2013 : 1565\n",
            "2013-2014 : 2622\n",
            "2009-2010 : 5091\n"
          ],
          "name": "stdout"
        }
      ]
    },
    {
      "cell_type": "code",
      "metadata": {
        "colab": {
          "base_uri": "https://localhost:8080/"
        },
        "id": "6ZjCBB3QYpuv",
        "outputId": "ea48c066-853f-4131-c9c6-92220a24bd5b"
      },
      "source": [
        "# Your code here\n",
        "# Q4-2\n",
        "import csv,re,os,glob,math\n",
        "import pandas as pd\n",
        "\n",
        "occupiedhousingunits = {}\n",
        "vacanthousingunits = {}\n",
        "totalhousingunits = {}\n",
        "with open(\"Assignment1_denton_housing.csv\",'r') as file:\n",
        "    file_reader = csv.reader(file)\n",
        "    value = 0\n",
        "    for row in file_reader:\n",
        "        if row[1] == \"Occupied Housing Units\":\n",
        "          occupiedhousingunits[int(row[0])] = int(row[2]) \n",
        "        elif row[1] == \"Vacant Housing Units\":\n",
        "          vacanthousingunits[int(row[0])] = int(row[2])\n",
        "        elif row[1] == \"Total Housing Units\":\n",
        "          totalhousingunits[int(row[0])] = int(row[2])\n",
        "\n",
        "print(\"Year\\tVacant Housing Units\\tOccupied Housing Units\")\n",
        "year = 2008\n",
        "vacanthousingpercentage = 0\n",
        "occupiedhousingpercentage = 0\n",
        "while year <= 2014:\n",
        "  occupiedhousingpercentage = \"{:.2%}\".format(occupiedhousingunits[year]/totalhousingunits[year])\n",
        "  vacanthousingpercentage = \"{:.2%}\".format(vacanthousingunits[year]/totalhousingunits[year])\n",
        "  print(year,\"\\t\",vacanthousingpercentage,\"\\t\\t\\t\", occupiedhousingpercentage)\n",
        "  year += 1\n",
        "\n"
      ],
      "execution_count": 96,
      "outputs": [
        {
          "output_type": "stream",
          "text": [
            "Year\tVacant Housing Units\tOccupied Housing Units\n",
            "2008 \t 10.88% \t\t\t 89.12%\n",
            "2009 \t 9.07% \t\t\t 90.93%\n",
            "2010 \t 8.14% \t\t\t 91.86%\n",
            "2011 \t 9.38% \t\t\t 90.62%\n",
            "2012 \t 6.68% \t\t\t 93.32%\n",
            "2013 \t 8.80% \t\t\t 91.20%\n",
            "2014 \t 5.73% \t\t\t 94.27%\n"
          ],
          "name": "stdout"
        }
      ]
    },
    {
      "cell_type": "code",
      "metadata": {
        "colab": {
          "base_uri": "https://localhost:8080/"
        },
        "id": "NqleJkxvvrmv",
        "outputId": "15e59cde-89d5-4f3b-9bbb-fa56a5cb7273"
      },
      "source": [
        "# Your code here\n",
        "# Q4-3\n",
        "import csv,re,os,glob,math\n",
        "import pandas as pd\n",
        "\n",
        "occupiedhousingunits = {}\n",
        "vacanthousingunits = {}\n",
        "\n",
        "with open(\"Assignment1_denton_housing.csv\",'r') as file:\n",
        "    file_reader = csv.reader(file)\n",
        "    value = 0\n",
        "    for row in file_reader:\n",
        "        if row[1] == \"Occupied Housing Units\":\n",
        "          occupiedhousingunits[int(row[0])] = int(row[2]) \n",
        "        elif row[1] == \"Vacant Housing Units\":\n",
        "          vacanthousingunits[int(row[0])] = int(row[2])\n",
        "\n",
        "print(\"\\t\\t\\tYear\\tValue\")\n",
        "year = 2008\n",
        "\n",
        "for i, j in zip(vacanthousingunits.items(), occupiedhousingunits.items()):\n",
        "  if i[1] == max(vacanthousingunits.values()):\n",
        "    print(\"Vacant Housing Units\\t\",i[0],\"\\t\", i[1])\n",
        "  if j[1] == max(occupiedhousingunits.values()):\n",
        "    print(\"Occupied Housing Units\\t\",j[0],\"\\t\", j[1]) \n",
        "  \n",
        "  \n"
      ],
      "execution_count": 5,
      "outputs": [
        {
          "output_type": "stream",
          "text": [
            "\t\t\tYear\tValue\n",
            "Occupied Housing Units\t 2014 \t 46295\n",
            "Vacant Housing Units\t 2008 \t 4483\n"
          ],
          "name": "stdout"
        }
      ]
    },
    {
      "cell_type": "code",
      "metadata": {
        "colab": {
          "base_uri": "https://localhost:8080/"
        },
        "id": "4j2skSlJ7Fyq",
        "outputId": "af1645c1-a4f4-4de9-d2fe-848f6467eed9"
      },
      "source": [
        "import csv\n",
        "\n",
        "def calculateHM(totalhousingunits):\n",
        "  sum = 0\n",
        "  for i in totalhousingunits:\n",
        "    sum += (1/i)\n",
        "  harmonicmean = round(len(totalhousingunits)/sum, 2)\n",
        "  return harmonicmean\n",
        "\n",
        "occupiedhousingunits = []\n",
        "\n",
        "with open(\"Assignment1_denton_housing.csv\",'r') as file:\n",
        "  file_reader = csv.reader(file)\n",
        "  value = 0\n",
        "  for row in file_reader:\n",
        "    if row[1] == \"Total Housing Units\":\n",
        "      occupiedhousingunits.append(int(row[2]))\n",
        "print(occupiedhousingunits)\n",
        "print(\"Harmonic Mean: \", calculateHM(occupiedhousingunits))"
      ],
      "execution_count": 9,
      "outputs": [
        {
          "output_type": "stream",
          "text": [
            "[49109, 47888, 45121, 44917, 44642, 39499, 41194]\n",
            "Harmonic Mean:  44398.29\n"
          ],
          "name": "stdout"
        }
      ]
    },
    {
      "cell_type": "code",
      "metadata": {
        "id": "V3FAC-Qkk3k5"
      },
      "source": [
        ""
      ],
      "execution_count": null,
      "outputs": []
    }
  ]
}