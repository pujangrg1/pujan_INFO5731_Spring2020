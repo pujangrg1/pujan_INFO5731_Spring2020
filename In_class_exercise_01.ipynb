{
  "nbformat": 4,
  "nbformat_minor": 0,
  "metadata": {
    "colab": {
      "name": "In_class_exercise_01.ipynb",
      "provenance": [],
      "collapsed_sections": [],
      "include_colab_link": true
    },
    "kernelspec": {
      "display_name": "Python 3",
      "language": "python",
      "name": "python3"
    },
    "language_info": {
      "codemirror_mode": {
        "name": "ipython",
        "version": 3
      },
      "file_extension": ".py",
      "mimetype": "text/x-python",
      "name": "python",
      "nbconvert_exporter": "python",
      "pygments_lexer": "ipython3",
      "version": "3.8.3"
    }
  },
  "cells": [
    {
      "cell_type": "markdown",
      "metadata": {
        "id": "view-in-github",
        "colab_type": "text"
      },
      "source": [
        "<a href=\"https://colab.research.google.com/github/pujangrg1/pujan_INFO5731_Spring2020/blob/main/In_class_exercise_01.ipynb\" target=\"_parent\"><img src=\"https://colab.research.google.com/assets/colab-badge.svg\" alt=\"Open In Colab\"/></a>"
      ]
    },
    {
      "cell_type": "markdown",
      "metadata": {
        "id": "DymRJbxDBCnf"
      },
      "source": [
        "# **The first In-class-exercise (9/2/2020, 20 points in total)**"
      ]
    },
    {
      "cell_type": "markdown",
      "metadata": {
        "id": "03jb4GZsBkBS"
      },
      "source": [
        "(1) Write a Python program to calculate the length of a string. (2 points)"
      ]
    },
    {
      "cell_type": "code",
      "metadata": {
        "id": "YaGLbSHHB8Ej",
        "outputId": "d944fe63-0aa1-4dc1-be64-9ddded3e83bc"
      },
      "source": [
        "# write your answer here\n",
        "a = \"This is a string\"\n",
        "print(len(a))"
      ],
      "execution_count": null,
      "outputs": [
        {
          "output_type": "stream",
          "text": [
            "16\n"
          ],
          "name": "stdout"
        }
      ]
    },
    {
      "cell_type": "markdown",
      "metadata": {
        "id": "jJDe71iLB616"
      },
      "source": [
        "(2) Write a Python program to count the number of characters in a string. (2 points)\n",
        "\n",
        "Sample String : 'google.com‘, \n",
        "\n",
        "Expected Result : {'o': 3, 'g': 2, '.': 1, 'e': 1, 'l': 1, 'm': 1, 'c': 1}"
      ]
    },
    {
      "cell_type": "code",
      "metadata": {
        "id": "MtKskTzbCLaU",
        "outputId": "1f770b81-7e4f-4f0c-c5d5-386dc64fde70"
      },
      "source": [
        "# write your answer here\n",
        "def character_frequency(sampleString):\n",
        "    result = {}\n",
        "    count = 0\n",
        "    for i in sampleString:\n",
        "        resultKeys = result.keys()    \n",
        "        if i in resultKeys:\n",
        "            result[i] += 1\n",
        "        else:\n",
        "            result[i] = 1\n",
        "    return result\n",
        "print(character_frequency('google.com'))"
      ],
      "execution_count": null,
      "outputs": [
        {
          "output_type": "stream",
          "text": [
            "{'g': 2, 'o': 3, 'l': 1, 'e': 1, '.': 1, 'c': 1, 'm': 1}\n"
          ],
          "name": "stdout"
        }
      ]
    },
    {
      "cell_type": "markdown",
      "metadata": {
        "id": "55W9AMdXCSpV"
      },
      "source": [
        "(3) Write a Python program to sum all the items in a list. (2 points)"
      ]
    },
    {
      "cell_type": "code",
      "metadata": {
        "id": "I57NXsauCec2",
        "outputId": "8e9a77e6-170e-4428-9106-3b1b985b4cb9"
      },
      "source": [
        "# write your answer here\n",
        "sum = 0\n",
        "for i in range(5):\n",
        "    userInput = input(\"Enter list item: \")\n",
        "    sum = sum + int(userInput)\n",
        "print(\"Sum of list items: \", sum)"
      ],
      "execution_count": null,
      "outputs": [
        {
          "output_type": "stream",
          "text": [
            "Enter list item: 1\n",
            "Enter list item: 2\n",
            "Enter list item: 3\n",
            "Enter list item: 4\n",
            "Enter list item: 5\n",
            "Sum of list items:  15\n"
          ],
          "name": "stdout"
        }
      ]
    },
    {
      "cell_type": "markdown",
      "metadata": {
        "id": "4ulBZ6yhCi9F"
      },
      "source": [
        "## (4) Write a Python program to get a string from a given string where all occurrences of its first char have been changed to '$', except the first char itself. (2 points)\n",
        "\n",
        "Sample String : 'restart‘, \n",
        "\n",
        "Expected Result : 'resta\\$t'"
      ]
    },
    {
      "cell_type": "code",
      "metadata": {
        "id": "Fj0XhwbBCw2o",
        "outputId": "326eb5f7-d66e-4308-a784-a0dd5c35f826"
      },
      "source": [
        "# write your answer here\n",
        "lis = []\n",
        "sampleString= \"restart\"\n",
        "for i in sampleString:\n",
        "    if i in lis:\n",
        "        if i == 'r':\n",
        "            lis.append('$')\n",
        "        else:\n",
        "            lis.append (i)\n",
        "    else:\n",
        "        lis.append (i)\n",
        "print(''.join(str(i) for i in lis))"
      ],
      "execution_count": null,
      "outputs": [
        {
          "output_type": "stream",
          "text": [
            "resta$t\n"
          ],
          "name": "stdout"
        }
      ]
    },
    {
      "cell_type": "markdown",
      "metadata": {
        "id": "_bIP7s1MCzue"
      },
      "source": [
        "(5) Write a program with python which could accept two parameter a and b to calculate and output the result of S, where \n",
        "\n",
        "$\\ S=3.14*(1+a/b)^3$ (3 points)\n",
        "\n"
      ]
    },
    {
      "cell_type": "code",
      "metadata": {
        "id": "w79QilHXD3Mg",
        "scrolled": true,
        "outputId": "33e0eed2-29f2-49ed-c3a6-68250c29fef1"
      },
      "source": [
        "# write your answer here\n",
        "def solve(firstNumber,secondNumber):\n",
        "    s = 3.14 * (1+firstNumber/secondNumber)**3\n",
        "    return s\n",
        "\n",
        "a= input(\"Enter a number: \")\n",
        "b= input(\"Enter a number: \")\n",
        "\n",
        "print(solve(int(a),int(b)))"
      ],
      "execution_count": null,
      "outputs": [
        {
          "output_type": "stream",
          "text": [
            "Enter a number: 2\n",
            "Enter a number: 2\n",
            "25.12\n"
          ],
          "name": "stdout"
        }
      ]
    },
    {
      "cell_type": "markdown",
      "metadata": {
        "id": "xCa2bK9aD4Q3"
      },
      "source": [
        "(6) Write a Python program to concatenate following dictionaries to create a new one. (3 points)\n",
        "\n",
        "Sample Dictionary : dic1={1:10, 2:20}, dic2={3:30, 4:40}, dic3={5:50,6:60}, \n",
        "\n",
        "Expected Result : {1: 10, 2: 20, 3: 30, 4: 40, 5: 50, 6: 60}\n"
      ]
    },
    {
      "cell_type": "code",
      "metadata": {
        "id": "_z4aLqAbEET1",
        "outputId": "23708cce-67ce-4eed-d5ed-b05ece931827"
      },
      "source": [
        "# write your answer here\n",
        "dic1={1:10, 2:20}\n",
        "dic2={3:30, 4:40}\n",
        "dic3={5:50,6:60}\n",
        "\n",
        "finalDiconary = dic1.copy()\n",
        "finalDiconary.update(dic2)\n",
        "finalDiconary.update(dic3)\n",
        "print(finalDiconary)\n"
      ],
      "execution_count": null,
      "outputs": [
        {
          "output_type": "stream",
          "text": [
            "{1: 10, 2: 20, 3: 30, 4: 40, 5: 50, 6: 60}\n"
          ],
          "name": "stdout"
        }
      ]
    },
    {
      "cell_type": "markdown",
      "metadata": {
        "id": "0v48Vqa7FrQh"
      },
      "source": [
        "(7) Write a Python program to check whether an element exists within a tuple. (3 points)"
      ]
    },
    {
      "cell_type": "code",
      "metadata": {
        "id": "7WEmgq-DF2P1",
        "outputId": "2811c975-9f42-4962-b0f1-a0fbf54ca2ec"
      },
      "source": [
        "# write your answer here\n",
        "thisTuple = (\"White\",\"Black\",\"Red\",5)\n",
        "\n",
        "print (5 in thisTuple)"
      ],
      "execution_count": null,
      "outputs": [
        {
          "output_type": "stream",
          "text": [
            "True\n"
          ],
          "name": "stdout"
        }
      ]
    },
    {
      "cell_type": "markdown",
      "metadata": {
        "id": "vD5PYLMuGga_"
      },
      "source": [
        "(8) Write a Python program to find maximum and the minimum value in a set. (3 points)"
      ]
    },
    {
      "cell_type": "code",
      "metadata": {
        "id": "t0D5kdJUGjjw",
        "outputId": "fb861707-ccc3-462a-ca85-9f0bfd8cbd37"
      },
      "source": [
        "# write your answer here\n",
        "sampleSet = {5,4,3,2,10}\n",
        "\n",
        "print(\"Maximum value in the set is: \", max(sampleSet))\n",
        "print(\"Minimum value in the set is: \", min(sampleSet))"
      ],
      "execution_count": null,
      "outputs": [
        {
          "output_type": "stream",
          "text": [
            "Maximum value in the set is:  10\n",
            "Minimum value in the set is:  2\n"
          ],
          "name": "stdout"
        }
      ]
    },
    {
      "cell_type": "markdown",
      "metadata": {
        "id": "uHkd-y5VhVWC"
      },
      "source": [
        "(9) Write a Python program to randomly divide the students in this class into five groups for term projects, each group should have at least 3 students but no more than 5 students (including 5). Here is the students list: (3 points for extra)\n",
        "\n",
        "studnet_list = ['vmb0067','pc0353','snd0097','yye0005','sg0940','bk0301','rak0120','rrk0058','spk0057','vl0135','nm0547','pn0159',\n",
        "                'msp0174','dd0420','ds0761','rs0850','ss1995','at0739','at0768','mv0299','tv0119','dy0091']"
      ]
    },
    {
      "cell_type": "code",
      "metadata": {
        "id": "3iGbmcOBhTwy",
        "scrolled": true,
        "outputId": "6f2aae12-bd1a-4954-8cc8-e80c8598b7b0"
      },
      "source": [
        "# write your answer here\n",
        "student_list = ['vmb0067', 'pc0353', 'snd0097', 'yye0005', 'sg0940', 'bk0301', 'rak0120', 'rrk0058', 'spk0057',\n",
        "                'vl0135', 'nm0547', 'pn0159', 'msp0174', 'dd0420', 'ds0761', 'rs0850', 'ss1995', 'at0739', 'at0768',\n",
        "                'mv0299', 'tv0119', 'dy0091']\n",
        "numberOfStudents = len(student_list)\n",
        "numberOfGroups = 5\n",
        "groupCount = 1\n",
        "while numberOfStudents > 0 and numberOfGroups > 0:\n",
        "    teams = random.sample(student_list, int(numberOfStudents / numberOfGroups))\n",
        "    for x in teams:\n",
        "        student_list.remove(x)\n",
        "    numberOfStudents -= int(numberOfStudents / numberOfGroups)\n",
        "    numberOfGroups -= 1\n",
        "    print(\"Members in Group \", groupCount,\":\", teams)\n",
        "    groupCount += 1"
      ],
      "execution_count": null,
      "outputs": [
        {
          "output_type": "stream",
          "text": [
            "Members in Group  1 : ['dd0420', 'mv0299', 'dy0091', 'ss1995']\n",
            "Members in Group  2 : ['rs0850', 'nm0547', 'at0768', 'vl0135']\n",
            "Members in Group  3 : ['snd0097', 'tv0119', 'msp0174', 'pc0353']\n",
            "Members in Group  4 : ['vmb0067', 'pn0159', 'spk0057', 'at0739', 'rrk0058']\n",
            "Members in Group  5 : ['sg0940', 'ds0761', 'bk0301', 'yye0005', 'rak0120']\n"
          ],
          "name": "stdout"
        }
      ]
    },
    {
      "cell_type": "code",
      "metadata": {
        "id": "knNwxsyeSCbv"
      },
      "source": [
        ""
      ],
      "execution_count": null,
      "outputs": []
    }
  ]
}