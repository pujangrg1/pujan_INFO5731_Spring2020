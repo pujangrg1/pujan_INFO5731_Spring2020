{
  "nbformat": 4,
  "nbformat_minor": 0,
  "metadata": {
    "kernelspec": {
      "display_name": "Python 3",
      "language": "python",
      "name": "python3"
    },
    "language_info": {
      "codemirror_mode": {
        "name": "ipython",
        "version": 3
      },
      "file_extension": ".py",
      "mimetype": "text/x-python",
      "name": "python",
      "nbconvert_exporter": "python",
      "pygments_lexer": "ipython3",
      "version": "3.7.4"
    },
    "colab": {
      "name": "In-class-exercise-03.ipynb",
      "provenance": [],
      "collapsed_sections": [],
      "include_colab_link": true
    }
  },
  "cells": [
    {
      "cell_type": "markdown",
      "metadata": {
        "id": "view-in-github",
        "colab_type": "text"
      },
      "source": [
        "<a href=\"https://colab.research.google.com/github/pujangrg1/pujan_INFO5731_Spring2020/blob/main/In_class_exercise_03.ipynb\" target=\"_parent\"><img src=\"https://colab.research.google.com/assets/colab-badge.svg\" alt=\"Open In Colab\"/></a>"
      ]
    },
    {
      "cell_type": "markdown",
      "metadata": {
        "id": "iXVPwtr-iSJn"
      },
      "source": [
        "## The third In-class-exercise (9/16/2020, 20 points in total)"
      ]
    },
    {
      "cell_type": "markdown",
      "metadata": {
        "id": "ZUetXqrRiSJq"
      },
      "source": [
        "The purpose of this exercise is to under users' information needs, then collect the data for analysis."
      ]
    },
    {
      "cell_type": "markdown",
      "metadata": {
        "id": "faDtd8RmiSJq"
      },
      "source": [
        "Question 1 (8 points): Describe an interesting research question (or practical question) you have in mind, what kind of data should be collected to answer the question(s)? How many data needed for the analysis? The detail steps for collecting and save the data. "
      ]
    },
    {
      "cell_type": "code",
      "metadata": {
        "id": "tfhzaSG0iSJs"
      },
      "source": [
        "# Your answer here (no code for this question, write down your answer as detail as possible for the above questions):\n",
        "\n",
        "'''\n",
        "Please write your answer here:\n",
        "What are the top 500 global destinations in the world?\n",
        "To answer this data, i would need to gather the global destination from a website. For this particular exercise, \n",
        "i have used https://www.listchallenges.com to generate the list. \n",
        "The data provided in this website is in the form of thumbnails with picture, but i will be pulling only the destination name\n",
        "and will use pandas to create a DataFrame which will list all 500+ destinations.\n",
        "\n",
        "Detail steps for collecting and saving the data.\n",
        "1. Will first import necessary packages along with BeautifulSoup for webscrapping\n",
        "2. I will pass the url for the website in a variable.\n",
        "3. I will grab just the text from the response.\n",
        "4. Using beautiful soup, i will scrape the data by providing the class name of the html element.\n",
        "5. I will create an empty list to append in the destination names.\n",
        "6. I will create a for loop to loop into all 13 pages.\n",
        "7. I will again create another for loop to loop into the list of destination names.\n",
        "8. After getting the destination name inside the loop, i will use regex to remove all the unwanted characters like \\n\\r\\t and white spaces.\n",
        "9. I will then append the formatted data to the empty list.\n",
        "10. Outside the loop, i will then use pandas DataFrame to enter the destination names in an empty list and will print the list.\n",
        "\n",
        "\n",
        "\n",
        "\n",
        "'''"
      ],
      "execution_count": null,
      "outputs": []
    },
    {
      "cell_type": "markdown",
      "metadata": {
        "id": "mdHgoSXciSJs"
      },
      "source": [
        "Question 2 (12 points): Write python code to collect 500 items of the data you plan to collect above."
      ]
    },
    {
      "cell_type": "code",
      "metadata": {
        "colab": {
          "base_uri": "https://localhost:8080/"
        },
        "id": "H6sasthqiSJt",
        "outputId": "b5eb6a61-83c8-4885-e414-ba1f5564580f"
      },
      "source": [
        "# You code here (Please add comments in the code):\n",
        "import requests, re\n",
        "from bs4 import BeautifulSoup\n",
        "import pandas as pd\n",
        "\n",
        "url_to_parse = \"https://www.listchallenges.com/lonely-planet-ultimate-travel-top-500-sights\"\n",
        "response = requests.get(url_to_parse)\n",
        "response_text = response.text\n",
        "soup= BeautifulSoup(response_text, 'lxml')\n",
        "data = soup.find_all(class_='item-name')\n",
        "destinations = []\n",
        "for x in range(13):\n",
        "  for i in data:\n",
        "    dest = i.text\n",
        "    regex = re.compile(r'[\\n\\r\\t]')\n",
        "    dest = regex.sub(\" \", dest)\n",
        "    dest = dest.strip()\n",
        "    destinations.append(dest)\n",
        "\n",
        "destinationlist = pd.DataFrame(destinations,columns=['Location'])\n",
        "\n",
        "print(\"\\tTop 500 Global Destinations\")        \n",
        "print(destinationlist)"
      ],
      "execution_count": 70,
      "outputs": [
        {
          "output_type": "stream",
          "text": [
            "\tTop 500 Global Destinations\n",
            "                           Location\n",
            "0              Angkor Wat, Cambodia\n",
            "1                Great Barrier Reef\n",
            "2                      Machu Picchu\n",
            "3               Great Wall of China\n",
            "4                         Taj Mahal\n",
            "..                              ...\n",
            "515                   Lake District\n",
            "516                   Louvre Museum\n",
            "517  Torres Del Paine National Park\n",
            "518                     Lake Baikal\n",
            "519                    Eiffel Tower\n",
            "\n",
            "[520 rows x 1 columns]\n"
          ],
          "name": "stdout"
        }
      ]
    },
    {
      "cell_type": "code",
      "metadata": {
        "id": "B8IgHPWj0L1m"
      },
      "source": [
        ""
      ],
      "execution_count": null,
      "outputs": []
    }
  ]
}