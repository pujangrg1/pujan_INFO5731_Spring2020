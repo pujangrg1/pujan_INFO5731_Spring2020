{
  "nbformat": 4,
  "nbformat_minor": 0,
  "metadata": {
    "kernelspec": {
      "display_name": "Python 3",
      "language": "python",
      "name": "python3"
    },
    "language_info": {
      "codemirror_mode": {
        "name": "ipython",
        "version": 3
      },
      "file_extension": ".py",
      "mimetype": "text/x-python",
      "name": "python",
      "nbconvert_exporter": "python",
      "pygments_lexer": "ipython3",
      "version": "3.8.5"
    },
    "colab": {
      "name": "In_Class_exercises-10.ipynb",
      "provenance": [],
      "collapsed_sections": [],
      "include_colab_link": true
    }
  },
  "cells": [
    {
      "cell_type": "markdown",
      "metadata": {
        "id": "view-in-github",
        "colab_type": "text"
      },
      "source": [
        "<a href=\"https://colab.research.google.com/github/pujangrg1/pujan_INFO5731_Spring2020/blob/main/In_Class_exercises_10.ipynb\" target=\"_parent\"><img src=\"https://colab.research.google.com/assets/colab-badge.svg\" alt=\"Open In Colab\"/></a>"
      ]
    },
    {
      "cell_type": "markdown",
      "metadata": {
        "id": "D4ARFBzInq0l"
      },
      "source": [
        "# In class exercise 10 (20 points in total, 4/16/2021)"
      ]
    },
    {
      "cell_type": "markdown",
      "metadata": {
        "id": "rVWGu7rMnq0q"
      },
      "source": [
        "The purpose of the exercise is to practice different machine learning algorithms for text clustering\n",
        "Please downlad the dataset by using the following link.  https://www.kaggle.com/PromptCloudHQ/amazon-reviews-unlocked-mobile-phones\n",
        "(You can also use different text data which you want)\n",
        "\n",
        "Apply the listed clustering methods to the dataset:\n",
        "\n",
        "K means, \n",
        "DBSCAN,\n",
        "Hierarchical clustering. \n",
        "\n",
        "You can refer to of the codes from  the follwing link below. \n",
        "https://www.kaggle.com/karthik3890/text-clustering \n",
        "    "
      ]
    },
    {
      "cell_type": "markdown",
      "metadata": {
        "id": "9Ei-dJYaqlBn"
      },
      "source": [
        "**Reading data**"
      ]
    },
    {
      "cell_type": "code",
      "metadata": {
        "colab": {
          "base_uri": "https://localhost:8080/",
          "height": 572
        },
        "id": "LmyNw5H3nq0s",
        "outputId": "c7da68f2-bf09-4d8b-bebc-20400e7897a0"
      },
      "source": [
        "#Write your code here.\n",
        "import pandas as pd\n",
        "amazon_data = pd.read_csv(\"sample_data/Amazon_Unlocked_Mobile.csv\")\n",
        "amazon_data = amazon_data.head(10000)\n",
        "amazon_data"
      ],
      "execution_count": 32,
      "outputs": [
        {
          "output_type": "execute_result",
          "data": {
            "text/html": [
              "<div>\n",
              "<style scoped>\n",
              "    .dataframe tbody tr th:only-of-type {\n",
              "        vertical-align: middle;\n",
              "    }\n",
              "\n",
              "    .dataframe tbody tr th {\n",
              "        vertical-align: top;\n",
              "    }\n",
              "\n",
              "    .dataframe thead th {\n",
              "        text-align: right;\n",
              "    }\n",
              "</style>\n",
              "<table border=\"1\" class=\"dataframe\">\n",
              "  <thead>\n",
              "    <tr style=\"text-align: right;\">\n",
              "      <th></th>\n",
              "      <th>Product Name</th>\n",
              "      <th>Brand Name</th>\n",
              "      <th>Price</th>\n",
              "      <th>Rating</th>\n",
              "      <th>Reviews</th>\n",
              "      <th>Review Votes</th>\n",
              "    </tr>\n",
              "  </thead>\n",
              "  <tbody>\n",
              "    <tr>\n",
              "      <th>0</th>\n",
              "      <td>\"CLEAR CLEAN ESN\" Sprint EPIC 4G Galaxy SPH-D7...</td>\n",
              "      <td>Samsung</td>\n",
              "      <td>199.99</td>\n",
              "      <td>5</td>\n",
              "      <td>I feel so LUCKY to have found this used (phone...</td>\n",
              "      <td>1.0</td>\n",
              "    </tr>\n",
              "    <tr>\n",
              "      <th>1</th>\n",
              "      <td>\"CLEAR CLEAN ESN\" Sprint EPIC 4G Galaxy SPH-D7...</td>\n",
              "      <td>Samsung</td>\n",
              "      <td>199.99</td>\n",
              "      <td>4</td>\n",
              "      <td>nice phone, nice up grade from my pantach revu...</td>\n",
              "      <td>0.0</td>\n",
              "    </tr>\n",
              "    <tr>\n",
              "      <th>2</th>\n",
              "      <td>\"CLEAR CLEAN ESN\" Sprint EPIC 4G Galaxy SPH-D7...</td>\n",
              "      <td>Samsung</td>\n",
              "      <td>199.99</td>\n",
              "      <td>5</td>\n",
              "      <td>Very pleased</td>\n",
              "      <td>0.0</td>\n",
              "    </tr>\n",
              "    <tr>\n",
              "      <th>3</th>\n",
              "      <td>\"CLEAR CLEAN ESN\" Sprint EPIC 4G Galaxy SPH-D7...</td>\n",
              "      <td>Samsung</td>\n",
              "      <td>199.99</td>\n",
              "      <td>4</td>\n",
              "      <td>It works good but it goes slow sometimes but i...</td>\n",
              "      <td>0.0</td>\n",
              "    </tr>\n",
              "    <tr>\n",
              "      <th>4</th>\n",
              "      <td>\"CLEAR CLEAN ESN\" Sprint EPIC 4G Galaxy SPH-D7...</td>\n",
              "      <td>Samsung</td>\n",
              "      <td>199.99</td>\n",
              "      <td>4</td>\n",
              "      <td>Great phone to replace my lost phone. The only...</td>\n",
              "      <td>0.0</td>\n",
              "    </tr>\n",
              "    <tr>\n",
              "      <th>...</th>\n",
              "      <td>...</td>\n",
              "      <td>...</td>\n",
              "      <td>...</td>\n",
              "      <td>...</td>\n",
              "      <td>...</td>\n",
              "      <td>...</td>\n",
              "    </tr>\n",
              "    <tr>\n",
              "      <th>9995</th>\n",
              "      <td>Apple iPhone 4 8GB, Unlocked (Black)</td>\n",
              "      <td>NaN</td>\n",
              "      <td>122.00</td>\n",
              "      <td>1</td>\n",
              "      <td>Words can't describe how unsatisfied I am. The...</td>\n",
              "      <td>2.0</td>\n",
              "    </tr>\n",
              "    <tr>\n",
              "      <th>9996</th>\n",
              "      <td>Apple iPhone 4 8GB, Unlocked (Black)</td>\n",
              "      <td>NaN</td>\n",
              "      <td>122.00</td>\n",
              "      <td>2</td>\n",
              "      <td>First of all the Iphone receive was in great c...</td>\n",
              "      <td>2.0</td>\n",
              "    </tr>\n",
              "    <tr>\n",
              "      <th>9997</th>\n",
              "      <td>Apple iPhone 4 8GB, Unlocked (Black)</td>\n",
              "      <td>NaN</td>\n",
              "      <td>122.00</td>\n",
              "      <td>4</td>\n",
              "      <td>Should of been black color but only had white ...</td>\n",
              "      <td>0.0</td>\n",
              "    </tr>\n",
              "    <tr>\n",
              "      <th>9998</th>\n",
              "      <td>Apple iPhone 4 8GB, Unlocked (Black)</td>\n",
              "      <td>NaN</td>\n",
              "      <td>122.00</td>\n",
              "      <td>1</td>\n",
              "      <td>The phone was NOT unlocked when I received it....</td>\n",
              "      <td>0.0</td>\n",
              "    </tr>\n",
              "    <tr>\n",
              "      <th>9999</th>\n",
              "      <td>Apple iPhone 4 8GB, Unlocked (Black)</td>\n",
              "      <td>NaN</td>\n",
              "      <td>122.00</td>\n",
              "      <td>4</td>\n",
              "      <td>Its a nice phone, i like it.It like because of...</td>\n",
              "      <td>0.0</td>\n",
              "    </tr>\n",
              "  </tbody>\n",
              "</table>\n",
              "<p>10000 rows × 6 columns</p>\n",
              "</div>"
            ],
            "text/plain": [
              "                                           Product Name  ... Review Votes\n",
              "0     \"CLEAR CLEAN ESN\" Sprint EPIC 4G Galaxy SPH-D7...  ...          1.0\n",
              "1     \"CLEAR CLEAN ESN\" Sprint EPIC 4G Galaxy SPH-D7...  ...          0.0\n",
              "2     \"CLEAR CLEAN ESN\" Sprint EPIC 4G Galaxy SPH-D7...  ...          0.0\n",
              "3     \"CLEAR CLEAN ESN\" Sprint EPIC 4G Galaxy SPH-D7...  ...          0.0\n",
              "4     \"CLEAR CLEAN ESN\" Sprint EPIC 4G Galaxy SPH-D7...  ...          0.0\n",
              "...                                                 ...  ...          ...\n",
              "9995               Apple iPhone 4 8GB, Unlocked (Black)  ...          2.0\n",
              "9996               Apple iPhone 4 8GB, Unlocked (Black)  ...          2.0\n",
              "9997               Apple iPhone 4 8GB, Unlocked (Black)  ...          0.0\n",
              "9998               Apple iPhone 4 8GB, Unlocked (Black)  ...          0.0\n",
              "9999               Apple iPhone 4 8GB, Unlocked (Black)  ...          0.0\n",
              "\n",
              "[10000 rows x 6 columns]"
            ]
          },
          "metadata": {
            "tags": []
          },
          "execution_count": 32
        }
      ]
    },
    {
      "cell_type": "code",
      "metadata": {
        "colab": {
          "base_uri": "https://localhost:8080/"
        },
        "id": "sarNzGBDtVcl",
        "outputId": "6988970b-17f6-4af2-e322-1c378353e5bd"
      },
      "source": [
        "amazon_data.shape"
      ],
      "execution_count": 33,
      "outputs": [
        {
          "output_type": "execute_result",
          "data": {
            "text/plain": [
              "(10000, 6)"
            ]
          },
          "metadata": {
            "tags": []
          },
          "execution_count": 33
        }
      ]
    },
    {
      "cell_type": "code",
      "metadata": {
        "colab": {
          "base_uri": "https://localhost:8080/"
        },
        "id": "JiwkQgS-tnra",
        "outputId": "da745c65-a297-4d86-b24a-f5fcd0d46b99"
      },
      "source": [
        "#removing null values\n",
        "cleaned_data = amazon_data.dropna()\n",
        "cleaned_data.shape"
      ],
      "execution_count": 34,
      "outputs": [
        {
          "output_type": "execute_result",
          "data": {
            "text/plain": [
              "(7226, 6)"
            ]
          },
          "metadata": {
            "tags": []
          },
          "execution_count": 34
        }
      ]
    },
    {
      "cell_type": "markdown",
      "metadata": {
        "id": "gRrRw7sqtSEw"
      },
      "source": [
        "**Visualization of Product ratings**"
      ]
    },
    {
      "cell_type": "code",
      "metadata": {
        "colab": {
          "base_uri": "https://localhost:8080/",
          "height": 350
        },
        "id": "FeCd40D0uDGj",
        "outputId": "a8934b40-650c-4234-9ec5-7c94cf5739ed"
      },
      "source": [
        "import seaborn as sns\n",
        "sns.countplot(cleaned_data.Rating)"
      ],
      "execution_count": 35,
      "outputs": [
        {
          "output_type": "stream",
          "text": [
            "/usr/local/lib/python3.7/dist-packages/seaborn/_decorators.py:43: FutureWarning: Pass the following variable as a keyword arg: x. From version 0.12, the only valid positional argument will be `data`, and passing other arguments without an explicit keyword will result in an error or misinterpretation.\n",
            "  FutureWarning\n"
          ],
          "name": "stderr"
        },
        {
          "output_type": "execute_result",
          "data": {
            "text/plain": [
              "<matplotlib.axes._subplots.AxesSubplot at 0x7f08763575d0>"
            ]
          },
          "metadata": {
            "tags": []
          },
          "execution_count": 35
        },
        {
          "output_type": "display_data",
          "data": {
            "image/png": "[encoded data removed]",
            "text/plain": [
              "<Figure size 432x288 with 1 Axes>"
            ]
          },
          "metadata": {
            "tags": [],
            "needs_background": "light"
          }
        }
      ]
    },
    {
      "cell_type": "markdown",
      "metadata": {
        "id": "ckntIjeLuRqR"
      },
      "source": [
        "**Classification of ratings as Postive or Negative**"
      ]
    },
    {
      "cell_type": "code",
      "metadata": {
        "colab": {
          "base_uri": "https://localhost:8080/"
        },
        "id": "eMS-YohFuNn8",
        "outputId": "999dbc9a-d265-4838-a11f-e7d7e85b0114"
      },
      "source": [
        "def review_classification(rating):\n",
        "    if rating < 3:\n",
        "        return 'Negative'\n",
        "    return 'Positive'\n",
        "\n",
        "rating_classification = cleaned_data['Rating'].map(review_classification) \n",
        "cleaned_data['Rating'] = rating_classification"
      ],
      "execution_count": 36,
      "outputs": [
        {
          "output_type": "stream",
          "text": [
            "/usr/local/lib/python3.7/dist-packages/ipykernel_launcher.py:7: SettingWithCopyWarning: \n",
            "A value is trying to be set on a copy of a slice from a DataFrame.\n",
            "Try using .loc[row_indexer,col_indexer] = value instead\n",
            "\n",
            "See the caveats in the documentation: https://pandas.pydata.org/pandas-docs/stable/user_guide/indexing.html#returning-a-view-versus-a-copy\n",
            "  import sys\n"
          ],
          "name": "stderr"
        }
      ]
    },
    {
      "cell_type": "code",
      "metadata": {
        "colab": {
          "base_uri": "https://localhost:8080/"
        },
        "id": "RcRTfa9buhQ2",
        "outputId": "d5bd0664-e734-4f07-d663-43ff694b0646"
      },
      "source": [
        "cleaned_data['Rating'].value_counts()"
      ],
      "execution_count": 37,
      "outputs": [
        {
          "output_type": "execute_result",
          "data": {
            "text/plain": [
              "Positive    5233\n",
              "Negative    1993\n",
              "Name: Rating, dtype: int64"
            ]
          },
          "metadata": {
            "tags": []
          },
          "execution_count": 37
        }
      ]
    },
    {
      "cell_type": "markdown",
      "metadata": {
        "id": "tAjmH8PKvHP7"
      },
      "source": [
        "**Visualization of Postive and Negative ratings**"
      ]
    },
    {
      "cell_type": "code",
      "metadata": {
        "colab": {
          "base_uri": "https://localhost:8080/",
          "height": 350
        },
        "id": "VfHqc4_2vMRC",
        "outputId": "817523e2-60d4-4fa5-f21d-fd1ddea97545"
      },
      "source": [
        "import seaborn as sns\n",
        "sns.countplot(cleaned_data.Rating)"
      ],
      "execution_count": 38,
      "outputs": [
        {
          "output_type": "stream",
          "text": [
            "/usr/local/lib/python3.7/dist-packages/seaborn/_decorators.py:43: FutureWarning: Pass the following variable as a keyword arg: x. From version 0.12, the only valid positional argument will be `data`, and passing other arguments without an explicit keyword will result in an error or misinterpretation.\n",
            "  FutureWarning\n"
          ],
          "name": "stderr"
        },
        {
          "output_type": "execute_result",
          "data": {
            "text/plain": [
              "<matplotlib.axes._subplots.AxesSubplot at 0x7f086276d4d0>"
            ]
          },
          "metadata": {
            "tags": []
          },
          "execution_count": 38
        },
        {
          "output_type": "display_data",
          "data": {
            "image/png": "[encoded data removed]",
            "text/plain": [
              "<Figure size 432x288 with 1 Axes>"
            ]
          },
          "metadata": {
            "tags": [],
            "needs_background": "light"
          }
        }
      ]
    },
    {
      "cell_type": "markdown",
      "metadata": {
        "id": "OIGKoWT6vTFe"
      },
      "source": [
        "**Data Preprocessing and Cleaning**"
      ]
    },
    {
      "cell_type": "code",
      "metadata": {
        "colab": {
          "base_uri": "https://localhost:8080/"
        },
        "id": "0xuQcvEOvX6o",
        "outputId": "b73c119b-9a39-410e-d627-aea513342219"
      },
      "source": [
        "import re\n",
        "x = 0;\n",
        "for i in cleaned_data['Reviews'].values:\n",
        "    if (len(re.findall('<.*?>', i))):\n",
        "        print(x)\n",
        "        print(i)\n",
        "        break;\n",
        "    x += 1;"
      ],
      "execution_count": 39,
      "outputs": [
        {
          "output_type": "stream",
          "text": [
            "3205\n",
            "Unless you know how to jail break this phone... what's the point? Most apps don't support this old phone. <(it's not really old, they just want you to spend money on the newer version. wtf? but whatever)>\n"
          ],
          "name": "stdout"
        }
      ]
    },
    {
      "cell_type": "code",
      "metadata": {
        "id": "0pwjxO2xvpvP"
      },
      "source": [
        "def cleanhtml(sentence):\n",
        "    reg = re.compile('<.*?>')\n",
        "    cleantext = re.sub(reg, ' ', sentence)\n",
        "    return cleantext"
      ],
      "execution_count": 40,
      "outputs": []
    },
    {
      "cell_type": "code",
      "metadata": {
        "colab": {
          "base_uri": "https://localhost:8080/"
        },
        "id": "yn80HJX3v1Cm",
        "outputId": "1a4eb02f-540f-4b15-91e8-c2c184b019a7"
      },
      "source": [
        "#Transforming to LowerCase, Removing HTML Content, Removing Special Characters\n",
        "import re\n",
        "cleaned_data['Cleaned Text'] = cleaned_data['Reviews'].apply(lambda x: \" \".join(x.lower() for x in x.split()))\n",
        "cleaned_data['Cleaned Text'] = cleaned_data['Cleaned Text'].apply(lambda x: cleanhtml(x))\n",
        "cleaned_data['Cleaned Text'] = cleaned_data['Cleaned Text'].apply(lambda x: ''.join(re.sub(r\"[^a-zA-Z0-9]+\", ' ', charctr) for charctr in x ))"
      ],
      "execution_count": 41,
      "outputs": [
        {
          "output_type": "stream",
          "text": [
            "/usr/local/lib/python3.7/dist-packages/ipykernel_launcher.py:3: SettingWithCopyWarning: \n",
            "A value is trying to be set on a copy of a slice from a DataFrame.\n",
            "Try using .loc[row_indexer,col_indexer] = value instead\n",
            "\n",
            "See the caveats in the documentation: https://pandas.pydata.org/pandas-docs/stable/user_guide/indexing.html#returning-a-view-versus-a-copy\n",
            "  This is separate from the ipykernel package so we can avoid doing imports until\n",
            "/usr/local/lib/python3.7/dist-packages/ipykernel_launcher.py:4: SettingWithCopyWarning: \n",
            "A value is trying to be set on a copy of a slice from a DataFrame.\n",
            "Try using .loc[row_indexer,col_indexer] = value instead\n",
            "\n",
            "See the caveats in the documentation: https://pandas.pydata.org/pandas-docs/stable/user_guide/indexing.html#returning-a-view-versus-a-copy\n",
            "  after removing the cwd from sys.path.\n",
            "/usr/local/lib/python3.7/dist-packages/ipykernel_launcher.py:5: SettingWithCopyWarning: \n",
            "A value is trying to be set on a copy of a slice from a DataFrame.\n",
            "Try using .loc[row_indexer,col_indexer] = value instead\n",
            "\n",
            "See the caveats in the documentation: https://pandas.pydata.org/pandas-docs/stable/user_guide/indexing.html#returning-a-view-versus-a-copy\n",
            "  \"\"\"\n"
          ],
          "name": "stderr"
        }
      ]
    },
    {
      "cell_type": "code",
      "metadata": {
        "colab": {
          "base_uri": "https://localhost:8080/"
        },
        "id": "S1rwMNK1wEpW",
        "outputId": "2efb3896-356d-4616-fbe8-490cf4a02be6"
      },
      "source": [
        "#Removal of Stop Words\n",
        "import nltk\n",
        "nltk.download('stopwords')\n",
        "from nltk.corpus import stopwords\n",
        "stop = stopwords.words('english')\n",
        "cleaned_data['Cleaned Text'] = cleaned_data['Cleaned Text'].apply(lambda x: \" \".join(x for x in x.split() if x not in stop))"
      ],
      "execution_count": 42,
      "outputs": [
        {
          "output_type": "stream",
          "text": [
            "[nltk_data] Downloading package stopwords to /root/nltk_data...\n",
            "[nltk_data]   Unzipping corpora/stopwords.zip.\n"
          ],
          "name": "stdout"
        },
        {
          "output_type": "stream",
          "text": [
            "/usr/local/lib/python3.7/dist-packages/ipykernel_launcher.py:6: SettingWithCopyWarning: \n",
            "A value is trying to be set on a copy of a slice from a DataFrame.\n",
            "Try using .loc[row_indexer,col_indexer] = value instead\n",
            "\n",
            "See the caveats in the documentation: https://pandas.pydata.org/pandas-docs/stable/user_guide/indexing.html#returning-a-view-versus-a-copy\n",
            "  \n"
          ],
          "name": "stderr"
        }
      ]
    },
    {
      "cell_type": "code",
      "metadata": {
        "colab": {
          "base_uri": "https://localhost:8080/",
          "height": 606
        },
        "id": "zOiJ8pRiwO2B",
        "outputId": "2eae7447-7047-4e5b-b447-24e0e1417390"
      },
      "source": [
        "cleaned_data"
      ],
      "execution_count": 43,
      "outputs": [
        {
          "output_type": "execute_result",
          "data": {
            "text/html": [
              "<div>\n",
              "<style scoped>\n",
              "    .dataframe tbody tr th:only-of-type {\n",
              "        vertical-align: middle;\n",
              "    }\n",
              "\n",
              "    .dataframe tbody tr th {\n",
              "        vertical-align: top;\n",
              "    }\n",
              "\n",
              "    .dataframe thead th {\n",
              "        text-align: right;\n",
              "    }\n",
              "</style>\n",
              "<table border=\"1\" class=\"dataframe\">\n",
              "  <thead>\n",
              "    <tr style=\"text-align: right;\">\n",
              "      <th></th>\n",
              "      <th>Product Name</th>\n",
              "      <th>Brand Name</th>\n",
              "      <th>Price</th>\n",
              "      <th>Rating</th>\n",
              "      <th>Reviews</th>\n",
              "      <th>Review Votes</th>\n",
              "      <th>Cleaned Text</th>\n",
              "    </tr>\n",
              "  </thead>\n",
              "  <tbody>\n",
              "    <tr>\n",
              "      <th>0</th>\n",
              "      <td>\"CLEAR CLEAN ESN\" Sprint EPIC 4G Galaxy SPH-D7...</td>\n",
              "      <td>Samsung</td>\n",
              "      <td>199.99</td>\n",
              "      <td>Positive</td>\n",
              "      <td>I feel so LUCKY to have found this used (phone...</td>\n",
              "      <td>1.0</td>\n",
              "      <td>feel lucky found used phone us used hard phone...</td>\n",
              "    </tr>\n",
              "    <tr>\n",
              "      <th>1</th>\n",
              "      <td>\"CLEAR CLEAN ESN\" Sprint EPIC 4G Galaxy SPH-D7...</td>\n",
              "      <td>Samsung</td>\n",
              "      <td>199.99</td>\n",
              "      <td>Positive</td>\n",
              "      <td>nice phone, nice up grade from my pantach revu...</td>\n",
              "      <td>0.0</td>\n",
              "      <td>nice phone nice grade pantach revue clean set ...</td>\n",
              "    </tr>\n",
              "    <tr>\n",
              "      <th>2</th>\n",
              "      <td>\"CLEAR CLEAN ESN\" Sprint EPIC 4G Galaxy SPH-D7...</td>\n",
              "      <td>Samsung</td>\n",
              "      <td>199.99</td>\n",
              "      <td>Positive</td>\n",
              "      <td>Very pleased</td>\n",
              "      <td>0.0</td>\n",
              "      <td>pleased</td>\n",
              "    </tr>\n",
              "    <tr>\n",
              "      <th>3</th>\n",
              "      <td>\"CLEAR CLEAN ESN\" Sprint EPIC 4G Galaxy SPH-D7...</td>\n",
              "      <td>Samsung</td>\n",
              "      <td>199.99</td>\n",
              "      <td>Positive</td>\n",
              "      <td>It works good but it goes slow sometimes but i...</td>\n",
              "      <td>0.0</td>\n",
              "      <td>works good goes slow sometimes good phone love</td>\n",
              "    </tr>\n",
              "    <tr>\n",
              "      <th>4</th>\n",
              "      <td>\"CLEAR CLEAN ESN\" Sprint EPIC 4G Galaxy SPH-D7...</td>\n",
              "      <td>Samsung</td>\n",
              "      <td>199.99</td>\n",
              "      <td>Positive</td>\n",
              "      <td>Great phone to replace my lost phone. The only...</td>\n",
              "      <td>0.0</td>\n",
              "      <td>great phone replace lost phone thing volume bu...</td>\n",
              "    </tr>\n",
              "    <tr>\n",
              "      <th>...</th>\n",
              "      <td>...</td>\n",
              "      <td>...</td>\n",
              "      <td>...</td>\n",
              "      <td>...</td>\n",
              "      <td>...</td>\n",
              "      <td>...</td>\n",
              "      <td>...</td>\n",
              "    </tr>\n",
              "    <tr>\n",
              "      <th>9950</th>\n",
              "      <td>Apple iPhone 4 8GB Verizon CDMA Smartphone - B...</td>\n",
              "      <td>Apple</td>\n",
              "      <td>92.00</td>\n",
              "      <td>Positive</td>\n",
              "      <td>I received it the way I wanted it</td>\n",
              "      <td>1.0</td>\n",
              "      <td>received way wanted</td>\n",
              "    </tr>\n",
              "    <tr>\n",
              "      <th>9951</th>\n",
              "      <td>Apple iPhone 4 8GB Verizon CDMA Smartphone - B...</td>\n",
              "      <td>Apple</td>\n",
              "      <td>92.00</td>\n",
              "      <td>Positive</td>\n",
              "      <td>Good!</td>\n",
              "      <td>1.0</td>\n",
              "      <td>good</td>\n",
              "    </tr>\n",
              "    <tr>\n",
              "      <th>9952</th>\n",
              "      <td>Apple iPhone 4 8GB Verizon CDMA Smartphone - B...</td>\n",
              "      <td>Apple</td>\n",
              "      <td>92.00</td>\n",
              "      <td>Positive</td>\n",
              "      <td>Love it</td>\n",
              "      <td>1.0</td>\n",
              "      <td>love</td>\n",
              "    </tr>\n",
              "    <tr>\n",
              "      <th>9953</th>\n",
              "      <td>Apple iPhone 4 8GB Verizon CDMA Smartphone - B...</td>\n",
              "      <td>Apple</td>\n",
              "      <td>92.00</td>\n",
              "      <td>Positive</td>\n",
              "      <td>Phone is great but charger did not work at all</td>\n",
              "      <td>2.0</td>\n",
              "      <td>phone great charger work</td>\n",
              "    </tr>\n",
              "    <tr>\n",
              "      <th>9954</th>\n",
              "      <td>Apple iPhone 4 8GB Verizon CDMA Smartphone - B...</td>\n",
              "      <td>Apple</td>\n",
              "      <td>92.00</td>\n",
              "      <td>Positive</td>\n",
              "      <td>works fine. It's just a little slow</td>\n",
              "      <td>1.0</td>\n",
              "      <td>works fine little slow</td>\n",
              "    </tr>\n",
              "  </tbody>\n",
              "</table>\n",
              "<p>7226 rows × 7 columns</p>\n",
              "</div>"
            ],
            "text/plain": [
              "                                           Product Name  ...                                       Cleaned Text\n",
              "0     \"CLEAR CLEAN ESN\" Sprint EPIC 4G Galaxy SPH-D7...  ...  feel lucky found used phone us used hard phone...\n",
              "1     \"CLEAR CLEAN ESN\" Sprint EPIC 4G Galaxy SPH-D7...  ...  nice phone nice grade pantach revue clean set ...\n",
              "2     \"CLEAR CLEAN ESN\" Sprint EPIC 4G Galaxy SPH-D7...  ...                                            pleased\n",
              "3     \"CLEAR CLEAN ESN\" Sprint EPIC 4G Galaxy SPH-D7...  ...     works good goes slow sometimes good phone love\n",
              "4     \"CLEAR CLEAN ESN\" Sprint EPIC 4G Galaxy SPH-D7...  ...  great phone replace lost phone thing volume bu...\n",
              "...                                                 ...  ...                                                ...\n",
              "9950  Apple iPhone 4 8GB Verizon CDMA Smartphone - B...  ...                                received way wanted\n",
              "9951  Apple iPhone 4 8GB Verizon CDMA Smartphone - B...  ...                                               good\n",
              "9952  Apple iPhone 4 8GB Verizon CDMA Smartphone - B...  ...                                               love\n",
              "9953  Apple iPhone 4 8GB Verizon CDMA Smartphone - B...  ...                           phone great charger work\n",
              "9954  Apple iPhone 4 8GB Verizon CDMA Smartphone - B...  ...                             works fine little slow\n",
              "\n",
              "[7226 rows x 7 columns]"
            ]
          },
          "metadata": {
            "tags": []
          },
          "execution_count": 43
        }
      ]
    },
    {
      "cell_type": "markdown",
      "metadata": {
        "id": "8Go00O0uwS1R"
      },
      "source": [
        "**K-MEANS using Bag of Words**"
      ]
    },
    {
      "cell_type": "code",
      "metadata": {
        "colab": {
          "base_uri": "https://localhost:8080/"
        },
        "id": "WrLnfS59wcor",
        "outputId": "af43b4db-45be-4554-da4f-74358bca568a"
      },
      "source": [
        "from sklearn.feature_extraction.text import CountVectorizer\n",
        "from sklearn.cluster import KMeans\n",
        "vector_count = CountVectorizer()\n",
        "bg = vector_count.fit_transform(cleaned_data['Cleaned Text'].values)\n",
        "column_names = vector_count.get_feature_names()\n",
        "model = KMeans(n_clusters = 10, init='k-means++', n_jobs = -1, random_state=99)\n",
        "model.fit(bg)\n"
      ],
      "execution_count": 45,
      "outputs": [
        {
          "output_type": "execute_result",
          "data": {
            "text/plain": [
              "KMeans(algorithm='auto', copy_x=True, init='k-means++', max_iter=300,\n",
              "       n_clusters=10, n_init=10, n_jobs=-1, precompute_distances='auto',\n",
              "       random_state=99, tol=0.0001, verbose=0)"
            ]
          },
          "metadata": {
            "tags": []
          },
          "execution_count": 45
        }
      ]
    },
    {
      "cell_type": "code",
      "metadata": {
        "colab": {
          "base_uri": "https://localhost:8080/"
        },
        "id": "pvMo8JiZxCVg",
        "outputId": "1c154987-8a14-4bfe-c105-1352c0bab321"
      },
      "source": [
        "labels = model.labels_\n",
        "cluster_center = model.cluster_centers_\n",
        "cluster_center"
      ],
      "execution_count": 46,
      "outputs": [
        {
          "output_type": "execute_result",
          "data": {
            "text/plain": [
              "array([[0.02807018, 0.        , 0.        , ..., 0.        , 0.        ,\n",
              "        0.        ],\n",
              "       [0.02714932, 0.        , 0.        , ..., 0.00904977, 0.00452489,\n",
              "        0.00452489],\n",
              "       [0.        , 0.        , 0.        , ..., 0.        , 0.        ,\n",
              "        0.01666667],\n",
              "       ...,\n",
              "       [0.33333333, 0.        , 0.        , ..., 0.        , 0.        ,\n",
              "        0.66666667],\n",
              "       [0.15789474, 0.        , 0.        , ..., 0.        , 0.        ,\n",
              "        0.        ],\n",
              "       [0.00231392, 0.        , 0.        , ..., 0.        , 0.        ,\n",
              "        0.        ]])"
            ]
          },
          "metadata": {
            "tags": []
          },
          "execution_count": 46
        }
      ]
    },
    {
      "cell_type": "code",
      "metadata": {
        "colab": {
          "base_uri": "https://localhost:8080/"
        },
        "id": "7dkYQ-ErxJ0W",
        "outputId": "9e5bbd5a-299f-4d54-ed78-79ad0372fc2f"
      },
      "source": [
        "from sklearn import metrics\n",
        "silhouette_score = metrics.silhouette_score(bg, labels, metric='euclidean')\n",
        "silhouette_score"
      ],
      "execution_count": 48,
      "outputs": [
        {
          "output_type": "execute_result",
          "data": {
            "text/plain": [
              "0.2080210321419799"
            ]
          },
          "metadata": {
            "tags": []
          },
          "execution_count": 48
        }
      ]
    },
    {
      "cell_type": "code",
      "metadata": {
        "colab": {
          "base_uri": "https://localhost:8080/"
        },
        "id": "K1tnNDruxR1L",
        "outputId": "eb58eb62-d787-4466-eac9-f071ba7ccef3"
      },
      "source": [
        "cleaned_data['Bow Clus Label'] = model.labels_\n",
        "cleaned_data.groupby(['Bow Clus Label'])['Reviews'].count()"
      ],
      "execution_count": 50,
      "outputs": [
        {
          "output_type": "stream",
          "text": [
            "/usr/local/lib/python3.7/dist-packages/ipykernel_launcher.py:1: SettingWithCopyWarning: \n",
            "A value is trying to be set on a copy of a slice from a DataFrame.\n",
            "Try using .loc[row_indexer,col_indexer] = value instead\n",
            "\n",
            "See the caveats in the documentation: https://pandas.pydata.org/pandas-docs/stable/user_guide/indexing.html#returning-a-view-versus-a-copy\n",
            "  \"\"\"Entry point for launching an IPython kernel.\n"
          ],
          "name": "stderr"
        },
        {
          "output_type": "execute_result",
          "data": {
            "text/plain": [
              "Bow Clus Label\n",
              "0     285\n",
              "1     221\n",
              "2      60\n",
              "3       4\n",
              "4       1\n",
              "5     171\n",
              "6    1276\n",
              "7       3\n",
              "8      19\n",
              "9    5186\n",
              "Name: Reviews, dtype: int64"
            ]
          },
          "metadata": {
            "tags": []
          },
          "execution_count": 50
        }
      ]
    },
    {
      "cell_type": "code",
      "metadata": {
        "colab": {
          "base_uri": "https://localhost:8080/"
        },
        "id": "hJULcKm7xhwu",
        "outputId": "d003c5fa-ab47-4d1a-84d9-56c689ea16b4"
      },
      "source": [
        "print(\"Top terms per cluster:\")\n",
        "order_centroids = model.cluster_centers_.argsort()[:, ::-1]\n",
        "terms = vector_count.get_feature_names()\n",
        "for i in range(10):\n",
        "    print(\"Cluster %d:\" % i, end='')\n",
        "    for ind in order_centroids[i, :10]:\n",
        "        print(' %s' % terms[ind], end='')\n",
        "        print()"
      ],
      "execution_count": 51,
      "outputs": [
        {
          "output_type": "stream",
          "text": [
            "Top terms per cluster:\n",
            "Cluster 0: iphone\n",
            " phone\n",
            " new\n",
            " like\n",
            " apple\n",
            " buy\n",
            " used\n",
            " 3gs\n",
            " one\n",
            " screen\n",
            "Cluster 1: phone\n",
            " screen\n",
            " good\n",
            " great\n",
            " one\n",
            " camera\n",
            " battery\n",
            " like\n",
            " price\n",
            " speakers\n",
            "Cluster 2: phone\n",
            " screen\n",
            " use\n",
            " like\n",
            " good\n",
            " really\n",
            " card\n",
            " sim\n",
            " great\n",
            " battery\n",
            "Cluster 3: phone\n",
            " camera\n",
            " good\n",
            " like\n",
            " quality\n",
            " one\n",
            " price\n",
            " screen\n",
            " display\n",
            " app\n",
            "Cluster 4: phone\n",
            " idol\n",
            " camera\n",
            " one\n",
            " like\n",
            " sound\n",
            " think\n",
            " device\n",
            " quality\n",
            " screen\n",
            "Cluster 5: phone\n",
            " one\n",
            " good\n",
            " would\n",
            " great\n",
            " screen\n",
            " like\n",
            " use\n",
            " battery\n",
            " get\n",
            "Cluster 6: phone\n",
            " new\n",
            " great\n",
            " good\n",
            " one\n",
            " would\n",
            " work\n",
            " screen\n",
            " use\n",
            " like\n",
            "Cluster 7: like\n",
            " phone\n",
            " camera\n",
            " screen\n",
            " android\n",
            " keyboard\n",
            " also\n",
            " would\n",
            " google\n",
            " phones\n",
            "Cluster 8: phone\n",
            " screen\n",
            " like\n",
            " one\n",
            " good\n",
            " use\n",
            " battery\n",
            " phones\n",
            " time\n",
            " would\n",
            "Cluster 9: phone\n",
            " great\n",
            " good\n",
            " works\n",
            " new\n",
            " work\n",
            " like\n",
            " iphone\n",
            " product\n",
            " price\n"
          ],
          "name": "stdout"
        }
      ]
    },
    {
      "cell_type": "code",
      "metadata": {
        "colab": {
          "base_uri": "https://localhost:8080/",
          "height": 295
        },
        "id": "79MKj1bix-MM",
        "outputId": "58e0f110-ed9d-47be-c082-26f462551303"
      },
      "source": [
        "# visually how points or reviews are distributed across 10 clusters \n",
        "import matplotlib.pyplot as plt\n",
        "plt.bar([x for x in range(10)], df.groupby(['Bow Clus Label'])['Reviews'].count(), alpha = 0.4)\n",
        "plt.title('KMeans cluster points')\n",
        "plt.xlabel(\"Cluster number\")\n",
        "plt.ylabel(\"Number of points\")\n",
        "plt.show()"
      ],
      "execution_count": 52,
      "outputs": [
        {
          "output_type": "display_data",
          "data": {
            "image/png": "[encoded data removed]",
            "text/plain": [
              "<Figure size 432x288 with 1 Axes>"
            ]
          },
          "metadata": {
            "tags": [],
            "needs_background": "light"
          }
        }
      ]
    },
    {
      "cell_type": "markdown",
      "metadata": {
        "id": "ZoF4TVJoyRRS"
      },
      "source": [
        "**K Means using Average Words to Vectors**"
      ]
    },
    {
      "cell_type": "code",
      "metadata": {
        "id": "4ZJ45PtfyGyN"
      },
      "source": [
        "list_of_sentences = []\n",
        "for sentence in cleaned_data['Cleaned Text'].values:\n",
        "    list_of_sentences.append(sentence.split())"
      ],
      "execution_count": 54,
      "outputs": []
    },
    {
      "cell_type": "code",
      "metadata": {
        "colab": {
          "base_uri": "https://localhost:8080/"
        },
        "id": "ZZrw4mW3ybhC",
        "outputId": "8e6241f1-6a2a-43e4-e337-dbf5431ac4a0"
      },
      "source": [
        "import gensim\n",
        "import numpy as np\n",
        "\n",
        "wTOv_model=gensim.models.Word2Vec(list_of_sentences,size=100, workers=4)\n",
        "\n",
        "sentence_vectors = []\n",
        "for s in list_of_sentences:\n",
        "  v = np.zeros(100)\n",
        "  word_count = 0\n",
        "  for word in s:\n",
        "    try:\n",
        "      vec = wTOv_model.wv[word]\n",
        "      v += vec\n",
        "      word_count += 1\n",
        "    except:\n",
        "      pass\n",
        "  v /= word_count\n",
        "  sentence_vectors.append(v)\n",
        "sentence_vectors = np.array(sentence_vectors)\n",
        "sentence_vectors = np.nan_to_num(sentence_vectors)\n",
        "sentence_vectors.shape"
      ],
      "execution_count": 55,
      "outputs": [
        {
          "output_type": "stream",
          "text": [
            "/usr/local/lib/python3.7/dist-packages/ipykernel_launcher.py:17: RuntimeWarning: invalid value encountered in true_divide\n"
          ],
          "name": "stderr"
        },
        {
          "output_type": "execute_result",
          "data": {
            "text/plain": [
              "(7226, 100)"
            ]
          },
          "metadata": {
            "tags": []
          },
          "execution_count": 55
        }
      ]
    },
    {
      "cell_type": "code",
      "metadata": {
        "colab": {
          "base_uri": "https://localhost:8080/"
        },
        "id": "NceTtx16zWpE",
        "outputId": "9d3ba503-5230-4366-ec86-d8c0bd65aae7"
      },
      "source": [
        "number_of_clusters = [x for x in range(3,11)]\n",
        "number_of_clusters"
      ],
      "execution_count": 56,
      "outputs": [
        {
          "output_type": "execute_result",
          "data": {
            "text/plain": [
              "[3, 4, 5, 6, 7, 8, 9, 10]"
            ]
          },
          "metadata": {
            "tags": []
          },
          "execution_count": 56
        }
      ]
    },
    {
      "cell_type": "code",
      "metadata": {
        "colab": {
          "base_uri": "https://localhost:8080/",
          "height": 329
        },
        "id": "juD0Yr_hzcyI",
        "outputId": "5898bdb3-5456-4f72-cfd4-200d2a90f166"
      },
      "source": [
        "\n",
        "squared_errors = []\n",
        "for cluster in number_of_clusters:\n",
        "    kmeans = KMeans(n_clusters = cluster).fit(sentence_vectors)\n",
        "    squared_errors.append(kmeans.inertia_)\n",
        "    \n",
        "optimal_clusters = np.argmin(squared_errors) + 2 \n",
        "plt.plot(number_of_clusters, squared_errors)\n",
        "plt.title(\"Elbow Curve to find the no. of clusters.\")\n",
        "plt.xlabel(\"Number of clusters.\")\n",
        "plt.ylabel(\"Squared Loss.\")\n",
        "xy = (optimal_clusters, min(squared_errors))\n",
        "plt.annotate('(%s, %s)' % xy, xy = xy, textcoords='data')\n",
        "plt.show()\n",
        "print (\"The optimal number of clusters obtained is - \", optimal_clusters)\n",
        "print (\"The loss for optimal cluster is - \", min(squared_errors))"
      ],
      "execution_count": 60,
      "outputs": [
        {
          "output_type": "display_data",
          "data": {
            "image/png": "[encoded data removed]",
            "text/plain": [
              "<Figure size 432x288 with 1 Axes>"
            ]
          },
          "metadata": {
            "tags": [],
            "needs_background": "light"
          }
        },
        {
          "output_type": "stream",
          "text": [
            "The optimal number of clusters obtained is -  9\n",
            "The loss for optimal cluster is -  1871.7085351599676\n"
          ],
          "name": "stdout"
        }
      ]
    },
    {
      "cell_type": "code",
      "metadata": {
        "colab": {
          "base_uri": "https://localhost:8080/"
        },
        "id": "T60mfWtoz6ui",
        "outputId": "42b7f7d0-e2af-4e67-de9a-121079e0d85e"
      },
      "source": [
        "from sklearn.cluster import KMeans\n",
        "second_model = KMeans(n_clusters = optimal_clusters)\n",
        "second_model.fit(sentence_vectors)"
      ],
      "execution_count": 63,
      "outputs": [
        {
          "output_type": "execute_result",
          "data": {
            "text/plain": [
              "KMeans(algorithm='auto', copy_x=True, init='k-means++', max_iter=300,\n",
              "       n_clusters=9, n_init=10, n_jobs=None, precompute_distances='auto',\n",
              "       random_state=None, tol=0.0001, verbose=0)"
            ]
          },
          "metadata": {
            "tags": []
          },
          "execution_count": 63
        }
      ]
    },
    {
      "cell_type": "code",
      "metadata": {
        "colab": {
          "base_uri": "https://localhost:8080/"
        },
        "id": "cZPqjc0r0DM5",
        "outputId": "e914e857-674f-43f4-d782-b93677d77073"
      },
      "source": [
        "word_cluster_pred = second_model.predict(sentence_vectors)\n",
        "word_cluster_pred_2 = second_model.labels_\n",
        "word_cluster_center = second_model.cluster_centers_\n",
        "word_cluster_center[1:2]"
      ],
      "execution_count": 64,
      "outputs": [
        {
          "output_type": "execute_result",
          "data": {
            "text/plain": [
              "array([[-0.20767509,  0.19343356,  0.20432915, -0.37276867,  0.11158638,\n",
              "         0.19403448,  0.2345996 , -0.05009647, -0.12836453, -0.47244609,\n",
              "        -0.01914098, -0.17088402,  0.35967296, -0.43855154,  0.098722  ,\n",
              "         0.01498683,  0.12721775, -0.09977054, -0.22191355, -0.0701634 ,\n",
              "        -0.06802478, -0.01689625,  0.07706933,  0.32698219,  0.2591828 ,\n",
              "        -0.20732063,  0.23458423,  0.30181874, -0.26931344, -0.24887289,\n",
              "        -0.21354974, -0.11361566,  0.22219981,  0.61150354, -0.2438969 ,\n",
              "         0.14816152, -0.16673586, -0.04174684, -0.28355711,  0.32902703,\n",
              "         0.36702789,  0.54312   ,  0.60328773, -0.06076078,  0.13710774,\n",
              "         0.4446028 , -0.38408145,  0.07515871, -0.19119665, -0.54672358,\n",
              "        -0.05766834, -0.26303275, -0.26718939, -0.05057733, -0.30058156,\n",
              "         0.11171281, -0.37818063, -0.01195914, -0.20475247,  0.39652243,\n",
              "        -0.11345994,  0.1537628 ,  0.100413  , -0.07390947,  0.00698985,\n",
              "        -0.08780369, -0.08239687, -0.21133371,  0.14172797,  0.28405019,\n",
              "        -0.47829115, -0.21632851,  0.26848488, -0.16526386, -0.09734623,\n",
              "         0.1391603 ,  0.1788232 ,  0.24013105,  0.1716565 ,  0.19415475,\n",
              "        -0.32683322, -0.18922234,  0.00298988, -0.07778614,  0.26840112,\n",
              "        -0.03992356, -0.38004617,  0.11410164, -0.10359146, -0.3990465 ,\n",
              "         0.03960394, -0.13215765, -0.52634099, -0.00379527, -0.07888611,\n",
              "        -0.37926571,  0.36136599,  0.23849902, -0.472264  ,  0.10435615]])"
            ]
          },
          "metadata": {
            "tags": []
          },
          "execution_count": 64
        }
      ]
    },
    {
      "cell_type": "code",
      "metadata": {
        "colab": {
          "base_uri": "https://localhost:8080/"
        },
        "id": "MN-s1Cho0Z77",
        "outputId": "443f1317-f7f5-4a51-dddc-0c30a9ed2a76"
      },
      "source": [
        "# Reading a review which belong to each group.\n",
        "for i in range(10):\n",
        "    print(\"A review of assigned to cluster \", i)\n",
        "    print(\"-\" * 70)\n",
        "    print(cleaned_data.iloc[cleaned_data.groupby(['Bow Clus Label']).groups[i][0]]['Reviews'])\n",
        "    print('\\n')\n",
        "    print(\"_\" * 70)"
      ],
      "execution_count": 69,
      "outputs": [
        {
          "output_type": "stream",
          "text": [
            "A review of assigned to cluster  0\n",
            "----------------------------------------------------------------------\n",
            "you only got me two belt clip and one not functioner properly.\n",
            "\n",
            "\n",
            "______________________________________________________________________\n",
            "A review of assigned to cluster  1\n",
            "----------------------------------------------------------------------\n",
            "I originally was using the Samsung S2 Galaxy for Sprint and wanted to return back to the Samsung EPIC 4G for Sprint because I really missed the keyboard, I really liked the smaller compact size of the phone, and I still needed some of the basic functions of a smart phone (i.e. checking e-mail, getting directions, text messaging) Because the phone is not as powerful as the newer cell phones out there, just be aware that the more applications you install the slower the phone runs and will most likely freeze up from time to time. But the camera works great, the video is great as well, and even the web browsing is decent and gives me what I need. I also notice that battery life lasts a little bit longer and charging the phone is much quicker than my Galaxy S2.\n",
            "\n",
            "\n",
            "______________________________________________________________________\n",
            "A review of assigned to cluster  2\n",
            "----------------------------------------------------------------------\n",
            "Preface: This is not what would be considered a smartphone in the United States (Nothing on the par of Android, iPhone, or Windows Phone), it is basically a feature phone. Also, although it says here that it has a US warranty all of the warranty material it came with referenced Latin American countries so I am not sure if it is really covered under a US Warranty. I returned it during Amazon's return window so it wasn't an issue. Now for the phone review.Pros: The phone has a great keyboard. If you are familiar with the E-series phones its that type of keyboard. The interface is some sort of modified Symbian and I liked it in a lot of ways. The style of the hardware is attractive and the Gray is a nice color. The camera was pretty decent considering it is only 2 megapixels. For e-mail it's adequate.Cons: I'll start with the small issues and work up to the big problem that ultimately made me decide to return the phone. The onboard social network apps are not fully functional. You can update your Facebook or Twitter status but the rest of it is so-so. The Ovi store in general is a poor app store, but this phone isn't able to use many of them. Even the old Facebook app that I used on my old E71 (It used to be called Snaptu but Facebook has since renamed it to Facebook for Everyone) is incompatible with this phone as are most of the better apps in the Ovi store. The browser was mediocre, barely passable. Also, NO GPS for this phone. Nokia/Ovi Maps is incompatible which is too bad because that has always been a Nokia strength. That immediately eliminates this phone as a smart phone. With all of that said, I bought this phone for my wife and she really only needed a phone for texts and calls so we could have overlooked these things. The problem we could not overlook was the very shabby, flimsy piece of metal that was supposed to hold in place the standard sim card. This little piece of metal was barely attached to the phone and would not lock into place to hold down the sim card. Because the sim card would intermittently get lose inside the phone and constantly lose the signal. So we would have to take the battery out and re-adjust the sim card. Then it would work for a little while only to ultimately have to repeat the process. It was WAY more frustration than it was worth. It's too bad because as a basic phone for calls, texts, e-mail, and occasionally updating your Facebook/Twitter status; this phone has a lot of potential. Becuase of the problem with the sim card holder, however, it was essentially unusable. I have used Nokia phones for years (I use a Lumia 710 personally) and I am really surprised Nokia would do such a sloppy job on something as important as the part that holds the sim card in place. What a waste.\n",
            "\n",
            "\n",
            "______________________________________________________________________\n",
            "A review of assigned to cluster  3\n",
            "----------------------------------------------------------------------\n",
            "For the price, the only device that can compare to this for the price is the zenfone 2. The zf2 has a more powerful processor, GPU and 2x the ram for $50 more. Even though I'm usually all about specifications on my devices, I don't play graphically intense games on my phone. (that's what a PC or console is for in my opinion) So I'll take the better screen, slimmer profile, almost completely stock version of Android and the dual JBL audio front facing speakers any day over the slight difference in performance.I've seen some reviews of people receiving units with a few annoying problems but I'm assuming those are either factory defects or refurbished units because I've had nothing but good experiences so far with mine.If I had to find something negative to say about this phone, I'd say the power button placement doesn't make sense at all even for a lefty. But the factory software does allow for double tap to wake and the display does rotate 180° in portrait which takes care of the button placement for the most part. The second thing is that I've noticed a few stutters here and there, and considering I came from a note 3 with the SD800, these slight stutters happen so infrequently that it doesn't bother me and I didn't really pay attention to them till I read about it in some reviews. Either way, I'm pretty sure this is because of the software optimization because other SD615 devices run smother. Hopefully an update to 5.1 or even marshmallow will cure this. If not, bootloader is already unlocked, root is her and there's already twrp available. Custom ROMs should be available soon too.\n",
            "\n",
            "\n",
            "______________________________________________________________________\n",
            "A review of assigned to cluster  4\n",
            "----------------------------------------------------------------------\n",
            "for the price is what you get, I would like to have the old school designs, with some modern functions, but now every cellphone seems to be very generic product on that segment, the screen is not so responsive, and it feels very very slow. for that segment of price I recommend a windows phone with abetter touchscreen.\n",
            "\n",
            "\n",
            "______________________________________________________________________\n",
            "A review of assigned to cluster  5\n",
            "----------------------------------------------------------------------\n",
            "I purchased this phone in December as a christmas present to my son. I called sprint to activate the phone only to find out the ESN wasn't clear. I was told to come into the store and upon research the phone wasn't clear. I reached out to this company to inform them that this ESN wasn't clean. I was told to send the phone back and they would send out another phone. I asked the representative to provide me with the ESN # so that I could call and make sure it was clear. I was told that they didn't have to phone available and was guaranteed it would be clear. I should've known something was wrong then. I received a second phone that turned out not have a clear ESN. The representative at Sprint informed me that the seller of these phones are aware the the ESN isn't clear. So once again I had to send another phone back. I asked for a refund for the phone and shipping since the sent me two phones that didn't have a clear ESN. I received my refund for the phone but have yet to see a refund for the shipping. I wouldn't suggest you buy anything from them.\n",
            "\n",
            "\n",
            "______________________________________________________________________\n",
            "A review of assigned to cluster  6\n",
            "----------------------------------------------------------------------\n",
            "I feel so LUCKY to have found this used (phone to us & not used hard at all), phone on line from someone who upgraded and sold this one. My Son liked his old one that finally fell apart after 2.5+ years and didn't want an upgrade!! Thank you Seller, we really appreciate it & your honesty re: said used phone.I recommend this seller very highly & would but from them again!!\n",
            "\n",
            "\n",
            "______________________________________________________________________\n",
            "A review of assigned to cluster  7\n",
            "----------------------------------------------------------------------\n",
            "Disappointed with the phone compared to there idol 3 model I ordered several days ago . The display is no were near as bright and vibrant and its slow when downloading and switching between different screens. It will serve its purpose which is to be used as my travel phone when I go out of the country and I dont wont to bring my good phone with me in-case it lost or stolen .\n",
            "\n",
            "\n",
            "______________________________________________________________________\n",
            "A review of assigned to cluster  8\n",
            "----------------------------------------------------------------------\n",
            "Great phone. My sone has been happy with it. Needed to get an extra micro-SD card for more storage.\n",
            "\n",
            "\n",
            "______________________________________________________________________\n",
            "A review of assigned to cluster  9\n",
            "----------------------------------------------------------------------\n",
            "Very pleased\n",
            "\n",
            "\n",
            "______________________________________________________________________\n"
          ],
          "name": "stdout"
        }
      ]
    },
    {
      "cell_type": "code",
      "metadata": {
        "colab": {
          "base_uri": "https://localhost:8080/",
          "height": 335
        },
        "id": "561pdXoT1u-e",
        "outputId": "8ec0f70b-df70-44d2-9670-16fcbdf5fb4f"
      },
      "source": [
        "# Giving Labels/assigning a cluster to each point/text \n",
        "dfa = cleaned_data\n",
        "dfa['AVG-W2V Clus Label'] = second_model.labels_\n",
        "dfa.head(2)"
      ],
      "execution_count": 70,
      "outputs": [
        {
          "output_type": "stream",
          "text": [
            "/usr/local/lib/python3.7/dist-packages/ipykernel_launcher.py:3: SettingWithCopyWarning: \n",
            "A value is trying to be set on a copy of a slice from a DataFrame.\n",
            "Try using .loc[row_indexer,col_indexer] = value instead\n",
            "\n",
            "See the caveats in the documentation: https://pandas.pydata.org/pandas-docs/stable/user_guide/indexing.html#returning-a-view-versus-a-copy\n",
            "  This is separate from the ipykernel package so we can avoid doing imports until\n"
          ],
          "name": "stderr"
        },
        {
          "output_type": "execute_result",
          "data": {
            "text/html": [
              "<div>\n",
              "<style scoped>\n",
              "    .dataframe tbody tr th:only-of-type {\n",
              "        vertical-align: middle;\n",
              "    }\n",
              "\n",
              "    .dataframe tbody tr th {\n",
              "        vertical-align: top;\n",
              "    }\n",
              "\n",
              "    .dataframe thead th {\n",
              "        text-align: right;\n",
              "    }\n",
              "</style>\n",
              "<table border=\"1\" class=\"dataframe\">\n",
              "  <thead>\n",
              "    <tr style=\"text-align: right;\">\n",
              "      <th></th>\n",
              "      <th>Product Name</th>\n",
              "      <th>Brand Name</th>\n",
              "      <th>Price</th>\n",
              "      <th>Rating</th>\n",
              "      <th>Reviews</th>\n",
              "      <th>Review Votes</th>\n",
              "      <th>Cleaned Text</th>\n",
              "      <th>Bow Clus Label</th>\n",
              "      <th>AVG-W2V Clus Label</th>\n",
              "    </tr>\n",
              "  </thead>\n",
              "  <tbody>\n",
              "    <tr>\n",
              "      <th>0</th>\n",
              "      <td>\"CLEAR CLEAN ESN\" Sprint EPIC 4G Galaxy SPH-D7...</td>\n",
              "      <td>Samsung</td>\n",
              "      <td>199.99</td>\n",
              "      <td>Positive</td>\n",
              "      <td>I feel so LUCKY to have found this used (phone...</td>\n",
              "      <td>1.0</td>\n",
              "      <td>feel lucky found used phone us used hard phone...</td>\n",
              "      <td>6</td>\n",
              "      <td>5</td>\n",
              "    </tr>\n",
              "    <tr>\n",
              "      <th>1</th>\n",
              "      <td>\"CLEAR CLEAN ESN\" Sprint EPIC 4G Galaxy SPH-D7...</td>\n",
              "      <td>Samsung</td>\n",
              "      <td>199.99</td>\n",
              "      <td>Positive</td>\n",
              "      <td>nice phone, nice up grade from my pantach revu...</td>\n",
              "      <td>0.0</td>\n",
              "      <td>nice phone nice grade pantach revue clean set ...</td>\n",
              "      <td>6</td>\n",
              "      <td>1</td>\n",
              "    </tr>\n",
              "  </tbody>\n",
              "</table>\n",
              "</div>"
            ],
            "text/plain": [
              "                                        Product Name  ... AVG-W2V Clus Label\n",
              "0  \"CLEAR CLEAN ESN\" Sprint EPIC 4G Galaxy SPH-D7...  ...                  5\n",
              "1  \"CLEAR CLEAN ESN\" Sprint EPIC 4G Galaxy SPH-D7...  ...                  1\n",
              "\n",
              "[2 rows x 9 columns]"
            ]
          },
          "metadata": {
            "tags": []
          },
          "execution_count": 70
        }
      ]
    },
    {
      "cell_type": "code",
      "metadata": {
        "colab": {
          "base_uri": "https://localhost:8080/"
        },
        "id": "sWNJGnSk11LK",
        "outputId": "2d6aff50-32b0-49a3-f8b9-8f563672eb85"
      },
      "source": [
        "# Reading a review which belong to each group.\n",
        "for i in range(optimal_clusters):\n",
        "    print(\"A review of assigned to cluster \", i)\n",
        "    print(\"-\" * 70)\n",
        "    print(dfa.iloc[dfa.groupby(['AVG-W2V Clus Label']).groups[i][0]]['Reviews'])\n",
        "    print('\\n')\n",
        "    print(dfa.iloc[dfa.groupby(['AVG-W2V Clus Label']).groups[i][1]]['Reviews'])\n",
        "    print('\\n')\n",
        "    print(\"_\" * 70)"
      ],
      "execution_count": 72,
      "outputs": [
        {
          "output_type": "stream",
          "text": [
            "A review of assigned to cluster  0\n",
            "----------------------------------------------------------------------\n",
            "It worked alright, until i qccidetly pushed the silent button (wich was not explained in miserable chinglish user guide.Then it completely stopped my incoming calls,and icound not reset it.\n",
            "\n",
            "\n",
            "the phone got delivered so fast & the phone is working great! I love it!!\n",
            "\n",
            "\n",
            "______________________________________________________________________\n",
            "A review of assigned to cluster  1\n",
            "----------------------------------------------------------------------\n",
            "nice phone, nice up grade from my pantach revue. Very clean set up and easy set up. never had an android phone but they are fantastic to say the least. perfect size for surfing and social media. great phone samsung\n",
            "\n",
            "\n",
            "The charging port was loose. I got that soldered in. Then needed a new battery as well. $100 later (not including cost of purchase) I have a usable phone. The phone should not have been sold in the state it was in.\n",
            "\n",
            "\n",
            "______________________________________________________________________\n",
            "A review of assigned to cluster  2\n",
            "----------------------------------------------------------------------\n",
            "was not in good condition but does work good\n",
            "\n",
            "\n",
            "excellent product in perfect condition\n",
            "\n",
            "\n",
            "______________________________________________________________________\n",
            "A review of assigned to cluster  3\n",
            "----------------------------------------------------------------------\n",
            "the phone was great and in good condition. My Daughter is so happy the be a andriod user now !!!!!!!!!!!!!!!!!!!!!!!!!!!!!!!\n",
            "\n",
            "\n",
            "Phone works great. No problems at all\n",
            "\n",
            "\n",
            "______________________________________________________________________\n",
            "A review of assigned to cluster  4\n",
            "----------------------------------------------------------------------\n",
            "excelente\n",
            "\n",
            "\n",
            "excelente\n",
            "\n",
            "\n",
            "______________________________________________________________________\n",
            "A review of assigned to cluster  5\n",
            "----------------------------------------------------------------------\n",
            "I feel so LUCKY to have found this used (phone to us & not used hard at all), phone on line from someone who upgraded and sold this one. My Son liked his old one that finally fell apart after 2.5+ years and didn't want an upgrade!! Thank you Seller, we really appreciate it & your honesty re: said used phone.I recommend this seller very highly & would but from them again!!\n",
            "\n",
            "\n",
            "the reasons for the 3 star rating was it was in my opinion better than my iphone 4s but it tends to randomly crash, and randomly power off but it is good for storage space, battery usage, and camera\n",
            "\n",
            "\n",
            "______________________________________________________________________\n",
            "A review of assigned to cluster  6\n",
            "----------------------------------------------------------------------\n",
            "Had this phone before and loved it but was not working so I got this phone. One thing is the SD card slot does not open up when I try to access it in file managment, even does not show up on the computer. The card is fine was able to open on another phone. Trying to trouble shoot it for now.\n",
            "\n",
            "\n",
            "I love the phone. It does everything I need and works great. I purchased four of these phones through a seller that shipped from Amazon's warehouse. My only problem is that the phone didn't come with a micro sd card. I couldn't use the camera until I got the card. No problems getting these activated at Sprint.\n",
            "\n",
            "\n",
            "______________________________________________________________________\n",
            "A review of assigned to cluster  7\n",
            "----------------------------------------------------------------------\n",
            "Very pleased\n",
            "\n",
            "\n",
            "It works good but it goes slow sometimes but its a very good phone I love it\n",
            "\n",
            "\n",
            "______________________________________________________________________\n",
            "A review of assigned to cluster  8\n",
            "----------------------------------------------------------------------\n",
            "Great phone to replace my lost phone. The only thing is the volume up button does not work, but I can still go into settings to adjust. Other than that, it does the job until I am eligible to upgrade my phone again.Thaanks!\n",
            "\n",
            "\n",
            "I already had a phone with problems... I know it stated it was used, but dang, it did not state that it did not charge. I wish I would have read these comments then I would have not purchased this item.... and its cracked on the side.. damaged goods is what it is.... If trying to charge it another way does not work I am requesting for my money back... AND I WILL GET MY MONEY BACK...SIGNED AN UNHAPPY CUSTOMER....\n",
            "\n",
            "\n",
            "______________________________________________________________________\n"
          ],
          "name": "stdout"
        }
      ]
    },
    {
      "cell_type": "markdown",
      "metadata": {
        "id": "z6J1Eui22GmG"
      },
      "source": [
        "**Clustering DBSCAN**"
      ]
    },
    {
      "cell_type": "code",
      "metadata": {
        "id": "-Np0wgF72FcO"
      },
      "source": [
        "from sklearn.cluster import DBSCAN\n",
        "\n",
        "minPts = 2 * 100\n",
        "def lower_bound(nums, target): # This function return the number in the array just greater than or equal to itself.\n",
        "    l, r = 0, len(nums) - 1\n",
        "    while l <= r: # Binary searching.\n",
        "        mid = int(l + (r - l) / 2)\n",
        "        if nums[mid] >= target:\n",
        "            r = mid - 1\n",
        "        else:\n",
        "            l = mid + 1\n",
        "    return l\n",
        "\n",
        "def compute200thnearestneighbour(x, data):\n",
        "    dists = []\n",
        "    for val in data:\n",
        "        dist = np.sum((x - val) **2 ) # computing distances.\n",
        "        if(len(dists) == 200 and dists[199] > dist): # If distance is larger than current largest distance found.\n",
        "            l = int(lower_bound(dists, dist)) # Using the lower bound function to get the right position.\n",
        "            if l < 200 and l >= 0 and dists[l] > dist:\n",
        "                dists[l] = dist\n",
        "        else:\n",
        "            dists.append(dist)\n",
        "            dists.sort()\n",
        "    \n",
        "    return dists[199] "
      ],
      "execution_count": 73,
      "outputs": []
    },
    {
      "cell_type": "code",
      "metadata": {
        "id": "iRKMXZYl2ihK"
      },
      "source": [
        "# Computing the 200th nearest neighbour distance of some point the dataset:\n",
        "twohundrethneigh = []\n",
        "for val in sentence_vectors[:1500]:\n",
        "    twohundrethneigh.append( compute200thnearestneighbour(val, sentence_vectors[:1500]) )\n",
        "twohundrethneigh.sort()"
      ],
      "execution_count": 76,
      "outputs": []
    },
    {
      "cell_type": "code",
      "metadata": {
        "colab": {
          "base_uri": "https://localhost:8080/",
          "height": 295
        },
        "id": "TRVr9g94261V",
        "outputId": "4c2713ea-a7fd-4c2d-ee52-d10177300af3"
      },
      "source": [
        "# Plotting for the Elbow Method :\n",
        "plt.figure(figsize=(14,4))\n",
        "plt.title(\"Elbow Method for Finding the right Eps hyperparameter\")\n",
        "plt.plot([x for x in range(len(twohundrethneigh))], twohundrethneigh)\n",
        "plt.xlabel(\"Number of points\")\n",
        "plt.ylabel(\"Distance of 200th Nearest Neighbour\")\n",
        "plt.show()"
      ],
      "execution_count": 77,
      "outputs": [
        {
          "output_type": "display_data",
          "data": {
            "image/png": "[encoded data removed]",
            "text/plain": [
              "<Figure size 1008x288 with 1 Axes>"
            ]
          },
          "metadata": {
            "tags": [],
            "needs_background": "light"
          }
        }
      ]
    },
    {
      "cell_type": "code",
      "metadata": {
        "colab": {
          "base_uri": "https://localhost:8080/"
        },
        "id": "CNQgnXq62-XP",
        "outputId": "c34dd50e-3719-49ab-bc78-5c5b31530767"
      },
      "source": [
        "# Training DBSCAN :\n",
        "model = DBSCAN(eps = 5, min_samples = minPts, n_jobs=-1)\n",
        "model.fit(sentence_vectors)"
      ],
      "execution_count": 78,
      "outputs": [
        {
          "output_type": "execute_result",
          "data": {
            "text/plain": [
              "DBSCAN(algorithm='auto', eps=5, leaf_size=30, metric='euclidean',\n",
              "       metric_params=None, min_samples=200, n_jobs=-1, p=None)"
            ]
          },
          "metadata": {
            "tags": []
          },
          "execution_count": 78
        }
      ]
    },
    {
      "cell_type": "code",
      "metadata": {
        "colab": {
          "base_uri": "https://localhost:8080/",
          "height": 267
        },
        "id": "6cLbybDp3Kg7",
        "outputId": "89a4e021-ee17-4d34-8137-692c592be8e3"
      },
      "source": [
        "dfdb = dfa\n",
        "dfdb['AVG-W2V Clus Label'] = model.labels_\n",
        "dfdb.groupby(['AVG-W2V Clus Label'])['Product Name', 'Brand Name', 'Reviews'].count()"
      ],
      "execution_count": 79,
      "outputs": [
        {
          "output_type": "stream",
          "text": [
            "/usr/local/lib/python3.7/dist-packages/ipykernel_launcher.py:2: SettingWithCopyWarning: \n",
            "A value is trying to be set on a copy of a slice from a DataFrame.\n",
            "Try using .loc[row_indexer,col_indexer] = value instead\n",
            "\n",
            "See the caveats in the documentation: https://pandas.pydata.org/pandas-docs/stable/user_guide/indexing.html#returning-a-view-versus-a-copy\n",
            "  \n",
            "/usr/local/lib/python3.7/dist-packages/ipykernel_launcher.py:3: FutureWarning: Indexing with multiple keys (implicitly converted to a tuple of keys) will be deprecated, use a list instead.\n",
            "  This is separate from the ipykernel package so we can avoid doing imports until\n"
          ],
          "name": "stderr"
        },
        {
          "output_type": "execute_result",
          "data": {
            "text/html": [
              "<div>\n",
              "<style scoped>\n",
              "    .dataframe tbody tr th:only-of-type {\n",
              "        vertical-align: middle;\n",
              "    }\n",
              "\n",
              "    .dataframe tbody tr th {\n",
              "        vertical-align: top;\n",
              "    }\n",
              "\n",
              "    .dataframe thead th {\n",
              "        text-align: right;\n",
              "    }\n",
              "</style>\n",
              "<table border=\"1\" class=\"dataframe\">\n",
              "  <thead>\n",
              "    <tr style=\"text-align: right;\">\n",
              "      <th></th>\n",
              "      <th>Product Name</th>\n",
              "      <th>Brand Name</th>\n",
              "      <th>Reviews</th>\n",
              "    </tr>\n",
              "    <tr>\n",
              "      <th>AVG-W2V Clus Label</th>\n",
              "      <th></th>\n",
              "      <th></th>\n",
              "      <th></th>\n",
              "    </tr>\n",
              "  </thead>\n",
              "  <tbody>\n",
              "    <tr>\n",
              "      <th>0</th>\n",
              "      <td>7226</td>\n",
              "      <td>7226</td>\n",
              "      <td>7226</td>\n",
              "    </tr>\n",
              "  </tbody>\n",
              "</table>\n",
              "</div>"
            ],
            "text/plain": [
              "                    Product Name  Brand Name  Reviews\n",
              "AVG-W2V Clus Label                                   \n",
              "0                           7226        7226     7226"
            ]
          },
          "metadata": {
            "tags": []
          },
          "execution_count": 79
        }
      ]
    },
    {
      "cell_type": "markdown",
      "metadata": {
        "id": "_dwy5ApP3jVl"
      },
      "source": [
        "**Clustering Hierarchical**"
      ]
    },
    {
      "cell_type": "code",
      "metadata": {
        "colab": {
          "base_uri": "https://localhost:8080/",
          "height": 285
        },
        "id": "ggcRI6fW3opp",
        "outputId": "4f42fbd6-33d0-4c6f-de6a-72208ff287ff"
      },
      "source": [
        "import scipy\n",
        "from scipy.cluster import hierarchy\n",
        "dendro=hierarchy.dendrogram(hierarchy.linkage(sentence_vectors,method='ward'))\n",
        "plt.axhline(y=35)# cut at 30 to get 5 clusters"
      ],
      "execution_count": 80,
      "outputs": [
        {
          "output_type": "execute_result",
          "data": {
            "text/plain": [
              "<matplotlib.lines.Line2D at 0x7f0846c4ed90>"
            ]
          },
          "metadata": {
            "tags": []
          },
          "execution_count": 80
        },
        {
          "output_type": "display_data",
          "data": {
            "image/png": "[encoded data removed]",
            "text/plain": [
              "<Figure size 432x288 with 1 Axes>"
            ]
          },
          "metadata": {
            "tags": [],
            "needs_background": "light"
          }
        }
      ]
    },
    {
      "cell_type": "code",
      "metadata": {
        "id": "Oq1XN4Ip3y0A"
      },
      "source": [
        "from sklearn.cluster import AgglomerativeClustering\n",
        "\n",
        "cluster = AgglomerativeClustering(n_clusters=5, affinity='euclidean', linkage='ward')  #took n=5 from dendrogram curve \n",
        "Agg=cluster.fit_predict(sentence_vectors)\n"
      ],
      "execution_count": 81,
      "outputs": []
    },
    {
      "cell_type": "code",
      "metadata": {
        "colab": {
          "base_uri": "https://localhost:8080/",
          "height": 335
        },
        "id": "C4XmZSlA44iC",
        "outputId": "5a692a00-69f8-49a0-f145-d1e632c3374a"
      },
      "source": [
        "# Giving Labels/assigning a cluster to each point/text \n",
        "aggdfa = dfdb\n",
        "aggdfa['AVG-W2V Clus Label'] = cluster.labels_\n",
        "aggdfa.head(2)"
      ],
      "execution_count": 82,
      "outputs": [
        {
          "output_type": "stream",
          "text": [
            "/usr/local/lib/python3.7/dist-packages/ipykernel_launcher.py:3: SettingWithCopyWarning: \n",
            "A value is trying to be set on a copy of a slice from a DataFrame.\n",
            "Try using .loc[row_indexer,col_indexer] = value instead\n",
            "\n",
            "See the caveats in the documentation: https://pandas.pydata.org/pandas-docs/stable/user_guide/indexing.html#returning-a-view-versus-a-copy\n",
            "  This is separate from the ipykernel package so we can avoid doing imports until\n"
          ],
          "name": "stderr"
        },
        {
          "output_type": "execute_result",
          "data": {
            "text/html": [
              "<div>\n",
              "<style scoped>\n",
              "    .dataframe tbody tr th:only-of-type {\n",
              "        vertical-align: middle;\n",
              "    }\n",
              "\n",
              "    .dataframe tbody tr th {\n",
              "        vertical-align: top;\n",
              "    }\n",
              "\n",
              "    .dataframe thead th {\n",
              "        text-align: right;\n",
              "    }\n",
              "</style>\n",
              "<table border=\"1\" class=\"dataframe\">\n",
              "  <thead>\n",
              "    <tr style=\"text-align: right;\">\n",
              "      <th></th>\n",
              "      <th>Product Name</th>\n",
              "      <th>Brand Name</th>\n",
              "      <th>Price</th>\n",
              "      <th>Rating</th>\n",
              "      <th>Reviews</th>\n",
              "      <th>Review Votes</th>\n",
              "      <th>Cleaned Text</th>\n",
              "      <th>Bow Clus Label</th>\n",
              "      <th>AVG-W2V Clus Label</th>\n",
              "    </tr>\n",
              "  </thead>\n",
              "  <tbody>\n",
              "    <tr>\n",
              "      <th>0</th>\n",
              "      <td>\"CLEAR CLEAN ESN\" Sprint EPIC 4G Galaxy SPH-D7...</td>\n",
              "      <td>Samsung</td>\n",
              "      <td>199.99</td>\n",
              "      <td>Positive</td>\n",
              "      <td>I feel so LUCKY to have found this used (phone...</td>\n",
              "      <td>1.0</td>\n",
              "      <td>feel lucky found used phone us used hard phone...</td>\n",
              "      <td>6</td>\n",
              "      <td>0</td>\n",
              "    </tr>\n",
              "    <tr>\n",
              "      <th>1</th>\n",
              "      <td>\"CLEAR CLEAN ESN\" Sprint EPIC 4G Galaxy SPH-D7...</td>\n",
              "      <td>Samsung</td>\n",
              "      <td>199.99</td>\n",
              "      <td>Positive</td>\n",
              "      <td>nice phone, nice up grade from my pantach revu...</td>\n",
              "      <td>0.0</td>\n",
              "      <td>nice phone nice grade pantach revue clean set ...</td>\n",
              "      <td>6</td>\n",
              "      <td>0</td>\n",
              "    </tr>\n",
              "  </tbody>\n",
              "</table>\n",
              "</div>"
            ],
            "text/plain": [
              "                                        Product Name  ... AVG-W2V Clus Label\n",
              "0  \"CLEAR CLEAN ESN\" Sprint EPIC 4G Galaxy SPH-D7...  ...                  0\n",
              "1  \"CLEAR CLEAN ESN\" Sprint EPIC 4G Galaxy SPH-D7...  ...                  0\n",
              "\n",
              "[2 rows x 9 columns]"
            ]
          },
          "metadata": {
            "tags": []
          },
          "execution_count": 82
        }
      ]
    },
    {
      "cell_type": "code",
      "metadata": {
        "colab": {
          "base_uri": "https://localhost:8080/"
        },
        "id": "EvmE0VFX49V8",
        "outputId": "a90ba837-a125-422d-e1d0-6fef1a83073c"
      },
      "source": [
        "# How many points belong to each cluster ->\n",
        "aggdfa.groupby(['AVG-W2V Clus Label'])['Reviews'].count()"
      ],
      "execution_count": 83,
      "outputs": [
        {
          "output_type": "execute_result",
          "data": {
            "text/plain": [
              "AVG-W2V Clus Label\n",
              "0    4790\n",
              "1     379\n",
              "2    1482\n",
              "3     132\n",
              "4     443\n",
              "Name: Reviews, dtype: int64"
            ]
          },
          "metadata": {
            "tags": []
          },
          "execution_count": 83
        }
      ]
    },
    {
      "cell_type": "code",
      "metadata": {
        "colab": {
          "base_uri": "https://localhost:8080/"
        },
        "id": "nzTXg_Lt5EIO",
        "outputId": "87ae3be8-3748-4ec7-ee33-5bf7928a67f6"
      },
      "source": [
        "# Reading a review which belong to each group.\n",
        "for i in range(5):\n",
        "    print(\"2 reviews of assigned to cluster \", i)\n",
        "    print(\"-\" * 70)\n",
        "    print(aggdfa.iloc[aggdfa.groupby(['AVG-W2V Clus Label']).groups[i][0]]['Reviews'])\n",
        "    print('\\n')\n",
        "    print(aggdfa.iloc[aggdfa.groupby(['AVG-W2V Clus Label']).groups[i][1]]['Reviews'])\n",
        "    print('\\n')\n",
        "    print(\"_\" * 70)"
      ],
      "execution_count": 84,
      "outputs": [
        {
          "output_type": "stream",
          "text": [
            "2 reviews of assigned to cluster  0\n",
            "----------------------------------------------------------------------\n",
            "I feel so LUCKY to have found this used (phone to us & not used hard at all), phone on line from someone who upgraded and sold this one. My Son liked his old one that finally fell apart after 2.5+ years and didn't want an upgrade!! Thank you Seller, we really appreciate it & your honesty re: said used phone.I recommend this seller very highly & would but from them again!!\n",
            "\n",
            "\n",
            "nice phone, nice up grade from my pantach revue. Very clean set up and easy set up. never had an android phone but they are fantastic to say the least. perfect size for surfing and social media. great phone samsung\n",
            "\n",
            "\n",
            "______________________________________________________________________\n",
            "2 reviews of assigned to cluster  1\n",
            "----------------------------------------------------------------------\n",
            "Had this phone before and loved it but was not working so I got this phone. One thing is the SD card slot does not open up when I try to access it in file managment, even does not show up on the computer. The card is fine was able to open on another phone. Trying to trouble shoot it for now.\n",
            "\n",
            "\n",
            "I love the phone. It does everything I need and works great. I purchased four of these phones through a seller that shipped from Amazon's warehouse. My only problem is that the phone didn't come with a micro sd card. I couldn't use the camera until I got the card. No problems getting these activated at Sprint.\n",
            "\n",
            "\n",
            "______________________________________________________________________\n",
            "2 reviews of assigned to cluster  2\n",
            "----------------------------------------------------------------------\n",
            "Very pleased\n",
            "\n",
            "\n",
            "It works good but it goes slow sometimes but its a very good phone I love it\n",
            "\n",
            "\n",
            "______________________________________________________________________\n",
            "2 reviews of assigned to cluster  3\n",
            "----------------------------------------------------------------------\n",
            "excelente\n",
            "\n",
            "\n",
            "excelente\n",
            "\n",
            "\n",
            "______________________________________________________________________\n",
            "2 reviews of assigned to cluster  4\n",
            "----------------------------------------------------------------------\n",
            "excellent product in perfect condition\n",
            "\n",
            "\n",
            "excellent\n",
            "\n",
            "\n",
            "______________________________________________________________________\n"
          ],
          "name": "stdout"
        }
      ]
    },
    {
      "cell_type": "markdown",
      "metadata": {
        "id": "WgxKqQObnq0s"
      },
      "source": [
        "In one paragraph, please compare K means, DBSCAN and Hierarchical clustering. "
      ]
    },
    {
      "cell_type": "markdown",
      "metadata": {
        "id": "vYzDvBdY7SD6"
      },
      "source": [
        "Hierarchical clustering excels at discovering embedded structures in the data, and DBSCAN approaches excel at \n",
        "finding an unknown number of clusters of similar density. However, both fail at finding a ‘consensus’ across the full \n",
        "dataset. Hierarchical clustering can put together clusters that seem close, but no information about other points is \n",
        "considered. DBSCAN methods only look at a small neighborhood of nearby points and similarly fail to consider the full dataset. DBSCAN clustering methods provide a safety valve. Instead of assuming that every point is part of some cluster, we only look at points that are tightly packed and assume everything else is noise.\n",
        "K-means considers every point in the dataset and uses that information to evolve the clustering over a series of iterations."
      ]
    }
  ]
}