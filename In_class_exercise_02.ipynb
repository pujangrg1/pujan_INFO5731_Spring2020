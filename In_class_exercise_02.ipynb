{
  "nbformat": 4,
  "nbformat_minor": 0,
  "metadata": {
    "colab": {
      "name": "In_class_exercise_02.ipynb",
      "provenance": [],
      "collapsed_sections": [],
      "include_colab_link": true
    },
    "kernelspec": {
      "display_name": "Python 3",
      "language": "python",
      "name": "python3"
    },
    "language_info": {
      "codemirror_mode": {
        "name": "ipython",
        "version": 3
      },
      "file_extension": ".py",
      "mimetype": "text/x-python",
      "name": "python",
      "nbconvert_exporter": "python",
      "pygments_lexer": "ipython3",
      "version": "3.7.4"
    }
  },
  "cells": [
    {
      "cell_type": "markdown",
      "metadata": {
        "id": "view-in-github",
        "colab_type": "text"
      },
      "source": [
        "<a href=\"https://colab.research.google.com/github/pujangrg1/pujan_INFO5731_Spring2020/blob/main/In_class_exercise_02.ipynb\" target=\"_parent\"><img src=\"https://colab.research.google.com/assets/colab-badge.svg\" alt=\"Open In Colab\"/></a>"
      ]
    },
    {
      "cell_type": "markdown",
      "metadata": {
        "id": "oo5bsEh2eeWi"
      },
      "source": [
        "# **The second In-class-exercise (1/27/2021, 20 points in total)**\n"
      ]
    },
    {
      "cell_type": "markdown",
      "metadata": {
        "id": "2sPQ58dIeqgp"
      },
      "source": [
        "(1) Write a Python program to find the duplicate elements in a given array of integers. Return -1 If there are no such elements. (4 points)"
      ]
    },
    {
      "cell_type": "code",
      "metadata": {
        "colab": {
          "base_uri": "https://localhost:8080/"
        },
        "id": "mnrvKMFTeoJR",
        "outputId": "6689d949-f5a7-4f8a-96d4-8894e86e60ae"
      },
      "source": [
        "# write your answer here\n",
        "arrayList = []\n",
        "n = int(input(\"How many numbers do you wish to enter? \"))\n",
        "noduplicate = -1\n",
        "nums = set()\n",
        "for x in range(n):\n",
        "    userInput = int(input(\"Enter a number: \"))\n",
        "    arrayList.append(userInput)\n",
        "\n",
        "def findDuplicate(arraylist):\n",
        "    num = set()\n",
        "    noduplicate = -1\n",
        "\n",
        "    for i in range(len(arraylist)):\n",
        "        if arraylist[i] in num:\n",
        "            return arraylist[i]\n",
        "        else:\n",
        "            num.add(arraylist[i])\n",
        "    return noduplicate\n",
        "\n",
        "print(findDuplicate(arrayList))"
      ],
      "execution_count": 13,
      "outputs": [
        {
          "output_type": "stream",
          "text": [
            "How many numbers do you wish to enter? 5\n",
            "Enter a number: 1\n",
            "Enter a number: 1\n",
            "Enter a number: 2\n",
            "Enter a number: 3\n",
            "Enter a number: 4\n",
            "1\n"
          ],
          "name": "stdout"
        }
      ]
    },
    {
      "cell_type": "markdown",
      "metadata": {
        "id": "YYrH6n6IhZoQ"
      },
      "source": [
        "(2) Write a Python program to select all the Sundays of a specified year. (4 points)\n",
        "\n"
      ]
    },
    {
      "cell_type": "code",
      "metadata": {
        "colab": {
          "base_uri": "https://localhost:8080/"
        },
        "id": "OSfPLd23eLpX",
        "outputId": "9ac037dc-6c0a-46af-bba7-3bd2db7f74c9"
      },
      "source": [
        "# write your answer here\n",
        "from datetime import datetime, timedelta, date\n",
        "yr = int(input(\"Enter a year: \"))\n",
        "startDate = date(yr, 1, 1)\n",
        "endDate = date(yr, 12, 31)\n",
        "sunday = startDate + timedelta(days = 6 - date.weekday(startDate))\n",
        "while sunday.year == yr:  \n",
        "  print(sunday)\n",
        "  sunday = sunday + timedelta(days = 7)\n",
        "\n"
      ],
      "execution_count": 10,
      "outputs": [
        {
          "output_type": "stream",
          "text": [
            "Enter a year: 2021\n",
            "2021-01-03\n",
            "2021-01-10\n",
            "2021-01-17\n",
            "2021-01-24\n",
            "2021-01-31\n",
            "2021-02-07\n",
            "2021-02-14\n",
            "2021-02-21\n",
            "2021-02-28\n",
            "2021-03-07\n",
            "2021-03-14\n",
            "2021-03-21\n",
            "2021-03-28\n",
            "2021-04-04\n",
            "2021-04-11\n",
            "2021-04-18\n",
            "2021-04-25\n",
            "2021-05-02\n",
            "2021-05-09\n",
            "2021-05-16\n",
            "2021-05-23\n",
            "2021-05-30\n",
            "2021-06-06\n",
            "2021-06-13\n",
            "2021-06-20\n",
            "2021-06-27\n",
            "2021-07-04\n",
            "2021-07-11\n",
            "2021-07-18\n",
            "2021-07-25\n",
            "2021-08-01\n",
            "2021-08-08\n",
            "2021-08-15\n",
            "2021-08-22\n",
            "2021-08-29\n",
            "2021-09-05\n",
            "2021-09-12\n",
            "2021-09-19\n",
            "2021-09-26\n",
            "2021-10-03\n",
            "2021-10-10\n",
            "2021-10-17\n",
            "2021-10-24\n",
            "2021-10-31\n",
            "2021-11-07\n",
            "2021-11-14\n",
            "2021-11-21\n",
            "2021-11-28\n",
            "2021-12-05\n",
            "2021-12-12\n",
            "2021-12-19\n",
            "2021-12-26\n"
          ],
          "name": "stdout"
        }
      ]
    },
    {
      "cell_type": "markdown",
      "metadata": {
        "id": "UIpziZ6Sjie-"
      },
      "source": [
        "(3) Python files reading and writing. Download the “[exercise_02_data _collection.zip](https://github.com/unt-iialab/info5731_spring2021/blob/main/class_exercises/exercise_02_data_collection.zip)” to your local and un-zip it.\n",
        "\n",
        "*   Write a program to read all the txt files and save the sentences in all the files into one csv file with two columns, the first column is sentence id (txt file name+sentence line number), the second column is the sentence text content. (4 points)\n",
        "*   Remove all the punctuations from the sentences, save the processed sentences into a new column in the same csv file. (4 points)\n",
        "*   Ask the user to enter a word, return all the sentences that include this word, three kinds of information should be returned: sentence id, sentence text content, the count that user input word appear in the sentence. (4 points)\n",
        "\n"
      ]
    },
    {
      "cell_type": "code",
      "metadata": {
        "colab": {
          "base_uri": "https://localhost:8080/"
        },
        "id": "f3CUsrWOj1Xy",
        "outputId": "353b4a92-57a1-40e5-9820-b62738922c6e"
      },
      "source": [
        "import csv,re,os,glob\n",
        "#print(os.listdir())\n",
        "# Q3-1:\n",
        "with open(\"output.csv\",\"w\") as outputfile:\n",
        "    output = csv.writer(outputfile, delimiter=',')\n",
        "    i = 1\n",
        "    while i <= 100:       \n",
        "        filename1 = \"/content/ARTHROTEC.\" + str(i) + \".txt\"\n",
        "        filename2 = \"ARTHROTEC.\" + str(i)\n",
        "        file = open(filename1).read()\n",
        "        sentences = file.split('\\n')\n",
        "        for x in sentences:\n",
        "            if x == '':\n",
        "                sentences.remove(x)\n",
        "        for x in sentences:\n",
        "            sentenceid = filename2 + \" - line \" + str(sentences.index(x) + 1)\n",
        "            output.writerow([sentenceid, x])\n",
        "        i += 1\n",
        "\n",
        "# Q3-2:\n",
        "tempdata = []\n",
        "with open(\"output.csv\",'r') as file:\n",
        "    file_reader = csv.reader(file)\n",
        "    for row in file_reader:\n",
        "        clean_line = re.sub(r\"[^a-zA-Z\\s\\']\",\"\",row[1])\n",
        "        clean_line = re.sub(\"\\s\\s\",\" \",clean_line)\n",
        "        row.append(clean_line)\n",
        "        tempdata.append(row)\n",
        "\n",
        "with open(\"output.csv\",\"w\") as outputfile:\n",
        "    filetowrite = csv.writer(outputfile, delimiter=',')\n",
        "    filetowrite.writerows(tempdata)\n",
        "\n",
        "# Q3-3\n",
        "usertext = input(\"Enter a word: \")\n",
        "with open(\"output.csv\",'r') as file:\n",
        "    file_reader = csv.reader(file)\n",
        "    for row in file_reader:\n",
        "        searchword = \" \" + usertext + \" \"\n",
        "        if searchword in row[2]:\n",
        "            searchresult = re.findall(searchword, row[2])\n",
        "            print(row[0], row[1], len(searchresult))"
      ],
      "execution_count": 34,
      "outputs": [
        {
          "output_type": "stream",
          "text": [
            "['.config', 'ARTHROTEC.36.txt', 'ARTHROTEC.44.txt', 'ARTHROTEC.20.txt', 'ARTHROTEC.100.txt', 'ARTHROTEC.12.txt', 'ARTHROTEC.49.txt', 'ARTHROTEC.86.txt', 'ARTHROTEC.37.txt', 'ARTHROTEC.89.txt', 'ARTHROTEC.1.txt', 'ARTHROTEC.76.txt', 'ARTHROTEC.61.txt', 'ARTHROTEC.2.txt', 'exercise2output.csv', 'ARTHROTEC.66.txt', 'ARTHROTEC.11.txt', 'ARTHROTEC.97.txt', 'ARTHROTEC.99.txt', 'ARTHROTEC.21.txt', 'ARTHROTEC.75.txt', 'ARTHROTEC.38.txt', 'ARTHROTEC.69.txt', 'ARTHROTEC.24.txt', 'ARTHROTEC.80.txt', 'ARTHROTEC.31.txt', 'ARTHROTEC.45.txt', 'ARTHROTEC.42.txt', 'ARTHROTEC.10.txt', 'ARTHROTEC.4.txt', 'ARTHROTEC.64.txt', 'ARTHROTEC.48.txt', 'ARTHROTEC.50.txt', 'ARTHROTEC.85.txt', 'ARTHROTEC.72.txt', 'ARTHROTEC.22.txt', 'ARTHROTEC.34.txt', 'ARTHROTEC.9.txt', 'ARTHROTEC.17.txt', 'ARTHROTEC.87.txt', 'ARTHROTEC.3.txt', 'ARTHROTEC.23.txt', 'ARTHROTEC.68.txt', 'ARTHROTEC.13.txt', 'ARTHROTEC.98.txt', 'ARTHROTEC.16.txt', 'ARTHROTEC.65.txt', 'ARTHROTEC.53.txt', 'ARTHROTEC.43.txt', 'ARTHROTEC.35.txt', 'ARTHROTEC.18.txt', 'ARTHROTEC.55.txt', 'ARTHROTEC.25.txt', 'ARTHROTEC.92.txt', 'ARTHROTEC.41.txt', 'ARTHROTEC.74.txt', 'ARTHROTEC.6.txt', 'ARTHROTEC.96.txt', 'ARTHROTEC.8.txt', 'ARTHROTEC.77.txt', 'ARTHROTEC.59.txt', 'ARTHROTEC.56.txt', 'ARTHROTEC.81.txt', 'ARTHROTEC.15.txt', 'ARTHROTEC.91.txt', 'ARTHROTEC.57.txt', 'ARTHROTEC.40.txt', 'ARTHROTEC.32.txt', 'ARTHROTEC.33.txt', 'ARTHROTEC.14.txt', 'ARTHROTEC.47.txt', 'ARTHROTEC.5.txt', 'output.csv', 'ARTHROTEC.70.txt', 'ARTHROTEC.60.txt', 'ARTHROTEC.71.txt', 'ARTHROTEC.78.txt', 'ARTHROTEC.46.txt', 'ARTHROTEC.83.txt', 'ARTHROTEC.29.txt', 'ARTHROTEC.51.txt', 'ARTHROTEC.93.txt', 'ARTHROTEC.63.txt', 'ARTHROTEC.95.txt', 'ARTHROTEC.67.txt', 'ARTHROTEC.58.txt', 'ARTHROTEC.90.txt', 'ARTHROTEC.54.txt', 'ARTHROTEC.27.txt', 'ARTHROTEC.28.txt', 'ARTHROTEC.39.txt', 'ARTHROTEC.62.txt', 'ARTHROTEC.19.txt', 'ARTHROTEC.88.txt', 'ARTHROTEC.30.txt', 'ARTHROTEC.84.txt', 'ARTHROTEC.94.txt', 'ARTHROTEC.7.txt', 'ARTHROTEC.26.txt', 'ARTHROTEC.73.txt', 'ARTHROTEC.79.txt', 'ARTHROTEC.82.txt', 'ARTHROTEC.52.txt', 'sample_data']\n",
            "Enter a word: test\n",
            "ARTHROTEC.47 - line 2 I just went for test and haven't gotten results yet, but Dr feels I have more than 1 form of arthritis, I also have a very sensitive stomach, this is cheaper and more approved by health insurance, so that is why this prescribed. 1\n",
            "ARTHROTEC.59 - line 7 My doctor prescribed me a topical cream , did some a vaginal test to exclude infections. 1\n",
            "ARTHROTEC.63 - line 6 My doctor prescribed me a topical cream , did some a vaginal test to exclude infections. 1\n",
            "ARTHROTEC.95 - line 2 I went to my GP and the results of my blood test showed there was something wrong with my liver and I am a non-drinker. 1\n"
          ],
          "name": "stdout"
        }
      ]
    },
    {
      "cell_type": "markdown",
      "metadata": {
        "id": "-12cqmJEpZOh"
      },
      "source": [
        "(4) Install packages nltk, numpy, scipy, pandas, and sklearn on Google Colab. Write a program to test whether they are installed successfully. (3 points for extra)"
      ]
    },
    {
      "cell_type": "code",
      "metadata": {
        "colab": {
          "base_uri": "https://localhost:8080/"
        },
        "id": "f1pn1Zl2qK77",
        "outputId": "28139e22-9d84-4b71-f5c5-16838a90a74d"
      },
      "source": [
        "# write your answer here\n",
        "! pip install nltk\n",
        "! pip install numpy\n",
        "! pip install scipy\n",
        "! pip install pandas\n",
        "! pip install scikit-learn"
      ],
      "execution_count": 14,
      "outputs": [
        {
          "output_type": "stream",
          "text": [
            "Requirement already satisfied: nltk in /usr/local/lib/python3.6/dist-packages (3.2.5)\n",
            "Requirement already satisfied: six in /usr/local/lib/python3.6/dist-packages (from nltk) (1.15.0)\n",
            "Requirement already satisfied: numpy in /usr/local/lib/python3.6/dist-packages (1.19.5)\n",
            "Requirement already satisfied: scipy in /usr/local/lib/python3.6/dist-packages (1.4.1)\n",
            "Requirement already satisfied: numpy>=1.13.3 in /usr/local/lib/python3.6/dist-packages (from scipy) (1.19.5)\n",
            "Requirement already satisfied: pandas in /usr/local/lib/python3.6/dist-packages (1.1.5)\n",
            "Requirement already satisfied: numpy>=1.15.4 in /usr/local/lib/python3.6/dist-packages (from pandas) (1.19.5)\n",
            "Requirement already satisfied: pytz>=2017.2 in /usr/local/lib/python3.6/dist-packages (from pandas) (2018.9)\n",
            "Requirement already satisfied: python-dateutil>=2.7.3 in /usr/local/lib/python3.6/dist-packages (from pandas) (2.8.1)\n",
            "Requirement already satisfied: six>=1.5 in /usr/local/lib/python3.6/dist-packages (from python-dateutil>=2.7.3->pandas) (1.15.0)\n",
            "Requirement already satisfied: scikit-learn in /usr/local/lib/python3.6/dist-packages (0.22.2.post1)\n",
            "Requirement already satisfied: numpy>=1.11.0 in /usr/local/lib/python3.6/dist-packages (from scikit-learn) (1.19.5)\n",
            "Requirement already satisfied: scipy>=0.17.0 in /usr/local/lib/python3.6/dist-packages (from scikit-learn) (1.4.1)\n",
            "Requirement already satisfied: joblib>=0.11 in /usr/local/lib/python3.6/dist-packages (from scikit-learn) (1.0.0)\n"
          ],
          "name": "stdout"
        }
      ]
    },
    {
      "cell_type": "code",
      "metadata": {
        "id": "ip9FPxPIfvTY"
      },
      "source": [
        ""
      ],
      "execution_count": null,
      "outputs": []
    }
  ]
}