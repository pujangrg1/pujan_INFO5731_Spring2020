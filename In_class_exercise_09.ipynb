{
  "nbformat": 4,
  "nbformat_minor": 0,
  "metadata": {
    "kernelspec": {
      "display_name": "Python 3",
      "language": "python",
      "name": "python3"
    },
    "language_info": {
      "codemirror_mode": {
        "name": "ipython",
        "version": 3
      },
      "file_extension": ".py",
      "mimetype": "text/x-python",
      "name": "python",
      "nbconvert_exporter": "python",
      "pygments_lexer": "ipython3",
      "version": "3.8.5"
    },
    "colab": {
      "name": "In_class_exercise_09.ipynb",
      "provenance": [],
      "collapsed_sections": [],
      "toc_visible": true,
      "include_colab_link": true
    }
  },
  "cells": [
    {
      "cell_type": "markdown",
      "metadata": {
        "id": "view-in-github",
        "colab_type": "text"
      },
      "source": [
        "<a href=\"https://colab.research.google.com/github/pujangrg1/pujan_INFO5731_Spring2020/blob/main/In_class_exercise_09.ipynb\" target=\"_parent\"><img src=\"https://colab.research.google.com/assets/colab-badge.svg\" alt=\"Open In Colab\"/></a>"
      ]
    },
    {
      "cell_type": "markdown",
      "metadata": {
        "id": "NeMxx-EJWns6"
      },
      "source": [
        "# **The ninth in-class-exercise (20 points in total, 4/16/2021)**"
      ]
    },
    {
      "cell_type": "markdown",
      "metadata": {
        "id": "52sCSy7FWns8"
      },
      "source": [
        "The purpose of the exercise is to practice different machine learning algorithms for text classification as well as the performance evaluation. In addition, you are requried to conduct *10 fold cross validation (https://scikit-learn.org/stable/modules/cross_validation.html)* in the training. \n",
        "\n",
        "The dataset can be download from here: https://github.com/unt-iialab/info5731_spring2021/blob/main/class_exercises/exercise09_datacollection.zip. The dataset contains two files train data and test data for sentiment analysis in IMDB review, it has two categories: 1 represents positive and 0 represents negative. You need to split the training data into training and validate data (80% for training and 20% for validation, https://towardsdatascience.com/train-test-split-and-cross-validation-in-python-80b61beca4b6) and perform 10 fold cross validation while training the classifier. The final trained model was final evaluated on the test data. \n",
        "\n",
        "Algorithms:\n",
        "\n",
        "(1) MultinominalNB\n",
        "\n",
        "(2) SVM \n",
        "\n",
        "(3) KNN \n",
        "\n",
        "(4) Decision tree\n",
        "\n",
        "(5) Random Forest\n",
        "\n",
        "(6) XGBoost\n",
        "\n",
        "Evaluation measurement:\n",
        "\n",
        "(1) Accuracy\n",
        "\n",
        "(2) Recall\n",
        "\n",
        "(3) Precison \n",
        "\n",
        "(4) F-1 score"
      ]
    },
    {
      "cell_type": "markdown",
      "metadata": {
        "id": "-XdLsMxlYg4a"
      },
      "source": [
        "**Retrieve Trainig Dataset and Format**"
      ]
    },
    {
      "cell_type": "code",
      "metadata": {
        "id": "PA338iEMWns-"
      },
      "source": [
        "# Write your code here\n",
        "import pandas as pd\n",
        "train_dataset = open('sample_data/stsa-train.txt').read()\n",
        "train_labels = []\n",
        "train_text = []\n",
        "for i, line in enumerate(dataset.split(\"\\n\")):\n",
        "    data_content = line.split(' ')\n",
        "    train_labels.append(data_content[0])\n",
        "    train_text.append(\" \".join(data_content[1:]))\n"
      ],
      "execution_count": 7,
      "outputs": []
    },
    {
      "cell_type": "markdown",
      "metadata": {
        "id": "pI4X4wyVYp1X"
      },
      "source": [
        "**Retrieve Testing Dataset and Format**"
      ]
    },
    {
      "cell_type": "code",
      "metadata": {
        "id": "Gsvlgx4BYvNw"
      },
      "source": [
        "test_dataset = open('sample_data/stsa-test.txt').read()\n",
        "test_labels = []\n",
        "test_text = []\n",
        "for i, line in enumerate(test_dataset.split(\"\\n\")):\n",
        "    data_content = line.split(' ')\n",
        "    test_labels.append(data_content[0])\n",
        "    test_text.append(\" \".join(data_content[1:]))"
      ],
      "execution_count": 8,
      "outputs": []
    },
    {
      "cell_type": "code",
      "metadata": {
        "colab": {
          "base_uri": "https://localhost:8080/"
        },
        "id": "bq5vKM12ZeqU",
        "outputId": "d0af8783-4fb0-4a3f-90ad-8ec344db9a8b"
      },
      "source": [
        "import nltk\n",
        "nltk.download()"
      ],
      "execution_count": 6,
      "outputs": [
        {
          "output_type": "stream",
          "text": [
            "NLTK Downloader\n",
            "---------------------------------------------------------------------------\n",
            "    d) Download   l) List    u) Update   c) Config   h) Help   q) Quit\n",
            "---------------------------------------------------------------------------\n",
            "Downloader> d\n",
            "\n",
            "Download which package (l=list; x=cancel)?\n",
            "  Identifier> all\n",
            "    Downloading collection 'all'\n",
            "       | \n",
            "       | Downloading package abc to /root/nltk_data...\n",
            "       |   Unzipping corpora/abc.zip.\n",
            "       | Downloading package alpino to /root/nltk_data...\n",
            "       |   Unzipping corpora/alpino.zip.\n",
            "       | Downloading package biocreative_ppi to /root/nltk_data...\n",
            "       |   Unzipping corpora/biocreative_ppi.zip.\n",
            "       | Downloading package brown to /root/nltk_data...\n",
            "       |   Unzipping corpora/brown.zip.\n",
            "       | Downloading package brown_tei to /root/nltk_data...\n",
            "       |   Unzipping corpora/brown_tei.zip.\n",
            "       | Downloading package cess_cat to /root/nltk_data...\n",
            "       |   Unzipping corpora/cess_cat.zip.\n",
            "       | Downloading package cess_esp to /root/nltk_data...\n",
            "       |   Unzipping corpora/cess_esp.zip.\n",
            "       | Downloading package chat80 to /root/nltk_data...\n",
            "       |   Unzipping corpora/chat80.zip.\n",
            "       | Downloading package city_database to /root/nltk_data...\n",
            "       |   Unzipping corpora/city_database.zip.\n",
            "       | Downloading package cmudict to /root/nltk_data...\n",
            "       |   Unzipping corpora/cmudict.zip.\n",
            "       | Downloading package comparative_sentences to\n",
            "       |     /root/nltk_data...\n",
            "       |   Unzipping corpora/comparative_sentences.zip.\n",
            "       | Downloading package comtrans to /root/nltk_data...\n",
            "       | Downloading package conll2000 to /root/nltk_data...\n",
            "       |   Unzipping corpora/conll2000.zip.\n",
            "       | Downloading package conll2002 to /root/nltk_data...\n",
            "       |   Unzipping corpora/conll2002.zip.\n",
            "       | Downloading package conll2007 to /root/nltk_data...\n",
            "       | Downloading package crubadan to /root/nltk_data...\n",
            "       |   Unzipping corpora/crubadan.zip.\n",
            "       | Downloading package dependency_treebank to /root/nltk_data...\n",
            "       |   Unzipping corpora/dependency_treebank.zip.\n",
            "       | Downloading package dolch to /root/nltk_data...\n",
            "       |   Unzipping corpora/dolch.zip.\n",
            "       | Downloading package europarl_raw to /root/nltk_data...\n",
            "       |   Unzipping corpora/europarl_raw.zip.\n",
            "       | Downloading package floresta to /root/nltk_data...\n",
            "       |   Unzipping corpora/floresta.zip.\n",
            "       | Downloading package framenet_v15 to /root/nltk_data...\n",
            "       |   Unzipping corpora/framenet_v15.zip.\n",
            "       | Downloading package framenet_v17 to /root/nltk_data...\n",
            "       |   Unzipping corpora/framenet_v17.zip.\n",
            "       | Downloading package gazetteers to /root/nltk_data...\n",
            "       |   Unzipping corpora/gazetteers.zip.\n",
            "       | Downloading package genesis to /root/nltk_data...\n",
            "       |   Unzipping corpora/genesis.zip.\n",
            "       | Downloading package gutenberg to /root/nltk_data...\n",
            "       |   Unzipping corpora/gutenberg.zip.\n",
            "       | Downloading package ieer to /root/nltk_data...\n",
            "       |   Unzipping corpora/ieer.zip.\n",
            "       | Downloading package inaugural to /root/nltk_data...\n",
            "       |   Unzipping corpora/inaugural.zip.\n",
            "       | Downloading package indian to /root/nltk_data...\n",
            "       |   Unzipping corpora/indian.zip.\n",
            "       | Downloading package jeita to /root/nltk_data...\n",
            "       | Downloading package kimmo to /root/nltk_data...\n",
            "       |   Unzipping corpora/kimmo.zip.\n",
            "       | Downloading package knbc to /root/nltk_data...\n",
            "       | Downloading package lin_thesaurus to /root/nltk_data...\n",
            "       |   Unzipping corpora/lin_thesaurus.zip.\n",
            "       | Downloading package mac_morpho to /root/nltk_data...\n",
            "       |   Unzipping corpora/mac_morpho.zip.\n",
            "       | Downloading package machado to /root/nltk_data...\n",
            "       | Downloading package masc_tagged to /root/nltk_data...\n",
            "       | Downloading package moses_sample to /root/nltk_data...\n",
            "       |   Unzipping models/moses_sample.zip.\n",
            "       | Downloading package movie_reviews to /root/nltk_data...\n",
            "       |   Unzipping corpora/movie_reviews.zip.\n",
            "       | Downloading package names to /root/nltk_data...\n",
            "       |   Unzipping corpora/names.zip.\n",
            "       | Downloading package nombank.1.0 to /root/nltk_data...\n",
            "       | Downloading package nps_chat to /root/nltk_data...\n",
            "       |   Unzipping corpora/nps_chat.zip.\n",
            "       | Downloading package omw to /root/nltk_data...\n",
            "       |   Unzipping corpora/omw.zip.\n",
            "       | Downloading package opinion_lexicon to /root/nltk_data...\n",
            "       |   Unzipping corpora/opinion_lexicon.zip.\n",
            "       | Downloading package paradigms to /root/nltk_data...\n",
            "       |   Unzipping corpora/paradigms.zip.\n",
            "       | Downloading package pil to /root/nltk_data...\n",
            "       |   Unzipping corpora/pil.zip.\n",
            "       | Downloading package pl196x to /root/nltk_data...\n",
            "       |   Unzipping corpora/pl196x.zip.\n",
            "       | Downloading package ppattach to /root/nltk_data...\n",
            "       |   Unzipping corpora/ppattach.zip.\n",
            "       | Downloading package problem_reports to /root/nltk_data...\n",
            "       |   Unzipping corpora/problem_reports.zip.\n",
            "       | Downloading package propbank to /root/nltk_data...\n",
            "       | Downloading package ptb to /root/nltk_data...\n",
            "       |   Unzipping corpora/ptb.zip.\n",
            "       | Downloading package product_reviews_1 to /root/nltk_data...\n",
            "       |   Unzipping corpora/product_reviews_1.zip.\n",
            "       | Downloading package product_reviews_2 to /root/nltk_data...\n",
            "       |   Unzipping corpora/product_reviews_2.zip.\n",
            "       | Downloading package pros_cons to /root/nltk_data...\n",
            "       |   Unzipping corpora/pros_cons.zip.\n",
            "       | Downloading package qc to /root/nltk_data...\n",
            "       |   Unzipping corpora/qc.zip.\n",
            "       | Downloading package reuters to /root/nltk_data...\n",
            "       | Downloading package rte to /root/nltk_data...\n",
            "       |   Unzipping corpora/rte.zip.\n",
            "       | Downloading package semcor to /root/nltk_data...\n",
            "       | Downloading package senseval to /root/nltk_data...\n",
            "       |   Unzipping corpora/senseval.zip.\n",
            "       | Downloading package sentiwordnet to /root/nltk_data...\n",
            "       |   Unzipping corpora/sentiwordnet.zip.\n",
            "       | Downloading package sentence_polarity to /root/nltk_data...\n",
            "       |   Unzipping corpora/sentence_polarity.zip.\n",
            "       | Downloading package shakespeare to /root/nltk_data...\n",
            "       |   Unzipping corpora/shakespeare.zip.\n",
            "       | Downloading package sinica_treebank to /root/nltk_data...\n",
            "       |   Unzipping corpora/sinica_treebank.zip.\n",
            "       | Downloading package smultron to /root/nltk_data...\n",
            "       |   Unzipping corpora/smultron.zip.\n",
            "       | Downloading package state_union to /root/nltk_data...\n",
            "       |   Unzipping corpora/state_union.zip.\n",
            "       | Downloading package stopwords to /root/nltk_data...\n",
            "       |   Unzipping corpora/stopwords.zip.\n",
            "       | Downloading package subjectivity to /root/nltk_data...\n",
            "       |   Unzipping corpora/subjectivity.zip.\n",
            "       | Downloading package swadesh to /root/nltk_data...\n",
            "       |   Unzipping corpora/swadesh.zip.\n",
            "       | Downloading package switchboard to /root/nltk_data...\n",
            "       |   Unzipping corpora/switchboard.zip.\n",
            "       | Downloading package timit to /root/nltk_data...\n",
            "       |   Unzipping corpora/timit.zip.\n",
            "       | Downloading package toolbox to /root/nltk_data...\n",
            "       |   Unzipping corpora/toolbox.zip.\n",
            "       | Downloading package treebank to /root/nltk_data...\n",
            "       |   Unzipping corpora/treebank.zip.\n",
            "       | Downloading package twitter_samples to /root/nltk_data...\n",
            "       |   Unzipping corpora/twitter_samples.zip.\n",
            "       | Downloading package udhr to /root/nltk_data...\n",
            "       |   Unzipping corpora/udhr.zip.\n",
            "       | Downloading package udhr2 to /root/nltk_data...\n",
            "       |   Unzipping corpora/udhr2.zip.\n",
            "       | Downloading package unicode_samples to /root/nltk_data...\n",
            "       |   Unzipping corpora/unicode_samples.zip.\n",
            "       | Downloading package universal_treebanks_v20 to\n",
            "       |     /root/nltk_data...\n",
            "       | Downloading package verbnet to /root/nltk_data...\n",
            "       |   Unzipping corpora/verbnet.zip.\n",
            "       | Downloading package verbnet3 to /root/nltk_data...\n",
            "       |   Unzipping corpora/verbnet3.zip.\n",
            "       | Downloading package webtext to /root/nltk_data...\n",
            "       |   Unzipping corpora/webtext.zip.\n",
            "       | Downloading package wordnet to /root/nltk_data...\n",
            "       |   Unzipping corpora/wordnet.zip.\n",
            "       | Downloading package wordnet_ic to /root/nltk_data...\n",
            "       |   Unzipping corpora/wordnet_ic.zip.\n",
            "       | Downloading package words to /root/nltk_data...\n",
            "       |   Unzipping corpora/words.zip.\n",
            "       | Downloading package ycoe to /root/nltk_data...\n",
            "       |   Unzipping corpora/ycoe.zip.\n",
            "       | Downloading package rslp to /root/nltk_data...\n",
            "       |   Unzipping stemmers/rslp.zip.\n",
            "       | Downloading package maxent_treebank_pos_tagger to\n",
            "       |     /root/nltk_data...\n",
            "       |   Unzipping taggers/maxent_treebank_pos_tagger.zip.\n",
            "       | Downloading package universal_tagset to /root/nltk_data...\n",
            "       |   Unzipping taggers/universal_tagset.zip.\n",
            "       | Downloading package maxent_ne_chunker to /root/nltk_data...\n",
            "       |   Unzipping chunkers/maxent_ne_chunker.zip.\n",
            "       | Downloading package punkt to /root/nltk_data...\n",
            "       |   Unzipping tokenizers/punkt.zip.\n",
            "       | Downloading package book_grammars to /root/nltk_data...\n",
            "       |   Unzipping grammars/book_grammars.zip.\n",
            "       | Downloading package sample_grammars to /root/nltk_data...\n",
            "       |   Unzipping grammars/sample_grammars.zip.\n",
            "       | Downloading package spanish_grammars to /root/nltk_data...\n",
            "       |   Unzipping grammars/spanish_grammars.zip.\n",
            "       | Downloading package basque_grammars to /root/nltk_data...\n",
            "       |   Unzipping grammars/basque_grammars.zip.\n",
            "       | Downloading package large_grammars to /root/nltk_data...\n",
            "       |   Unzipping grammars/large_grammars.zip.\n",
            "       | Downloading package tagsets to /root/nltk_data...\n",
            "       |   Unzipping help/tagsets.zip.\n",
            "       | Downloading package snowball_data to /root/nltk_data...\n",
            "       | Downloading package bllip_wsj_no_aux to /root/nltk_data...\n",
            "       |   Unzipping models/bllip_wsj_no_aux.zip.\n",
            "       | Downloading package word2vec_sample to /root/nltk_data...\n",
            "       |   Unzipping models/word2vec_sample.zip.\n",
            "       | Downloading package panlex_swadesh to /root/nltk_data...\n",
            "       | Downloading package mte_teip5 to /root/nltk_data...\n",
            "       |   Unzipping corpora/mte_teip5.zip.\n",
            "       | Downloading package averaged_perceptron_tagger to\n",
            "       |     /root/nltk_data...\n",
            "       |   Unzipping taggers/averaged_perceptron_tagger.zip.\n",
            "       | Downloading package averaged_perceptron_tagger_ru to\n",
            "       |     /root/nltk_data...\n",
            "       |   Unzipping taggers/averaged_perceptron_tagger_ru.zip.\n",
            "       | Downloading package perluniprops to /root/nltk_data...\n",
            "       |   Unzipping misc/perluniprops.zip.\n",
            "       | Downloading package nonbreaking_prefixes to\n",
            "       |     /root/nltk_data...\n",
            "       |   Unzipping corpora/nonbreaking_prefixes.zip.\n",
            "       | Downloading package vader_lexicon to /root/nltk_data...\n",
            "       | Downloading package porter_test to /root/nltk_data...\n",
            "       |   Unzipping stemmers/porter_test.zip.\n",
            "       | Downloading package wmt15_eval to /root/nltk_data...\n",
            "       |   Unzipping models/wmt15_eval.zip.\n",
            "       | Downloading package mwa_ppdb to /root/nltk_data...\n",
            "       |   Unzipping misc/mwa_ppdb.zip.\n",
            "       | \n",
            "     Done downloading collection all\n",
            "\n",
            "---------------------------------------------------------------------------\n",
            "    d) Download   l) List    u) Update   c) Config   h) Help   q) Quit\n",
            "---------------------------------------------------------------------------\n",
            "Downloader> q\n"
          ],
          "name": "stdout"
        },
        {
          "output_type": "execute_result",
          "data": {
            "text/plain": [
              "True"
            ]
          },
          "metadata": {
            "tags": []
          },
          "execution_count": 6
        }
      ]
    },
    {
      "cell_type": "markdown",
      "metadata": {
        "id": "RYLsv2gyZSqW"
      },
      "source": [
        "**Dataframe**"
      ]
    },
    {
      "cell_type": "code",
      "metadata": {
        "id": "vq5znv3fZOzl"
      },
      "source": [
        "df = pd.DataFrame (list(zip(train_text, train_labels)) , columns = ['Raw Text', 'Labels'])\n",
        "test_df = pd.DataFrame (list(zip(test_text, test_labels)) , columns = ['Raw Text', 'Labels'])\n",
        "test_df = test_df.dropna()"
      ],
      "execution_count": 9,
      "outputs": []
    },
    {
      "cell_type": "code",
      "metadata": {
        "colab": {
          "base_uri": "https://localhost:8080/",
          "height": 419
        },
        "id": "-k9PQnhmZ9kv",
        "outputId": "ccd6b47e-dea5-446a-fe5d-b0a6519c6d43"
      },
      "source": [
        "df"
      ],
      "execution_count": 10,
      "outputs": [
        {
          "output_type": "execute_result",
          "data": {
            "text/html": [
              "<div>\n",
              "<style scoped>\n",
              "    .dataframe tbody tr th:only-of-type {\n",
              "        vertical-align: middle;\n",
              "    }\n",
              "\n",
              "    .dataframe tbody tr th {\n",
              "        vertical-align: top;\n",
              "    }\n",
              "\n",
              "    .dataframe thead th {\n",
              "        text-align: right;\n",
              "    }\n",
              "</style>\n",
              "<table border=\"1\" class=\"dataframe\">\n",
              "  <thead>\n",
              "    <tr style=\"text-align: right;\">\n",
              "      <th></th>\n",
              "      <th>Raw Text</th>\n",
              "      <th>Labels</th>\n",
              "    </tr>\n",
              "  </thead>\n",
              "  <tbody>\n",
              "    <tr>\n",
              "      <th>0</th>\n",
              "      <td>a stirring , funny and finally transporting re...</td>\n",
              "      <td>1</td>\n",
              "    </tr>\n",
              "    <tr>\n",
              "      <th>1</th>\n",
              "      <td>apparently reassembled from the cutting-room f...</td>\n",
              "      <td>0</td>\n",
              "    </tr>\n",
              "    <tr>\n",
              "      <th>2</th>\n",
              "      <td>they presume their audience wo n't sit still f...</td>\n",
              "      <td>0</td>\n",
              "    </tr>\n",
              "    <tr>\n",
              "      <th>3</th>\n",
              "      <td>this is a visually stunning rumination on love...</td>\n",
              "      <td>1</td>\n",
              "    </tr>\n",
              "    <tr>\n",
              "      <th>4</th>\n",
              "      <td>jonathan parker 's bartleby should have been t...</td>\n",
              "      <td>1</td>\n",
              "    </tr>\n",
              "    <tr>\n",
              "      <th>...</th>\n",
              "      <td>...</td>\n",
              "      <td>...</td>\n",
              "    </tr>\n",
              "    <tr>\n",
              "      <th>6916</th>\n",
              "      <td>take care is nicely performed by a quintet of ...</td>\n",
              "      <td>0</td>\n",
              "    </tr>\n",
              "    <tr>\n",
              "      <th>6917</th>\n",
              "      <td>the script covers huge , heavy topics in a bla...</td>\n",
              "      <td>0</td>\n",
              "    </tr>\n",
              "    <tr>\n",
              "      <th>6918</th>\n",
              "      <td>a seriously bad film with seriously warped log...</td>\n",
              "      <td>0</td>\n",
              "    </tr>\n",
              "    <tr>\n",
              "      <th>6919</th>\n",
              "      <td>a deliciously nonsensical comedy about a city ...</td>\n",
              "      <td>1</td>\n",
              "    </tr>\n",
              "    <tr>\n",
              "      <th>6920</th>\n",
              "      <td></td>\n",
              "      <td></td>\n",
              "    </tr>\n",
              "  </tbody>\n",
              "</table>\n",
              "<p>6921 rows × 2 columns</p>\n",
              "</div>"
            ],
            "text/plain": [
              "                                               Raw Text Labels\n",
              "0     a stirring , funny and finally transporting re...      1\n",
              "1     apparently reassembled from the cutting-room f...      0\n",
              "2     they presume their audience wo n't sit still f...      0\n",
              "3     this is a visually stunning rumination on love...      1\n",
              "4     jonathan parker 's bartleby should have been t...      1\n",
              "...                                                 ...    ...\n",
              "6916  take care is nicely performed by a quintet of ...      0\n",
              "6917  the script covers huge , heavy topics in a bla...      0\n",
              "6918  a seriously bad film with seriously warped log...      0\n",
              "6919  a deliciously nonsensical comedy about a city ...      1\n",
              "6920                                                          \n",
              "\n",
              "[6921 rows x 2 columns]"
            ]
          },
          "metadata": {
            "tags": []
          },
          "execution_count": 10
        }
      ]
    },
    {
      "cell_type": "markdown",
      "metadata": {
        "id": "u1l4srg1aFkm"
      },
      "source": [
        "**Data Preprocessing and Cleaning**"
      ]
    },
    {
      "cell_type": "code",
      "metadata": {
        "colab": {
          "base_uri": "https://localhost:8080/",
          "height": 895
        },
        "id": "hUrUji3cZ-yH",
        "outputId": "79444fa4-554c-4c25-f697-468bc0c80cce"
      },
      "source": [
        "import re\n",
        "import nltk\n",
        "from nltk.corpus import stopwords\n",
        "from textblob import TextBlob\n",
        "from nltk.stem import PorterStemmer\n",
        "from textblob import Word\n",
        "nltk.download('wordnet')\n",
        "st = PorterStemmer()\n",
        "nltk.download('punkt')\n",
        "stop = stopwords.words('english')\n",
        "df['LowerCase'] = df['Raw Text'].apply(lambda x: \" \".join(x.lower() for x in x.split()))\n",
        "df['Remove Punctuation'] = df['LowerCase'].str.replace('[^\\w\\s]','')\n",
        "df['Remove Special Characters'] = df['Remove Punctuation'].apply(lambda x: ''.join(re.sub(r\"[^a-zA-Z0-9]+\", ' ', charctr) for charctr in x ))\n",
        "df['Remove Stopwords'] = df['Remove Punctuation'].apply(lambda x: \" \".join(x for x in x.split() if x not in stop))\n",
        "df['Tokenization'] = df['Remove Stopwords'].apply(lambda x: TextBlob(x).words)\n",
        "df['Lemmatization'] = df['Tokenization'].apply(lambda x: \" \".join([Word(word).lemmatize() for word in x]))\n",
        "test_df['LowerCase'] = test_df['Raw Text'].apply(lambda x: \" \".join(x.lower() for x in x.split()))\n",
        "test_df['Remove Punctuation'] = test_df['LowerCase'].str.replace('[^\\w\\s]','')\n",
        "test_df['Remove Special Characters'] = test_df['Remove Punctuation'].apply(lambda x: ''.join(re.sub(r\"[^a-zA-Z0-9]+\", ' ', charctr) for charctr in x ))\n",
        "test_df['Remove Stopwords'] = test_df['Remove Punctuation'].apply(lambda x: \" \".join(x for x in x.split() if x not in stop))\n",
        "test_df['Tokenization'] = test_df['Remove Stopwords'].apply(lambda x: TextBlob(x).words)\n",
        "test_df['Lemmatization'] = test_df['Tokenization'].apply(lambda x: \" \".join([Word(word).lemmatize() for word in x]))\n",
        "test_df"
      ],
      "execution_count": 13,
      "outputs": [
        {
          "output_type": "stream",
          "text": [
            "[nltk_data] Downloading package wordnet to /root/nltk_data...\n",
            "[nltk_data]   Package wordnet is already up-to-date!\n",
            "[nltk_data] Downloading package punkt to /root/nltk_data...\n",
            "[nltk_data]   Package punkt is already up-to-date!\n"
          ],
          "name": "stdout"
        },
        {
          "output_type": "execute_result",
          "data": {
            "text/html": [
              "<div>\n",
              "<style scoped>\n",
              "    .dataframe tbody tr th:only-of-type {\n",
              "        vertical-align: middle;\n",
              "    }\n",
              "\n",
              "    .dataframe tbody tr th {\n",
              "        vertical-align: top;\n",
              "    }\n",
              "\n",
              "    .dataframe thead th {\n",
              "        text-align: right;\n",
              "    }\n",
              "</style>\n",
              "<table border=\"1\" class=\"dataframe\">\n",
              "  <thead>\n",
              "    <tr style=\"text-align: right;\">\n",
              "      <th></th>\n",
              "      <th>Raw Text</th>\n",
              "      <th>Labels</th>\n",
              "      <th>LowerCase</th>\n",
              "      <th>Remove Punctuation</th>\n",
              "      <th>Remove Special Characters</th>\n",
              "      <th>Remove Stopwords</th>\n",
              "      <th>Tokenization</th>\n",
              "      <th>Lemmatization</th>\n",
              "    </tr>\n",
              "  </thead>\n",
              "  <tbody>\n",
              "    <tr>\n",
              "      <th>0</th>\n",
              "      <td>no movement , no yuks , not much of anything .</td>\n",
              "      <td>0</td>\n",
              "      <td>no movement , no yuks , not much of anything .</td>\n",
              "      <td>no movement  no yuks  not much of anything</td>\n",
              "      <td>no movement  no yuks  not much of anything</td>\n",
              "      <td>movement yuks much anything</td>\n",
              "      <td>[movement, yuks, much, anything]</td>\n",
              "      <td>movement yuks much anything</td>\n",
              "    </tr>\n",
              "    <tr>\n",
              "      <th>1</th>\n",
              "      <td>a gob of drivel so sickly sweet , even the eag...</td>\n",
              "      <td>0</td>\n",
              "      <td>a gob of drivel so sickly sweet , even the eag...</td>\n",
              "      <td>a gob of drivel so sickly sweet  even the eage...</td>\n",
              "      <td>a gob of drivel so sickly sweet  even the eage...</td>\n",
              "      <td>gob drivel sickly sweet even eager consumers m...</td>\n",
              "      <td>[gob, drivel, sickly, sweet, even, eager, cons...</td>\n",
              "      <td>gob drivel sickly sweet even eager consumer mo...</td>\n",
              "    </tr>\n",
              "    <tr>\n",
              "      <th>2</th>\n",
              "      <td>gangs of new york is an unapologetic mess , wh...</td>\n",
              "      <td>0</td>\n",
              "      <td>gangs of new york is an unapologetic mess , wh...</td>\n",
              "      <td>gangs of new york is an unapologetic mess  who...</td>\n",
              "      <td>gangs of new york is an unapologetic mess  who...</td>\n",
              "      <td>gangs new york unapologetic mess whose saving ...</td>\n",
              "      <td>[gangs, new, york, unapologetic, mess, whose, ...</td>\n",
              "      <td>gang new york unapologetic mess whose saving g...</td>\n",
              "    </tr>\n",
              "    <tr>\n",
              "      <th>3</th>\n",
              "      <td>we never really feel involved with the story ,...</td>\n",
              "      <td>0</td>\n",
              "      <td>we never really feel involved with the story ,...</td>\n",
              "      <td>we never really feel involved with the story  ...</td>\n",
              "      <td>we never really feel involved with the story  ...</td>\n",
              "      <td>never really feel involved story ideas remain ...</td>\n",
              "      <td>[never, really, feel, involved, story, ideas, ...</td>\n",
              "      <td>never really feel involved story idea remain a...</td>\n",
              "    </tr>\n",
              "    <tr>\n",
              "      <th>4</th>\n",
              "      <td>this is one of polanski 's best films .</td>\n",
              "      <td>1</td>\n",
              "      <td>this is one of polanski 's best films .</td>\n",
              "      <td>this is one of polanski s best films</td>\n",
              "      <td>this is one of polanski s best films</td>\n",
              "      <td>one polanski best films</td>\n",
              "      <td>[one, polanski, best, films]</td>\n",
              "      <td>one polanski best film</td>\n",
              "    </tr>\n",
              "    <tr>\n",
              "      <th>...</th>\n",
              "      <td>...</td>\n",
              "      <td>...</td>\n",
              "      <td>...</td>\n",
              "      <td>...</td>\n",
              "      <td>...</td>\n",
              "      <td>...</td>\n",
              "      <td>...</td>\n",
              "      <td>...</td>\n",
              "    </tr>\n",
              "    <tr>\n",
              "      <th>1817</th>\n",
              "      <td>the problem with concept films is that if the ...</td>\n",
              "      <td>0</td>\n",
              "      <td>the problem with concept films is that if the ...</td>\n",
              "      <td>the problem with concept films is that if the ...</td>\n",
              "      <td>the problem with concept films is that if the ...</td>\n",
              "      <td>problem concept films concept poor one saving ...</td>\n",
              "      <td>[problem, concept, films, concept, poor, one, ...</td>\n",
              "      <td>problem concept film concept poor one saving m...</td>\n",
              "    </tr>\n",
              "    <tr>\n",
              "      <th>1818</th>\n",
              "      <td>safe conduct , however ambitious and well-inte...</td>\n",
              "      <td>0</td>\n",
              "      <td>safe conduct , however ambitious and well-inte...</td>\n",
              "      <td>safe conduct  however ambitious and wellintent...</td>\n",
              "      <td>safe conduct  however ambitious and wellintent...</td>\n",
              "      <td>safe conduct however ambitious wellintentioned...</td>\n",
              "      <td>[safe, conduct, however, ambitious, wellintent...</td>\n",
              "      <td>safe conduct however ambitious wellintentioned...</td>\n",
              "    </tr>\n",
              "    <tr>\n",
              "      <th>1819</th>\n",
              "      <td>a film made with as little wit , interest , an...</td>\n",
              "      <td>0</td>\n",
              "      <td>a film made with as little wit , interest , an...</td>\n",
              "      <td>a film made with as little wit  interest  and ...</td>\n",
              "      <td>a film made with as little wit  interest  and ...</td>\n",
              "      <td>film made little wit interest professionalism ...</td>\n",
              "      <td>[film, made, little, wit, interest, profession...</td>\n",
              "      <td>film made little wit interest professionalism ...</td>\n",
              "    </tr>\n",
              "    <tr>\n",
              "      <th>1820</th>\n",
              "      <td>but here 's the real damn : it is n't funny , ...</td>\n",
              "      <td>0</td>\n",
              "      <td>but here 's the real damn : it is n't funny , ...</td>\n",
              "      <td>but here s the real damn  it is nt funny  either</td>\n",
              "      <td>but here s the real damn  it is nt funny  either</td>\n",
              "      <td>real damn nt funny either</td>\n",
              "      <td>[real, damn, nt, funny, either]</td>\n",
              "      <td>real damn nt funny either</td>\n",
              "    </tr>\n",
              "    <tr>\n",
              "      <th>1821</th>\n",
              "      <td></td>\n",
              "      <td></td>\n",
              "      <td></td>\n",
              "      <td></td>\n",
              "      <td></td>\n",
              "      <td></td>\n",
              "      <td>[]</td>\n",
              "      <td></td>\n",
              "    </tr>\n",
              "  </tbody>\n",
              "</table>\n",
              "<p>1822 rows × 8 columns</p>\n",
              "</div>"
            ],
            "text/plain": [
              "                                               Raw Text  ...                                      Lemmatization\n",
              "0        no movement , no yuks , not much of anything .  ...                        movement yuks much anything\n",
              "1     a gob of drivel so sickly sweet , even the eag...  ...  gob drivel sickly sweet even eager consumer mo...\n",
              "2     gangs of new york is an unapologetic mess , wh...  ...  gang new york unapologetic mess whose saving g...\n",
              "3     we never really feel involved with the story ,...  ...  never really feel involved story idea remain a...\n",
              "4               this is one of polanski 's best films .  ...                             one polanski best film\n",
              "...                                                 ...  ...                                                ...\n",
              "1817  the problem with concept films is that if the ...  ...  problem concept film concept poor one saving m...\n",
              "1818  safe conduct , however ambitious and well-inte...  ...  safe conduct however ambitious wellintentioned...\n",
              "1819  a film made with as little wit , interest , an...  ...  film made little wit interest professionalism ...\n",
              "1820  but here 's the real damn : it is n't funny , ...  ...                          real damn nt funny either\n",
              "1821                                                     ...                                                   \n",
              "\n",
              "[1822 rows x 8 columns]"
            ]
          },
          "metadata": {
            "tags": []
          },
          "execution_count": 13
        }
      ]
    },
    {
      "cell_type": "code",
      "metadata": {
        "id": "iJDQDfD3bfcs"
      },
      "source": [
        ""
      ],
      "execution_count": null,
      "outputs": []
    },
    {
      "cell_type": "markdown",
      "metadata": {
        "id": "OjMJzMdZbegK"
      },
      "source": [
        "**Transforming Dataset**"
      ]
    },
    {
      "cell_type": "code",
      "metadata": {
        "id": "Q0Wwa0Kla0Or"
      },
      "source": [
        "from sklearn import model_selection, preprocessing, naive_bayes, metrics, svm\n",
        "from sklearn.feature_extraction.text import TfidfVectorizer\n",
        "tfidf_vector = TfidfVectorizer(analyzer='word')\n",
        "tfidf_vector.fit(df['Lemmatization'])\n",
        "x_tfidf =  tfidf_vector.transform(df['Lemmatization'])\n",
        "vector_test = TfidfVectorizer(analyzer='word', vocabulary = tfidf_vector.vocabulary_)\n",
        "vector_test.fit(test_df['Lemmatization'])\n",
        "xtest = vector_test.transform(test_df['Lemmatization'])\n",
        "test_y = test_df['Labels']"
      ],
      "execution_count": 14,
      "outputs": []
    },
    {
      "cell_type": "markdown",
      "metadata": {
        "id": "mCL86vENb7fq"
      },
      "source": [
        "**Split dataset to Training and Testing dataset**"
      ]
    },
    {
      "cell_type": "code",
      "metadata": {
        "id": "40AwFIO9b32C"
      },
      "source": [
        "from sklearn import model_selection, preprocessing, naive_bayes, metrics, svm\n",
        "train_x, valid_x, train_y, valid_y = model_selection.train_test_split(x_tfidf, df['Labels'].values,test_size=0.2)\n",
        "from sklearn import metrics\n",
        "import numpy as np\n",
        "from sklearn.model_selection import cross_val_score, KFold\n",
        "\n",
        "def get_metrics(predictions, test_data_y):\n",
        "  accuracy = metrics.accuracy_score(predictions, test_data_y)\n",
        "  precision = metrics.precision_score(predictions, test_data_y, pos_label='positive', average='micro')\n",
        "  recall = metrics.recall_score(predictions, test_data_y, pos_label='positive', average='micro')\n",
        "  f1 = metrics.f1_score(predictions, test_data_y, pos_label='positive', average='micro')\n",
        "  return accuracy, precision, recall, f1\n",
        "\n",
        "def cross_validation_score(modelName, x, y):\n",
        "  scoring = 'accuracy'\n",
        "  kfold = KFold(10, random_state = 7,shuffle=True)\n",
        "  cross_val = cross_val_score(modelName, x, y, cv=kfold).mean()\n",
        "  return cross_val"
      ],
      "execution_count": 15,
      "outputs": []
    },
    {
      "cell_type": "markdown",
      "metadata": {
        "id": "P06LnajLkbmd"
      },
      "source": [
        "## **Algorithms and Evaluation Metrics**"
      ]
    },
    {
      "cell_type": "markdown",
      "metadata": {
        "id": "OPks7SIVc2En"
      },
      "source": [
        "**Navie Bayes - Validation Metrics**"
      ]
    },
    {
      "cell_type": "code",
      "metadata": {
        "colab": {
          "base_uri": "https://localhost:8080/"
        },
        "id": "AeSd5P90cxQ3",
        "outputId": "398b14c0-8aa7-4df7-edcf-cec138c208a7"
      },
      "source": [
        "naive_bayes_model = naive_bayes.MultinomialNB()\n",
        "naive_bayes_model.fit(train_x, train_y)\n",
        "naive_bayes_predictions_validation_data = naive_bayes_model.predict(valid_x)\n",
        "accuracy, precision, recall, f1 = get_metrics(naive_bayes_predictions_validation_data, valid_y)\n",
        "print(\"Accuracy is: {0}\\nPrecision is: {1}\\nRecall is: {2}\\nF1: is {3}\".format(accuracy, precision, recall, f1))"
      ],
      "execution_count": 16,
      "outputs": [
        {
          "output_type": "stream",
          "text": [
            "Accuracy is: 0.7696750902527075\n",
            "Precision is: 0.7696750902527075\n",
            "Recall is: 0.7696750902527075\n",
            "F1: is 0.7696750902527075\n"
          ],
          "name": "stdout"
        },
        {
          "output_type": "stream",
          "text": [
            "/usr/local/lib/python3.7/dist-packages/sklearn/metrics/_classification.py:1321: UserWarning: Note that pos_label (set to 'positive') is ignored when average != 'binary' (got 'micro'). You may use labels=[pos_label] to specify a single positive class.\n",
            "  % (pos_label, average), UserWarning)\n"
          ],
          "name": "stderr"
        }
      ]
    },
    {
      "cell_type": "markdown",
      "metadata": {
        "id": "_oT53RindFO3"
      },
      "source": [
        "**Cross Validation Score**"
      ]
    },
    {
      "cell_type": "code",
      "metadata": {
        "colab": {
          "base_uri": "https://localhost:8080/"
        },
        "id": "KTTSebRrdAbf",
        "outputId": "e75537e7-8316-4032-a901-915b8925a4b2"
      },
      "source": [
        "nb_scores_mean = cross_validation_score(naive_bayes_model, valid_x, valid_y)\n",
        "print('Navie Bayes Cross Validation Score is: {0}'.format(nb_scores_mean))"
      ],
      "execution_count": 17,
      "outputs": [
        {
          "output_type": "stream",
          "text": [
            "Navie Bayes Cross Validation Score is: 0.7198675841935147\n"
          ],
          "name": "stdout"
        }
      ]
    },
    {
      "cell_type": "markdown",
      "metadata": {
        "id": "F4rhXk5ydPeD"
      },
      "source": [
        "**Test Metrics - Naives Bayes**"
      ]
    },
    {
      "cell_type": "code",
      "metadata": {
        "colab": {
          "base_uri": "https://localhost:8080/"
        },
        "id": "P1gQLEI4dJzt",
        "outputId": "b2037a71-6904-4431-b7a2-1df92b66c79c"
      },
      "source": [
        "naive_bayes_predictions_test_data = naive_bayes_model.predict(xtest)\n",
        "accuracy, precision, recall, f1 = get_metrics(naive_bayes_predictions_test_data, test_y)\n",
        "print(\"Accuracy is: {0}\\nPrecision is: {1}\\nRecall: is {2}\\nF1: is {3}\".format(accuracy, precision, recall, f1))"
      ],
      "execution_count": 18,
      "outputs": [
        {
          "output_type": "stream",
          "text": [
            "Accuracy is: 0.7930845225027442\n",
            "Precision is: 0.7930845225027442\n",
            "Recall: is 0.7930845225027442\n",
            "F1: is 0.7930845225027442\n"
          ],
          "name": "stdout"
        },
        {
          "output_type": "stream",
          "text": [
            "/usr/local/lib/python3.7/dist-packages/sklearn/metrics/_classification.py:1321: UserWarning: Note that pos_label (set to 'positive') is ignored when average != 'binary' (got 'micro'). You may use labels=[pos_label] to specify a single positive class.\n",
            "  % (pos_label, average), UserWarning)\n"
          ],
          "name": "stderr"
        }
      ]
    },
    {
      "cell_type": "markdown",
      "metadata": {
        "id": "L3eTgj_Bdd2l"
      },
      "source": [
        "**Cross Validation Score - Test**"
      ]
    },
    {
      "cell_type": "code",
      "metadata": {
        "colab": {
          "base_uri": "https://localhost:8080/"
        },
        "id": "2nDJ_JKddX3P",
        "outputId": "7c4e3ffd-b5a7-474a-bd31-268ce41f9c5d"
      },
      "source": [
        "nb_test_scores_mean = cross_validation_score(naive_bayes_model, xtest, test_y)\n",
        "print('Navie Bayes Cross Validation Score is: {0}'.format(nb_test_scores_mean))"
      ],
      "execution_count": 19,
      "outputs": [
        {
          "output_type": "stream",
          "text": [
            "Navie Bayes Cross Validation Score is: 0.7371044256290158\n"
          ],
          "name": "stdout"
        }
      ]
    },
    {
      "cell_type": "markdown",
      "metadata": {
        "id": "jj3fLpLndmDP"
      },
      "source": [
        "**SVM - Validation Metrics**"
      ]
    },
    {
      "cell_type": "code",
      "metadata": {
        "colab": {
          "base_uri": "https://localhost:8080/"
        },
        "id": "VlUEw3ICdi3S",
        "outputId": "d122e407-b1d9-4012-928f-05651844b7ee"
      },
      "source": [
        "svm_model = svm.SVC()\n",
        "svm_model.fit(train_x, train_y)\n",
        "svm_predictions_validation_data = svm_model.predict(valid_x)\n",
        "accuracy, precision, recall, f1 = get_metrics(svm_predictions_validation_data, valid_y)\n",
        "print(\"Accuracy is: {0}\\nPrecision is: {1}\\nRecall is: {2}\\nF1 is: {3}\".format(accuracy, precision, recall, f1))"
      ],
      "execution_count": 20,
      "outputs": [
        {
          "output_type": "stream",
          "text": [
            "Accuracy is: 0.7754512635379062\n",
            "Precision is: 0.7754512635379062\n",
            "Recall is: 0.7754512635379062\n",
            "F1 is: 0.7754512635379062\n"
          ],
          "name": "stdout"
        },
        {
          "output_type": "stream",
          "text": [
            "/usr/local/lib/python3.7/dist-packages/sklearn/metrics/_classification.py:1321: UserWarning: Note that pos_label (set to 'positive') is ignored when average != 'binary' (got 'micro'). You may use labels=[pos_label] to specify a single positive class.\n",
            "  % (pos_label, average), UserWarning)\n"
          ],
          "name": "stderr"
        }
      ]
    },
    {
      "cell_type": "markdown",
      "metadata": {
        "id": "bLfpVC9Kdx8p"
      },
      "source": [
        "**Cross Validation Score - SVM**"
      ]
    },
    {
      "cell_type": "code",
      "metadata": {
        "colab": {
          "base_uri": "https://localhost:8080/"
        },
        "id": "ekY8e-gMdrqI",
        "outputId": "b57467c1-7ba5-47f0-8d3e-5d69c7818897"
      },
      "source": [
        "svm_scores_mean = cross_validation_score(svm_model, valid_x, valid_y)\n",
        "print('SVM Cross Validation Score is: {0}'.format(svm_scores_mean))"
      ],
      "execution_count": 21,
      "outputs": [
        {
          "output_type": "stream",
          "text": [
            "SVM Cross Validation Score is: 0.7061255343551246\n"
          ],
          "name": "stdout"
        }
      ]
    },
    {
      "cell_type": "markdown",
      "metadata": {
        "id": "ht8psOEjeDbM"
      },
      "source": [
        "**Test Metrics - SVM**"
      ]
    },
    {
      "cell_type": "code",
      "metadata": {
        "colab": {
          "base_uri": "https://localhost:8080/"
        },
        "id": "-bvlhxwsd49Q",
        "outputId": "1665d908-f25f-4dce-f49e-d1e3298c9e8d"
      },
      "source": [
        "svm_predictions_test_data = svm_model.predict(xtest)\n",
        "accuracy, precision, recall, f1 = get_metrics(svm_predictions_test_data, test_y)\n",
        "print(\"Accuracy is: {0}\\nPrecision is: {1}\\nRecall is: {2}\\nF1 is: {3}\".format(accuracy, precision, recall, f1))"
      ],
      "execution_count": 23,
      "outputs": [
        {
          "output_type": "stream",
          "text": [
            "Accuracy is: 0.7870472008781558\n",
            "Precision is: 0.7870472008781558\n",
            "Recall is: 0.7870472008781558\n",
            "F1 is: 0.7870472008781558\n"
          ],
          "name": "stdout"
        },
        {
          "output_type": "stream",
          "text": [
            "/usr/local/lib/python3.7/dist-packages/sklearn/metrics/_classification.py:1321: UserWarning: Note that pos_label (set to 'positive') is ignored when average != 'binary' (got 'micro'). You may use labels=[pos_label] to specify a single positive class.\n",
            "  % (pos_label, average), UserWarning)\n"
          ],
          "name": "stderr"
        }
      ]
    },
    {
      "cell_type": "markdown",
      "metadata": {
        "id": "Kz_D6bzbeLrf"
      },
      "source": [
        "**Cross Validation Score - SVM Test**"
      ]
    },
    {
      "cell_type": "code",
      "metadata": {
        "colab": {
          "base_uri": "https://localhost:8080/"
        },
        "id": "SC-DwFnOeCWT",
        "outputId": "c5f7fa64-df3f-4813-e138-3adbf23ab2a1"
      },
      "source": [
        "svm_test_scores_mean = cross_validation_score(svm_model, xtest, test_y)\n",
        "print('SVM Cross Validation Score is: {0}'.format(svm_test_scores_mean))"
      ],
      "execution_count": 24,
      "outputs": [
        {
          "output_type": "stream",
          "text": [
            "SVM Cross Validation Score is: 0.7239086050561461\n"
          ],
          "name": "stdout"
        }
      ]
    },
    {
      "cell_type": "markdown",
      "metadata": {
        "id": "mOvKZQNgeUqM"
      },
      "source": [
        "**KNN - Validation Metrics**"
      ]
    },
    {
      "cell_type": "code",
      "metadata": {
        "colab": {
          "base_uri": "https://localhost:8080/"
        },
        "id": "GvMVbt4WeP-l",
        "outputId": "b094f240-be03-4561-fa08-2cff6f6291b4"
      },
      "source": [
        "from sklearn.neighbors import KNeighborsClassifier\n",
        "knn_model = KNeighborsClassifier(n_neighbors = 15)\n",
        "knn_model.fit(train_x, train_y)\n",
        "knn_predictions_valid_data = knn_model.predict(valid_x)\n",
        "accuracy, precision, recall, f1 = get_metrics(knn_predictions_valid_data, valid_y)\n",
        "print(\"Accuracy is: {0}\\nPrecision is: {1}\\nRecall is: {2}\\nF1 is: {3}\".format(accuracy, precision, recall, f1))"
      ],
      "execution_count": 25,
      "outputs": [
        {
          "output_type": "stream",
          "text": [
            "Accuracy is: 0.6620938628158844\n",
            "Precision is: 0.6620938628158844\n",
            "Recall is: 0.6620938628158844\n",
            "F1 is: 0.6620938628158844\n"
          ],
          "name": "stdout"
        },
        {
          "output_type": "stream",
          "text": [
            "/usr/local/lib/python3.7/dist-packages/sklearn/metrics/_classification.py:1321: UserWarning: Note that pos_label (set to 'positive') is ignored when average != 'binary' (got 'micro'). You may use labels=[pos_label] to specify a single positive class.\n",
            "  % (pos_label, average), UserWarning)\n"
          ],
          "name": "stderr"
        }
      ]
    },
    {
      "cell_type": "markdown",
      "metadata": {
        "id": "WjtaVlkZec0I"
      },
      "source": [
        "**Cross Validation Score - KNN**"
      ]
    },
    {
      "cell_type": "code",
      "metadata": {
        "colab": {
          "base_uri": "https://localhost:8080/"
        },
        "id": "brrJJyhleaTg",
        "outputId": "eba6b823-076b-41d4-9d05-9ec035588976"
      },
      "source": [
        "knn_scores_mean = cross_validation_score(knn_model, valid_x, valid_y)\n",
        "print('KNN Cross Validation Score is: {0}'.format(knn_scores_mean))"
      ],
      "execution_count": 26,
      "outputs": [
        {
          "output_type": "stream",
          "text": [
            "KNN Cross Validation Score is: 0.7097278698780107\n"
          ],
          "name": "stdout"
        }
      ]
    },
    {
      "cell_type": "markdown",
      "metadata": {
        "id": "jJmUHyqCemDF"
      },
      "source": [
        "**Test Metrics - KNN**"
      ]
    },
    {
      "cell_type": "code",
      "metadata": {
        "colab": {
          "base_uri": "https://localhost:8080/"
        },
        "id": "VgLm_XK8ejJs",
        "outputId": "4bab9610-fd06-4fce-b490-0168dcf1ace4"
      },
      "source": [
        "knn_predictions_test_dataset = knn_model.predict(xtest)\n",
        "accuracy, precision, recall, f1 = get_metrics(knn_predictions_test_dataset, test_y)\n",
        "print(\"Accuracy is: {0}\\nPrecision is: {1}\\nRecall is: {2}\\nF1 is: {3}\".format(accuracy, precision, recall, f1))"
      ],
      "execution_count": 27,
      "outputs": [
        {
          "output_type": "stream",
          "text": [
            "Accuracy is: 0.6783754116355654\n",
            "Precision is: 0.6783754116355654\n",
            "Recall is: 0.6783754116355654\n",
            "F1 is: 0.6783754116355654\n"
          ],
          "name": "stdout"
        },
        {
          "output_type": "stream",
          "text": [
            "/usr/local/lib/python3.7/dist-packages/sklearn/metrics/_classification.py:1321: UserWarning: Note that pos_label (set to 'positive') is ignored when average != 'binary' (got 'micro'). You may use labels=[pos_label] to specify a single positive class.\n",
            "  % (pos_label, average), UserWarning)\n"
          ],
          "name": "stderr"
        }
      ]
    },
    {
      "cell_type": "markdown",
      "metadata": {
        "id": "mO5HO6c6fF3V"
      },
      "source": [
        "**Cross Validation Score - Test KNN**"
      ]
    },
    {
      "cell_type": "code",
      "metadata": {
        "colab": {
          "base_uri": "https://localhost:8080/"
        },
        "id": "H8b4190Fe40K",
        "outputId": "5244b815-bece-4b8c-c2bc-a1540282185e"
      },
      "source": [
        "knn_test_scores_mean = cross_validation_score(knn_model, xtest, test_y)\n",
        "print('KNN Cross Validation Score is: {0}'.format(knn_test_scores_mean))"
      ],
      "execution_count": 28,
      "outputs": [
        {
          "output_type": "stream",
          "text": [
            "KNN Cross Validation Score is: 0.6361376328589443\n"
          ],
          "name": "stdout"
        }
      ]
    },
    {
      "cell_type": "markdown",
      "metadata": {
        "id": "lU8bu1FofTi8"
      },
      "source": [
        "Decision Tree - Validation Metrics"
      ]
    },
    {
      "cell_type": "code",
      "metadata": {
        "colab": {
          "base_uri": "https://localhost:8080/"
        },
        "id": "E7fj-3DVfJMt",
        "outputId": "e68abf90-972d-4818-8c64-eb0b7bb18988"
      },
      "source": [
        "from sklearn.tree import DecisionTreeClassifier\n",
        "DT_model = DecisionTreeClassifier()\n",
        "DT_model.fit(train_x, train_y)\n",
        "DT_predictions_valid_data = DT_model.predict(valid_x)\n",
        "accuracy, precision, recall, f1 = get_metrics(DT_predictions_valid_data, valid_y)\n",
        "print(\"Accuracy is: {0}\\nPrecision is: {1}\\nRecall is: {2}\\nF1 is: {3}\".format(accuracy, precision, recall, f1))"
      ],
      "execution_count": 29,
      "outputs": [
        {
          "output_type": "stream",
          "text": [
            "Accuracy is: 0.6433212996389892\n",
            "Precision is: 0.6433212996389892\n",
            "Recall is: 0.6433212996389892\n",
            "F1 is: 0.6433212996389892\n"
          ],
          "name": "stdout"
        },
        {
          "output_type": "stream",
          "text": [
            "/usr/local/lib/python3.7/dist-packages/sklearn/metrics/_classification.py:1321: UserWarning: Note that pos_label (set to 'positive') is ignored when average != 'binary' (got 'micro'). You may use labels=[pos_label] to specify a single positive class.\n",
            "  % (pos_label, average), UserWarning)\n"
          ],
          "name": "stderr"
        }
      ]
    },
    {
      "cell_type": "markdown",
      "metadata": {
        "id": "iW8D7LAzfiaN"
      },
      "source": [
        "**Cross Validation Score - DT**"
      ]
    },
    {
      "cell_type": "code",
      "metadata": {
        "colab": {
          "base_uri": "https://localhost:8080/"
        },
        "id": "MteK3httffDN",
        "outputId": "23c9b0b5-32ed-4476-fa76-19db27167fb2"
      },
      "source": [
        "DT_scores_mean = cross_validation_score(DT_model, valid_x, valid_y)\n",
        "print('Decision Tree Cross Validation Score is: {0}'.format(DT_scores_mean))"
      ],
      "execution_count": 33,
      "outputs": [
        {
          "output_type": "stream",
          "text": [
            "Decision Tree Cross Validation Score is: 0.6137211969554791\n"
          ],
          "name": "stdout"
        }
      ]
    },
    {
      "cell_type": "markdown",
      "metadata": {
        "id": "4YffsUMlftHE"
      },
      "source": [
        "**Test Metrics - DT**"
      ]
    },
    {
      "cell_type": "code",
      "metadata": {
        "colab": {
          "base_uri": "https://localhost:8080/"
        },
        "id": "d7NdOzBrfn4M",
        "outputId": "1ebb0d8a-5355-4c5b-cd53-12fa2e8c0a09"
      },
      "source": [
        "DT_predictions_test_data = DT_model.predict(xtest)\n",
        "accuracy, precision, recall, f1 = get_metrics(DT_predictions_test_data, test_y)\n",
        "print(\"Accuracy is: {0}\\nPrecision is: {1}\\nRecall is: {2}\\nF1 is: {3}\".format(accuracy, precision, recall, f1))"
      ],
      "execution_count": 34,
      "outputs": [
        {
          "output_type": "stream",
          "text": [
            "Accuracy is: 0.6536772777167947\n",
            "Precision is: 0.6536772777167947\n",
            "Recall is: 0.6536772777167947\n",
            "F1 is: 0.6536772777167947\n"
          ],
          "name": "stdout"
        },
        {
          "output_type": "stream",
          "text": [
            "/usr/local/lib/python3.7/dist-packages/sklearn/metrics/_classification.py:1321: UserWarning: Note that pos_label (set to 'positive') is ignored when average != 'binary' (got 'micro'). You may use labels=[pos_label] to specify a single positive class.\n",
            "  % (pos_label, average), UserWarning)\n"
          ],
          "name": "stderr"
        }
      ]
    },
    {
      "cell_type": "markdown",
      "metadata": {
        "id": "7tYYVfCjf6YX"
      },
      "source": [
        "**Cross Validation Score - Test DT**"
      ]
    },
    {
      "cell_type": "code",
      "metadata": {
        "colab": {
          "base_uri": "https://localhost:8080/"
        },
        "id": "yLWqhkK6f4Qg",
        "outputId": "3a035766-e091-42fd-9fc4-e23e6c4111d2"
      },
      "source": [
        "DT_test_scores_mean = cross_validation_score(DT_model, xtest, test_y)\n",
        "print('Decision Tree Cross Validation Score is: {0}'.format(DT_test_scores_mean))"
      ],
      "execution_count": 35,
      "outputs": [
        {
          "output_type": "stream",
          "text": [
            "Decision Tree Cross Validation Score is: 0.6240317059989191\n"
          ],
          "name": "stdout"
        }
      ]
    },
    {
      "cell_type": "markdown",
      "metadata": {
        "id": "9ec1eWw6gGJd"
      },
      "source": [
        "Random Forest - Validation Metrics"
      ]
    },
    {
      "cell_type": "code",
      "metadata": {
        "colab": {
          "base_uri": "https://localhost:8080/"
        },
        "id": "CW54XMsQgCuD",
        "outputId": "4bed56e2-fdc0-49ca-821f-283a82444d1b"
      },
      "source": [
        "from sklearn.ensemble import RandomForestClassifier\n",
        "RF_model = RandomForestClassifier()\n",
        "RF_model.fit(train_x, train_y)\n",
        "RF_predictions_valid_data = RF_model.predict(valid_x)\n",
        "accuracy, precision, recall, f1 = get_metrics(RF_predictions_valid_data, valid_y)\n",
        "print(\"Accuracy is: {0}\\nPrecision is: {1}\\nRecall is: {2}\\nF1 is: {3}\".format(accuracy, precision, recall, f1))"
      ],
      "execution_count": 36,
      "outputs": [
        {
          "output_type": "stream",
          "text": [
            "Accuracy is: 0.7328519855595668\n",
            "Precision is: 0.7328519855595668\n",
            "Recall is: 0.7328519855595668\n",
            "F1 is: 0.7328519855595668\n"
          ],
          "name": "stdout"
        },
        {
          "output_type": "stream",
          "text": [
            "/usr/local/lib/python3.7/dist-packages/sklearn/metrics/_classification.py:1321: UserWarning: Note that pos_label (set to 'positive') is ignored when average != 'binary' (got 'micro'). You may use labels=[pos_label] to specify a single positive class.\n",
            "  % (pos_label, average), UserWarning)\n"
          ],
          "name": "stderr"
        }
      ]
    },
    {
      "cell_type": "markdown",
      "metadata": {
        "id": "JA_CQUtVgVJi"
      },
      "source": [
        "**Cross Validation Scorev - RF**"
      ]
    },
    {
      "cell_type": "code",
      "metadata": {
        "colab": {
          "base_uri": "https://localhost:8080/"
        },
        "id": "fIfLpOGngSud",
        "outputId": "3b688ff9-d19f-4c77-aec6-f9b5cd3bb3e4"
      },
      "source": [
        "RF_scores_mean = cross_validation_score(RF_model, valid_x, valid_y)\n",
        "print('Random Forest Cross Validation Score is: {0}'.format(RF_scores_mean))"
      ],
      "execution_count": 37,
      "outputs": [
        {
          "output_type": "stream",
          "text": [
            "Random Forest Cross Validation Score is: 0.666416432071734\n"
          ],
          "name": "stdout"
        }
      ]
    },
    {
      "cell_type": "markdown",
      "metadata": {
        "id": "B4GnAdOVggN8"
      },
      "source": [
        "**Test Metrics - RF**"
      ]
    },
    {
      "cell_type": "code",
      "metadata": {
        "colab": {
          "base_uri": "https://localhost:8080/"
        },
        "id": "rg4sBNblgcux",
        "outputId": "d0fd142a-d64f-4ae6-9d56-fad3c1add1ec"
      },
      "source": [
        "RF_predictions_test_data = RF_model.predict(xtest)\n",
        "accuracy, precision, recall, f1 = get_metrics(RF_predictions_test_data, test_y)\n",
        "print(\"Accuracy is: {0}\\nPrecision is: {1}\\nRecall is: {2}\\nF1 is: {3}\".format(accuracy, precision, recall, f1))"
      ],
      "execution_count": 38,
      "outputs": [
        {
          "output_type": "stream",
          "text": [
            "Accuracy is: 0.7414928649835346\n",
            "Precision is: 0.7414928649835346\n",
            "Recall is: 0.7414928649835346\n",
            "F1 is: 0.7414928649835347\n"
          ],
          "name": "stdout"
        },
        {
          "output_type": "stream",
          "text": [
            "/usr/local/lib/python3.7/dist-packages/sklearn/metrics/_classification.py:1321: UserWarning: Note that pos_label (set to 'positive') is ignored when average != 'binary' (got 'micro'). You may use labels=[pos_label] to specify a single positive class.\n",
            "  % (pos_label, average), UserWarning)\n"
          ],
          "name": "stderr"
        }
      ]
    },
    {
      "cell_type": "markdown",
      "metadata": {
        "id": "tQHSrIIohWyu"
      },
      "source": [
        "**Cross Validation Score - Test RF**"
      ]
    },
    {
      "cell_type": "code",
      "metadata": {
        "colab": {
          "base_uri": "https://localhost:8080/"
        },
        "id": "Q3wnynKJhTLI",
        "outputId": "0ba26dff-d317-4e87-f4fa-170d528b2abb"
      },
      "source": [
        "RF_test_scores_mean = cross_validation_score(RF_model, xtest, test_y)\n",
        "print('Random Forest Cross Validation Score is: {0}'.format(RF_test_scores_mean))"
      ],
      "execution_count": 39,
      "outputs": [
        {
          "output_type": "stream",
          "text": [
            "Random Forest Cross Validation Score is: 0.6652014652014653\n"
          ],
          "name": "stdout"
        }
      ]
    },
    {
      "cell_type": "markdown",
      "metadata": {
        "id": "t6mSGxEgh3y8"
      },
      "source": [
        "**XG Boost - Validation Metrics**"
      ]
    },
    {
      "cell_type": "code",
      "metadata": {
        "colab": {
          "base_uri": "https://localhost:8080/"
        },
        "id": "9BCXRJ9Qht5Y",
        "outputId": "0cd2bb7e-623d-4d56-a3d6-766a2cb1638e"
      },
      "source": [
        "from xgboost import XGBClassifier\n",
        "XG_model = XGBClassifier()\n",
        "XG_model.fit(train_x, train_y)\n",
        "XG_predictions_valid_data = XG_model.predict(valid_x)\n",
        "accuracy, precision, recall, f1 = get_metrics(XG_predictions_valid_data, valid_y)\n",
        "print(\"Accuracy is: {0}\\nPrecision is: {1}\\nRecall is: {2}\\nF1 is: {3}\".format(accuracy, precision, recall, f1))"
      ],
      "execution_count": 40,
      "outputs": [
        {
          "output_type": "stream",
          "text": [
            "Accuracy is: 0.6397111913357401\n",
            "Precision is: 0.6397111913357401\n",
            "Recall is: 0.6397111913357401\n",
            "F1 is: 0.6397111913357401\n"
          ],
          "name": "stdout"
        },
        {
          "output_type": "stream",
          "text": [
            "/usr/local/lib/python3.7/dist-packages/sklearn/metrics/_classification.py:1321: UserWarning: Note that pos_label (set to 'positive') is ignored when average != 'binary' (got 'micro'). You may use labels=[pos_label] to specify a single positive class.\n",
            "  % (pos_label, average), UserWarning)\n"
          ],
          "name": "stderr"
        }
      ]
    },
    {
      "cell_type": "markdown",
      "metadata": {
        "id": "bfsiBF2ZiFRk"
      },
      "source": [
        "**Cross Validation Score - XG**"
      ]
    },
    {
      "cell_type": "code",
      "metadata": {
        "colab": {
          "base_uri": "https://localhost:8080/"
        },
        "id": "V1HRdat9iCX4",
        "outputId": "3faf5c59-8de3-4cb8-d66f-8cab049c0616"
      },
      "source": [
        "XG_scores_mean = cross_validation_score(XGBClassifier(), valid_x, valid_y)\n",
        "print('XG Boost Cross Validation Score is {0}'.format(XG_scores_mean))"
      ],
      "execution_count": 41,
      "outputs": [
        {
          "output_type": "stream",
          "text": [
            "XG Boost Cross Validation Score is 0.6137107705140236\n"
          ],
          "name": "stdout"
        }
      ]
    },
    {
      "cell_type": "markdown",
      "metadata": {
        "id": "xS-Lt-UWiPNL"
      },
      "source": [
        "**Test Metrics - XG**"
      ]
    },
    {
      "cell_type": "code",
      "metadata": {
        "colab": {
          "base_uri": "https://localhost:8080/"
        },
        "id": "6p0jQLEsiL8G",
        "outputId": "e305d893-5f6d-4634-e4f4-90c535aa8259"
      },
      "source": [
        "XG_predictions_test_data = XG_model.predict(xtest)\n",
        "accuracy, precision, recall, f1 = get_metrics(XG_predictions_test_data, test_y)\n",
        "print(\"Accuracy is: {0}\\nPrecision is: {1}\\nRecall is: {2}\\nF1 is: {3}\".format(accuracy, precision, recall, f1))"
      ],
      "execution_count": 42,
      "outputs": [
        {
          "output_type": "stream",
          "text": [
            "Accuracy is: 0.6377607025246982\n",
            "Precision is: 0.6377607025246982\n",
            "Recall is: 0.6377607025246982\n",
            "F1 is: 0.6377607025246982\n"
          ],
          "name": "stdout"
        },
        {
          "output_type": "stream",
          "text": [
            "/usr/local/lib/python3.7/dist-packages/sklearn/metrics/_classification.py:1321: UserWarning: Note that pos_label (set to 'positive') is ignored when average != 'binary' (got 'micro'). You may use labels=[pos_label] to specify a single positive class.\n",
            "  % (pos_label, average), UserWarning)\n"
          ],
          "name": "stderr"
        }
      ]
    },
    {
      "cell_type": "markdown",
      "metadata": {
        "id": "ULJqZmUJicYF"
      },
      "source": [
        "**Cross Validation Score - Test XG**"
      ]
    },
    {
      "cell_type": "code",
      "metadata": {
        "colab": {
          "base_uri": "https://localhost:8080/"
        },
        "id": "t9mWKgibiZqa",
        "outputId": "e3430e3e-849d-45a0-b468-ce4f12b9a805"
      },
      "source": [
        "XG_test_scores_mean = cross_validation_score(XGBClassifier(), xtest, test_y)\n",
        "print('XG Boost Cross Validation Score is: {0}'.format(XG_test_scores_mean))"
      ],
      "execution_count": 44,
      "outputs": [
        {
          "output_type": "stream",
          "text": [
            "XG Boost Cross Validation Score is: 0.6251035849396506\n"
          ],
          "name": "stdout"
        }
      ]
    },
    {
      "cell_type": "code",
      "metadata": {
        "id": "AI42h10tjKPL"
      },
      "source": [
        ""
      ],
      "execution_count": null,
      "outputs": []
    },
    {
      "cell_type": "markdown",
      "metadata": {
        "id": "N7FYhKsyi78m"
      },
      "source": [
        "**Evaluation Metrics of test data for all models:**\n",
        "\n",
        "*   Navie Bayes   - 76.96%\n",
        "*   SVM           - 78.80%\n",
        "*   KNN           - 67.83%\n",
        "*   Decision Tree - 65.36%\n",
        "*   Random Forest - 74.14%\n",
        "*   XG Boost      - 63.77%\n"
      ]
    },
    {
      "cell_type": "code",
      "metadata": {
        "id": "FMeQGInPjHfL"
      },
      "source": [
        ""
      ],
      "execution_count": null,
      "outputs": []
    }
  ]
}